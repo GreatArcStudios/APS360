{
 "cells": [
  {
   "cell_type": "markdown",
   "metadata": {
    "colab_type": "text",
    "id": "OhtOdxzd1ppr"
   },
   "source": [
    "# Lab 4: Data Imputation using an Autoencoder\n",
    "\n",
    "\n",
    "In this lab, you will build and train an autoencoder to impute (or \"fill in\") missing data. \n",
    "\n",
    "We will be using the\n",
    "Adult Data Set provided by the UCI Machine Learning Repository [1], available \n",
    "at https://archive.ics.uci.edu/ml/datasets/adult.\n",
    "The data set contains census record files of adults, including their\n",
    "age, martial status, the type of work they do, and other features. \n",
    "\n",
    "Normally, people use this data set to build a supervised classification\n",
    "model to classify whether a person is a high income earner.\n",
    "We will not use the dataset for this original intended purpose.\n",
    "\n",
    "Instead, we will perform the task of imputing (or \"filling in\") missing values in the dataset. For example,\n",
    "we may be missing one person's martial status, and another person's age, and\n",
    "a third person's level of education. Our model will predict the missing features \n",
    "based on the information that we do have about each person.\n",
    "\n",
    "We will use a variation of a denoising autoencoder to solve this data imputation\n",
    "problem. Our autoencoder will be trained using inputs that have one categorical feature artificially\n",
    "removed, and the goal of the autoencoder is to correctly reconstruct all features,\n",
    "including the one removed from the input.\n",
    "\n",
    "In the process, you are expected to learn to:\n",
    "\n",
    "1. Clean and process continuous and categorical data for machine learning.\n",
    "2. Implement an autoencoder that takes continuous and categorical (one-hot) inputs.\n",
    "3. Tune the hyperparameters of an autoencoder.\n",
    "4. Use baseline models to help interpret model performance.\n",
    "\n",
    "[1] Dua, D. and Karra Taniskidou, E. (2017). UCI Machine Learning Repository [http://archive.ics.uci.edu/ml]. Irvine, CA: University of California, School of Information and Computer Science.\n",
    "\n",
    "\n",
    "### What to submit\n",
    "\n",
    "Submit a PDF file containing all your code, outputs, and write-up. You can produce a PDF of your Google Colab file by going to File > Print and then save as PDF. The Colab instructions have more information.\n",
    "\n",
    "Do not submit any other files produced by your code.\n",
    "\n",
    "Include a link to your colab file in your submission.\n"
   ]
  },
  {
   "attachments": {},
   "cell_type": "markdown",
   "metadata": {
    "colab_type": "text",
    "id": "zbnrp2ig1pps"
   },
   "source": [
    "## Colab Link\n",
    "\n",
    "Include a link to your Colab file here. If you would like the TA to look at your\n",
    "Colab file in case your solutions are cut off, **please make sure that your Colab\n",
    "file is publicly accessible at the time of submission**.\n",
    "\n",
    "Colab Link: [https://colab.research.google.com/github/GreatArcStudios/APS360/blob/master/Lab%204/Lab4%20Data%20Imputation.ipynb](https://colab.research.google.com/github/GreatArcStudios/APS360/blob/master/Lab%204/Lab4%20Data%20Imputation.ipynb)"
   ]
  },
  {
   "cell_type": "code",
   "execution_count": 1,
   "metadata": {
    "colab": {},
    "colab_type": "code",
    "collapsed": true,
    "id": "z3p8N43E1ppt",
    "jupyter": {
     "outputs_hidden": true
    }
   },
   "outputs": [],
   "source": [
    "import csv\n",
    "import numpy as np\n",
    "import random\n",
    "import torch\n",
    "import torch.utils.data"
   ]
  },
  {
   "cell_type": "markdown",
   "metadata": {
    "colab_type": "text",
    "id": "8ROwtHcz1ppx"
   },
   "source": [
    "## Part 0\n",
    "\n",
    "We will be using a package called `pandas` for this assignment. \n",
    "\n",
    "If you are using Colab, `pandas` should already be available.\n",
    "If you are using your own computer,\n",
    "installation instructions for `pandas` are available here: \n",
    "https://pandas.pydata.org/pandas-docs/stable/install.html"
   ]
  },
  {
   "cell_type": "code",
   "execution_count": 2,
   "metadata": {
    "colab": {},
    "colab_type": "code",
    "collapsed": true,
    "id": "IXQ7BP151ppz",
    "jupyter": {
     "outputs_hidden": true
    }
   },
   "outputs": [],
   "source": [
    "import pandas as pd"
   ]
  },
  {
   "cell_type": "markdown",
   "metadata": {
    "colab_type": "text",
    "id": "hqXihb4Q1pp2"
   },
   "source": [
    "# Part 1. Data Cleaning [15 pt]\n",
    "\n",
    "The adult.data file is available at `https://archive.ics.uci.edu/ml/machine-learning-databases/adult/adult.data`\n",
    "\n",
    "The function `pd.read_csv` loads the adult.data file into a pandas dataframe.\n",
    "You can read about the pandas documentation for `pd.read_csv` at\n",
    "https://pandas.pydata.org/pandas-docs/stable/reference/api/pandas.read_csv.html"
   ]
  },
  {
   "cell_type": "code",
   "execution_count": 175,
   "metadata": {
    "colab": {},
    "colab_type": "code",
    "collapsed": true,
    "id": "EOMItFKn1pp3",
    "jupyter": {
     "outputs_hidden": true
    }
   },
   "outputs": [
    {
     "name": "stderr",
     "output_type": "stream",
     "text": [
      "C:\\Users\\ericz\\AppData\\Local\\Temp\\ipykernel_31408\\1439901705.py:3: ParserWarning: Length of header or names does not match length of data. This leads to a loss of data with index_col=False.\n",
      "  df_full = pd.read_csv(\n"
     ]
    }
   ],
   "source": [
    "header = ['age', 'work', 'fnlwgt', 'edu', 'yredu', 'marriage', 'occupation',\n",
    " 'relationship', 'race', 'sex', 'capgain', 'caploss', 'workhr', 'country']\n",
    "df_full = pd.read_csv(\n",
    "    \"https://archive.ics.uci.edu/ml/machine-learning-databases/adult/adult.data\",\n",
    "    names=header,\n",
    "    index_col=False)\n",
    "df = df_full"
   ]
  },
  {
   "cell_type": "code",
   "execution_count": 176,
   "metadata": {
    "colab": {},
    "colab_type": "code",
    "id": "62Ot405q1pp5",
    "outputId": "c90e1be4-182d-4816-c20f-5d65fe414844",
    "scrolled": true
   },
   "outputs": [
    {
     "data": {
      "text/plain": [
       "(32561, 14)"
      ]
     },
     "execution_count": 176,
     "metadata": {},
     "output_type": "execute_result"
    }
   ],
   "source": [
    "df.shape # there are 32561 rows (records) in the data frame, and 14 columns (features)"
   ]
  },
  {
   "cell_type": "markdown",
   "metadata": {
    "colab_type": "text",
    "id": "Tr7YG-QY1pp8"
   },
   "source": [
    "### Part (a) Continuous Features [3 pt]\n",
    "\n",
    "For each of the columns `[\"age\", \"yredu\", \"capgain\", \"caploss\", \"workhr\"]`, report the minimum, maximum, and average value across the dataset. \n",
    "\n",
    "Then, normalize each of the features `[\"age\", \"yredu\", \"capgain\", \"caploss\", \"workhr\"]`\n",
    "so that their values are always between 0 and 1.\n",
    "Make sure that you are actually modifying the dataframe `df`. \n",
    "\n",
    "Like numpy arrays and torch tensors, \n",
    "pandas data frames can be sliced. For example, we can\n",
    "display the first 3 rows of the data frame (3 records) below."
   ]
  },
  {
   "cell_type": "code",
   "execution_count": 177,
   "metadata": {
    "colab": {},
    "colab_type": "code",
    "id": "9evSLsSa1pp9",
    "outputId": "cd1c2aee-df56-4df1-df16-3247d929a7b3"
   },
   "outputs": [
    {
     "data": {
      "text/html": [
       "<div>\n",
       "<style scoped>\n",
       "    .dataframe tbody tr th:only-of-type {\n",
       "        vertical-align: middle;\n",
       "    }\n",
       "\n",
       "    .dataframe tbody tr th {\n",
       "        vertical-align: top;\n",
       "    }\n",
       "\n",
       "    .dataframe thead th {\n",
       "        text-align: right;\n",
       "    }\n",
       "</style>\n",
       "<table border=\"1\" class=\"dataframe\">\n",
       "  <thead>\n",
       "    <tr style=\"text-align: right;\">\n",
       "      <th></th>\n",
       "      <th>age</th>\n",
       "      <th>work</th>\n",
       "      <th>fnlwgt</th>\n",
       "      <th>edu</th>\n",
       "      <th>yredu</th>\n",
       "      <th>marriage</th>\n",
       "      <th>occupation</th>\n",
       "      <th>relationship</th>\n",
       "      <th>race</th>\n",
       "      <th>sex</th>\n",
       "      <th>capgain</th>\n",
       "      <th>caploss</th>\n",
       "      <th>workhr</th>\n",
       "      <th>country</th>\n",
       "    </tr>\n",
       "  </thead>\n",
       "  <tbody>\n",
       "    <tr>\n",
       "      <th>0</th>\n",
       "      <td>39</td>\n",
       "      <td>State-gov</td>\n",
       "      <td>77516</td>\n",
       "      <td>Bachelors</td>\n",
       "      <td>13</td>\n",
       "      <td>Never-married</td>\n",
       "      <td>Adm-clerical</td>\n",
       "      <td>Not-in-family</td>\n",
       "      <td>White</td>\n",
       "      <td>Male</td>\n",
       "      <td>2174</td>\n",
       "      <td>0</td>\n",
       "      <td>40</td>\n",
       "      <td>United-States</td>\n",
       "    </tr>\n",
       "    <tr>\n",
       "      <th>1</th>\n",
       "      <td>50</td>\n",
       "      <td>Self-emp-not-inc</td>\n",
       "      <td>83311</td>\n",
       "      <td>Bachelors</td>\n",
       "      <td>13</td>\n",
       "      <td>Married-civ-spouse</td>\n",
       "      <td>Exec-managerial</td>\n",
       "      <td>Husband</td>\n",
       "      <td>White</td>\n",
       "      <td>Male</td>\n",
       "      <td>0</td>\n",
       "      <td>0</td>\n",
       "      <td>13</td>\n",
       "      <td>United-States</td>\n",
       "    </tr>\n",
       "    <tr>\n",
       "      <th>2</th>\n",
       "      <td>38</td>\n",
       "      <td>Private</td>\n",
       "      <td>215646</td>\n",
       "      <td>HS-grad</td>\n",
       "      <td>9</td>\n",
       "      <td>Divorced</td>\n",
       "      <td>Handlers-cleaners</td>\n",
       "      <td>Not-in-family</td>\n",
       "      <td>White</td>\n",
       "      <td>Male</td>\n",
       "      <td>0</td>\n",
       "      <td>0</td>\n",
       "      <td>40</td>\n",
       "      <td>United-States</td>\n",
       "    </tr>\n",
       "  </tbody>\n",
       "</table>\n",
       "</div>"
      ],
      "text/plain": [
       "   age               work  fnlwgt         edu  yredu             marriage  \\\n",
       "0   39          State-gov   77516   Bachelors     13        Never-married   \n",
       "1   50   Self-emp-not-inc   83311   Bachelors     13   Married-civ-spouse   \n",
       "2   38            Private  215646     HS-grad      9             Divorced   \n",
       "\n",
       "           occupation    relationship    race    sex  capgain  caploss  \\\n",
       "0        Adm-clerical   Not-in-family   White   Male     2174        0   \n",
       "1     Exec-managerial         Husband   White   Male        0        0   \n",
       "2   Handlers-cleaners   Not-in-family   White   Male        0        0   \n",
       "\n",
       "   workhr         country  \n",
       "0      40   United-States  \n",
       "1      13   United-States  \n",
       "2      40   United-States  "
      ]
     },
     "execution_count": 177,
     "metadata": {},
     "output_type": "execute_result"
    }
   ],
   "source": [
    "df[:3] # show the first 3 records"
   ]
  },
  {
   "cell_type": "markdown",
   "metadata": {
    "colab_type": "text",
    "id": "gBOojI6W1pqA"
   },
   "source": [
    "Alternatively, we can slice based on column names, \n",
    "for example `df[\"race\"]`, `df[\"hr\"]`, or even index multiple columns \n",
    "like below."
   ]
  },
  {
   "cell_type": "code",
   "execution_count": 178,
   "metadata": {
    "colab": {},
    "colab_type": "code",
    "id": "4v6pp73A1pqB",
    "outputId": "80c34c3c-4df7-414d-ffe4-9ff73b81b68a"
   },
   "outputs": [
    {
     "data": {
      "text/html": [
       "<div>\n",
       "<style scoped>\n",
       "    .dataframe tbody tr th:only-of-type {\n",
       "        vertical-align: middle;\n",
       "    }\n",
       "\n",
       "    .dataframe tbody tr th {\n",
       "        vertical-align: top;\n",
       "    }\n",
       "\n",
       "    .dataframe thead th {\n",
       "        text-align: right;\n",
       "    }\n",
       "</style>\n",
       "<table border=\"1\" class=\"dataframe\">\n",
       "  <thead>\n",
       "    <tr style=\"text-align: right;\">\n",
       "      <th></th>\n",
       "      <th>age</th>\n",
       "      <th>yredu</th>\n",
       "      <th>capgain</th>\n",
       "      <th>caploss</th>\n",
       "      <th>workhr</th>\n",
       "    </tr>\n",
       "  </thead>\n",
       "  <tbody>\n",
       "    <tr>\n",
       "      <th>0</th>\n",
       "      <td>39</td>\n",
       "      <td>13</td>\n",
       "      <td>2174</td>\n",
       "      <td>0</td>\n",
       "      <td>40</td>\n",
       "    </tr>\n",
       "    <tr>\n",
       "      <th>1</th>\n",
       "      <td>50</td>\n",
       "      <td>13</td>\n",
       "      <td>0</td>\n",
       "      <td>0</td>\n",
       "      <td>13</td>\n",
       "    </tr>\n",
       "    <tr>\n",
       "      <th>2</th>\n",
       "      <td>38</td>\n",
       "      <td>9</td>\n",
       "      <td>0</td>\n",
       "      <td>0</td>\n",
       "      <td>40</td>\n",
       "    </tr>\n",
       "  </tbody>\n",
       "</table>\n",
       "</div>"
      ],
      "text/plain": [
       "   age  yredu  capgain  caploss  workhr\n",
       "0   39     13     2174        0      40\n",
       "1   50     13        0        0      13\n",
       "2   38      9        0        0      40"
      ]
     },
     "execution_count": 178,
     "metadata": {},
     "output_type": "execute_result"
    }
   ],
   "source": [
    "subdf = df[[\"age\", \"yredu\", \"capgain\", \"caploss\", \"workhr\"]]\n",
    "subdf[:3] # show the first 3 records"
   ]
  },
  {
   "cell_type": "markdown",
   "metadata": {
    "colab_type": "text",
    "id": "2Nru2P0E1pqD"
   },
   "source": [
    "Numpy works nicely with pandas, like below:"
   ]
  },
  {
   "cell_type": "code",
   "execution_count": 7,
   "metadata": {
    "colab": {},
    "colab_type": "code",
    "id": "JXrS6tjp1pqE",
    "outputId": "29ee3639-30ae-4533-cb73-7cddf4be82a6"
   },
   "outputs": [
    {
     "data": {
      "text/plain": [
       "2842700"
      ]
     },
     "execution_count": 7,
     "metadata": {},
     "output_type": "execute_result"
    }
   ],
   "source": [
    "np.sum(subdf[\"caploss\"])"
   ]
  },
  {
   "cell_type": "markdown",
   "metadata": {
    "colab_type": "text",
    "id": "Mv5mbxDM1pqH"
   },
   "source": [
    "Just like numpy arrays, you can modify\n",
    "entire columns of data rather than one scalar element at a time.\n",
    "For example, the code  \n",
    "\n",
    "`df[\"age\"] = df[\"age\"] + 1` \n",
    "\n",
    "would increment everyone's age by 1."
   ]
  },
  {
   "attachments": {},
   "cell_type": "markdown",
   "metadata": {},
   "source": [
    "So we need to first report the min/max/avg of variables of interest (`[\"age\", \"yredu\", \"capgain\", \"caploss\", \"workhr\"]`) then normalize them. As in we compute the following for normalization: \n",
    "\n",
    "$$\n",
    "\\mathbf{x}_{\\text{normalized}} = \\frac{\\left(\\mathbf{x} - \\bar{\\mathbf{x}}\\right)}{\\widehat{\\sigma}_{\\mathbf{x}}}\n",
    "$$"
   ]
  },
  {
   "cell_type": "code",
   "execution_count": 180,
   "metadata": {
    "colab": {},
    "colab_type": "code",
    "collapsed": true,
    "id": "k5rlWD7-1pqH",
    "jupyter": {
     "outputs_hidden": true
    }
   },
   "outputs": [
    {
     "name": "stdout",
     "output_type": "stream",
     "text": [
      "age statistics | min: -1.5822062886564523, max: 3.769612336743166, average: -2.7059150282317012e-17\n",
      "yredu statistics | min: -3.5296563996401558, max: 2.3008375546552444, average: 1.4718868439857116e-16\n",
      "capgain statistics | min: -0.14592048355885345, max: 13.394577908462539, average: 1.3093137233379199e-17\n",
      "caploss statistics | min: -0.21665952703259014, max: 10.593506563264937, average: 1.0169003251257845e-16\n",
      "workhr statistics | min: -3.1940303099566942, max: 4.742966730361867, average: -1.5493545726165386e-17\n"
     ]
    },
    {
     "data": {
      "text/html": [
       "<div>\n",
       "<style scoped>\n",
       "    .dataframe tbody tr th:only-of-type {\n",
       "        vertical-align: middle;\n",
       "    }\n",
       "\n",
       "    .dataframe tbody tr th {\n",
       "        vertical-align: top;\n",
       "    }\n",
       "\n",
       "    .dataframe thead th {\n",
       "        text-align: right;\n",
       "    }\n",
       "</style>\n",
       "<table border=\"1\" class=\"dataframe\">\n",
       "  <thead>\n",
       "    <tr style=\"text-align: right;\">\n",
       "      <th></th>\n",
       "      <th>age</th>\n",
       "      <th>work</th>\n",
       "      <th>fnlwgt</th>\n",
       "      <th>edu</th>\n",
       "      <th>yredu</th>\n",
       "      <th>marriage</th>\n",
       "      <th>occupation</th>\n",
       "      <th>relationship</th>\n",
       "      <th>race</th>\n",
       "      <th>sex</th>\n",
       "      <th>capgain</th>\n",
       "      <th>caploss</th>\n",
       "      <th>workhr</th>\n",
       "      <th>country</th>\n",
       "    </tr>\n",
       "  </thead>\n",
       "  <tbody>\n",
       "    <tr>\n",
       "      <th>0</th>\n",
       "      <td>0.030671</td>\n",
       "      <td>State-gov</td>\n",
       "      <td>77516</td>\n",
       "      <td>Bachelors</td>\n",
       "      <td>1.134739</td>\n",
       "      <td>Never-married</td>\n",
       "      <td>Adm-clerical</td>\n",
       "      <td>Not-in-family</td>\n",
       "      <td>White</td>\n",
       "      <td>Male</td>\n",
       "      <td>0.148453</td>\n",
       "      <td>-0.21666</td>\n",
       "      <td>-0.035429</td>\n",
       "      <td>United-States</td>\n",
       "    </tr>\n",
       "    <tr>\n",
       "      <th>1</th>\n",
       "      <td>0.837109</td>\n",
       "      <td>Self-emp-not-inc</td>\n",
       "      <td>83311</td>\n",
       "      <td>Bachelors</td>\n",
       "      <td>1.134739</td>\n",
       "      <td>Married-civ-spouse</td>\n",
       "      <td>Exec-managerial</td>\n",
       "      <td>Husband</td>\n",
       "      <td>White</td>\n",
       "      <td>Male</td>\n",
       "      <td>-0.145920</td>\n",
       "      <td>-0.21666</td>\n",
       "      <td>-2.222153</td>\n",
       "      <td>United-States</td>\n",
       "    </tr>\n",
       "    <tr>\n",
       "      <th>2</th>\n",
       "      <td>-0.042642</td>\n",
       "      <td>Private</td>\n",
       "      <td>215646</td>\n",
       "      <td>HS-grad</td>\n",
       "      <td>-0.420060</td>\n",
       "      <td>Divorced</td>\n",
       "      <td>Handlers-cleaners</td>\n",
       "      <td>Not-in-family</td>\n",
       "      <td>White</td>\n",
       "      <td>Male</td>\n",
       "      <td>-0.145920</td>\n",
       "      <td>-0.21666</td>\n",
       "      <td>-0.035429</td>\n",
       "      <td>United-States</td>\n",
       "    </tr>\n",
       "    <tr>\n",
       "      <th>3</th>\n",
       "      <td>1.057047</td>\n",
       "      <td>Private</td>\n",
       "      <td>234721</td>\n",
       "      <td>11th</td>\n",
       "      <td>-1.197459</td>\n",
       "      <td>Married-civ-spouse</td>\n",
       "      <td>Handlers-cleaners</td>\n",
       "      <td>Husband</td>\n",
       "      <td>Black</td>\n",
       "      <td>Male</td>\n",
       "      <td>-0.145920</td>\n",
       "      <td>-0.21666</td>\n",
       "      <td>-0.035429</td>\n",
       "      <td>United-States</td>\n",
       "    </tr>\n",
       "    <tr>\n",
       "      <th>4</th>\n",
       "      <td>-0.775768</td>\n",
       "      <td>Private</td>\n",
       "      <td>338409</td>\n",
       "      <td>Bachelors</td>\n",
       "      <td>1.134739</td>\n",
       "      <td>Married-civ-spouse</td>\n",
       "      <td>Prof-specialty</td>\n",
       "      <td>Wife</td>\n",
       "      <td>Black</td>\n",
       "      <td>Female</td>\n",
       "      <td>-0.145920</td>\n",
       "      <td>-0.21666</td>\n",
       "      <td>-0.035429</td>\n",
       "      <td>Cuba</td>\n",
       "    </tr>\n",
       "  </tbody>\n",
       "</table>\n",
       "</div>"
      ],
      "text/plain": [
       "        age               work  fnlwgt         edu     yredu  \\\n",
       "0  0.030671          State-gov   77516   Bachelors  1.134739   \n",
       "1  0.837109   Self-emp-not-inc   83311   Bachelors  1.134739   \n",
       "2 -0.042642            Private  215646     HS-grad -0.420060   \n",
       "3  1.057047            Private  234721        11th -1.197459   \n",
       "4 -0.775768            Private  338409   Bachelors  1.134739   \n",
       "\n",
       "              marriage          occupation    relationship    race      sex  \\\n",
       "0        Never-married        Adm-clerical   Not-in-family   White     Male   \n",
       "1   Married-civ-spouse     Exec-managerial         Husband   White     Male   \n",
       "2             Divorced   Handlers-cleaners   Not-in-family   White     Male   \n",
       "3   Married-civ-spouse   Handlers-cleaners         Husband   Black     Male   \n",
       "4   Married-civ-spouse      Prof-specialty            Wife   Black   Female   \n",
       "\n",
       "    capgain  caploss    workhr         country  \n",
       "0  0.148453 -0.21666 -0.035429   United-States  \n",
       "1 -0.145920 -0.21666 -2.222153   United-States  \n",
       "2 -0.145920 -0.21666 -0.035429   United-States  \n",
       "3 -0.145920 -0.21666 -0.035429   United-States  \n",
       "4 -0.145920 -0.21666 -0.035429            Cuba  "
      ]
     },
     "execution_count": 180,
     "metadata": {},
     "output_type": "execute_result"
    }
   ],
   "source": [
    "for variable in [\"age\", \"yredu\", \"capgain\", \"caploss\", \"workhr\"]: \n",
    "    print(f\"{variable} statistics | min: {min(df[variable])}, max: {max(df[variable])}, average: { np.average(df[variable])}\")  \n",
    "    df[variable] = (df[variable] - np.average(df[variable])) / np.std(df[variable])\n",
    "\n",
    "df.head()"
   ]
  },
  {
   "cell_type": "markdown",
   "metadata": {
    "colab_type": "text",
    "id": "qbfMly4R1pqK"
   },
   "source": [
    "### Part (b) Categorical Features [1 pt]\n",
    "\n",
    "What percentage of people in our data set are male? Note that the data labels all have an unfortunate space in the beginning, e.g. \" Male\" instead of \"Male\".\n",
    "\n",
    "What percentage of people in our data set are female?"
   ]
  },
  {
   "cell_type": "code",
   "execution_count": 181,
   "metadata": {
    "colab": {},
    "colab_type": "code",
    "id": "DjAjcsB_1pqK",
    "outputId": "cd7201c3-007c-4fea-d955-4ce34ff808b6"
   },
   "outputs": [
    {
     "name": "stdout",
     "output_type": "stream",
     "text": [
      "Percentage of women in dataset: 33.07945087681583\n"
     ]
    }
   ],
   "source": [
    "# hint: you can do something like this in pandas\n",
    "print(\"Percentage of women in dataset:\", sum(df[\"sex\"] == \" Female\")/len(df[\"sex\"]) * 100)"
   ]
  },
  {
   "cell_type": "markdown",
   "metadata": {
    "colab_type": "text",
    "id": "eGVw7pqL1pqN"
   },
   "source": [
    "### Part (c) [2 pt]\n",
    "\n",
    "Before proceeding, we will modify our data frame in a couple more ways:\n",
    "\n",
    "1. We will restrict ourselves to using a subset of the features (to simplify our autoencoder)\n",
    "2. We will remove any records (rows) already containing missing values, and store them in a second dataframe. We will only use records without missing values to train our autoencoder.\n",
    "\n",
    "Both of these steps are done for you, below.\n",
    "\n",
    "How many records contained missing features? What percentage of records were removed?"
   ]
  },
  {
   "cell_type": "code",
   "execution_count": 182,
   "metadata": {
    "colab": {},
    "colab_type": "code",
    "collapsed": true,
    "id": "z6ewPUdv1pqO",
    "jupyter": {
     "outputs_hidden": true
    }
   },
   "outputs": [],
   "source": [
    "contcols = [\"age\", \"yredu\", \"capgain\", \"caploss\", \"workhr\"]\n",
    "catcols = [\"work\", \"marriage\", \"occupation\", \"edu\", \"relationship\", \"sex\"]\n",
    "features = contcols + catcols\n",
    "df = df[features]"
   ]
  },
  {
   "cell_type": "code",
   "execution_count": 183,
   "metadata": {
    "colab": {},
    "colab_type": "code",
    "collapsed": true,
    "id": "fjdVll5a1pqQ",
    "jupyter": {
     "outputs_hidden": true
    }
   },
   "outputs": [],
   "source": [
    "missing = pd.concat([df[c] == \" ?\" for c in catcols], axis=1).any(axis=1)\n",
    "df_with_missing = df[missing]\n",
    "df_not_missing = df[~missing]"
   ]
  },
  {
   "attachments": {},
   "cell_type": "markdown",
   "metadata": {},
   "source": [
    "To find the number of samples with missing features, we can simply find the length of the `df_with_missing` dataframe. Then similarly to find the percentage of records, we can simply divide that number by the total number of samples in this dataset. "
   ]
  },
  {
   "cell_type": "code",
   "execution_count": 184,
   "metadata": {},
   "outputs": [
    {
     "name": "stdout",
     "output_type": "stream",
     "text": [
      "Precentage missing: 5.66% | Records with missing features: 1843\n"
     ]
    }
   ],
   "source": [
    "length_missing = len(df_with_missing)\n",
    "length_total = len(df)\n",
    "\n",
    "precentage_missing = length_missing/length_total\n",
    "print(f\"Precentage missing: {round(precentage_missing, 4)*100}% | Records with missing features: {length_missing}\")"
   ]
  },
  {
   "cell_type": "markdown",
   "metadata": {
    "colab_type": "text",
    "id": "XuEpndTQ1pqU"
   },
   "source": [
    "### Part (d) One-Hot Encoding [1 pt]\n",
    "\n",
    "What are all the possible values of the feature \"work\" in `df_not_missing`? You may find the Python function `set` useful."
   ]
  },
  {
   "cell_type": "code",
   "execution_count": 185,
   "metadata": {
    "colab": {},
    "colab_type": "code",
    "collapsed": true,
    "id": "iKFh4owE1pqV",
    "jupyter": {
     "outputs_hidden": true
    }
   },
   "outputs": [
    {
     "data": {
      "text/plain": [
       "{' Federal-gov',\n",
       " ' Local-gov',\n",
       " ' Private',\n",
       " ' Self-emp-inc',\n",
       " ' Self-emp-not-inc',\n",
       " ' State-gov',\n",
       " ' Without-pay'}"
      ]
     },
     "execution_count": 185,
     "metadata": {},
     "output_type": "execute_result"
    }
   ],
   "source": [
    "set(df_not_missing['work'])"
   ]
  },
  {
   "cell_type": "markdown",
   "metadata": {
    "colab_type": "text",
    "id": "COv3HaKr1pqY"
   },
   "source": [
    "We will be using a one-hot encoding to represent each of the categorical variables.\n",
    "Our autoencoder will be trained using these one-hot encodings.\n",
    "\n",
    "We will use the pandas function `get_dummies` to produce one-hot encodings\n",
    "for all of the categorical variables in `df_not_missing`. "
   ]
  },
  {
   "cell_type": "code",
   "execution_count": 186,
   "metadata": {
    "colab": {},
    "colab_type": "code",
    "collapsed": true,
    "id": "eKlSYmJg1pqZ",
    "jupyter": {
     "outputs_hidden": true
    }
   },
   "outputs": [],
   "source": [
    "data = pd.get_dummies(df_not_missing)"
   ]
  },
  {
   "cell_type": "code",
   "execution_count": 187,
   "metadata": {
    "colab": {},
    "colab_type": "code",
    "collapsed": true,
    "id": "3y7nTZ7H1pqb",
    "jupyter": {
     "outputs_hidden": true
    },
    "scrolled": true
   },
   "outputs": [
    {
     "data": {
      "text/html": [
       "<div>\n",
       "<style scoped>\n",
       "    .dataframe tbody tr th:only-of-type {\n",
       "        vertical-align: middle;\n",
       "    }\n",
       "\n",
       "    .dataframe tbody tr th {\n",
       "        vertical-align: top;\n",
       "    }\n",
       "\n",
       "    .dataframe thead th {\n",
       "        text-align: right;\n",
       "    }\n",
       "</style>\n",
       "<table border=\"1\" class=\"dataframe\">\n",
       "  <thead>\n",
       "    <tr style=\"text-align: right;\">\n",
       "      <th></th>\n",
       "      <th>age</th>\n",
       "      <th>yredu</th>\n",
       "      <th>capgain</th>\n",
       "      <th>caploss</th>\n",
       "      <th>workhr</th>\n",
       "      <th>work_ Federal-gov</th>\n",
       "      <th>work_ Local-gov</th>\n",
       "      <th>work_ Private</th>\n",
       "      <th>work_ Self-emp-inc</th>\n",
       "      <th>work_ Self-emp-not-inc</th>\n",
       "      <th>...</th>\n",
       "      <th>edu_ Prof-school</th>\n",
       "      <th>edu_ Some-college</th>\n",
       "      <th>relationship_ Husband</th>\n",
       "      <th>relationship_ Not-in-family</th>\n",
       "      <th>relationship_ Other-relative</th>\n",
       "      <th>relationship_ Own-child</th>\n",
       "      <th>relationship_ Unmarried</th>\n",
       "      <th>relationship_ Wife</th>\n",
       "      <th>sex_ Female</th>\n",
       "      <th>sex_ Male</th>\n",
       "    </tr>\n",
       "  </thead>\n",
       "  <tbody>\n",
       "    <tr>\n",
       "      <th>0</th>\n",
       "      <td>0.030671</td>\n",
       "      <td>1.134739</td>\n",
       "      <td>0.148453</td>\n",
       "      <td>-0.21666</td>\n",
       "      <td>-0.035429</td>\n",
       "      <td>0</td>\n",
       "      <td>0</td>\n",
       "      <td>0</td>\n",
       "      <td>0</td>\n",
       "      <td>0</td>\n",
       "      <td>...</td>\n",
       "      <td>0</td>\n",
       "      <td>0</td>\n",
       "      <td>0</td>\n",
       "      <td>1</td>\n",
       "      <td>0</td>\n",
       "      <td>0</td>\n",
       "      <td>0</td>\n",
       "      <td>0</td>\n",
       "      <td>0</td>\n",
       "      <td>1</td>\n",
       "    </tr>\n",
       "    <tr>\n",
       "      <th>1</th>\n",
       "      <td>0.837109</td>\n",
       "      <td>1.134739</td>\n",
       "      <td>-0.145920</td>\n",
       "      <td>-0.21666</td>\n",
       "      <td>-2.222153</td>\n",
       "      <td>0</td>\n",
       "      <td>0</td>\n",
       "      <td>0</td>\n",
       "      <td>0</td>\n",
       "      <td>1</td>\n",
       "      <td>...</td>\n",
       "      <td>0</td>\n",
       "      <td>0</td>\n",
       "      <td>1</td>\n",
       "      <td>0</td>\n",
       "      <td>0</td>\n",
       "      <td>0</td>\n",
       "      <td>0</td>\n",
       "      <td>0</td>\n",
       "      <td>0</td>\n",
       "      <td>1</td>\n",
       "    </tr>\n",
       "    <tr>\n",
       "      <th>2</th>\n",
       "      <td>-0.042642</td>\n",
       "      <td>-0.420060</td>\n",
       "      <td>-0.145920</td>\n",
       "      <td>-0.21666</td>\n",
       "      <td>-0.035429</td>\n",
       "      <td>0</td>\n",
       "      <td>0</td>\n",
       "      <td>1</td>\n",
       "      <td>0</td>\n",
       "      <td>0</td>\n",
       "      <td>...</td>\n",
       "      <td>0</td>\n",
       "      <td>0</td>\n",
       "      <td>0</td>\n",
       "      <td>1</td>\n",
       "      <td>0</td>\n",
       "      <td>0</td>\n",
       "      <td>0</td>\n",
       "      <td>0</td>\n",
       "      <td>0</td>\n",
       "      <td>1</td>\n",
       "    </tr>\n",
       "  </tbody>\n",
       "</table>\n",
       "<p>3 rows × 57 columns</p>\n",
       "</div>"
      ],
      "text/plain": [
       "        age     yredu   capgain  caploss    workhr  work_ Federal-gov  \\\n",
       "0  0.030671  1.134739  0.148453 -0.21666 -0.035429                  0   \n",
       "1  0.837109  1.134739 -0.145920 -0.21666 -2.222153                  0   \n",
       "2 -0.042642 -0.420060 -0.145920 -0.21666 -0.035429                  0   \n",
       "\n",
       "   work_ Local-gov  work_ Private  work_ Self-emp-inc  work_ Self-emp-not-inc  \\\n",
       "0                0              0                   0                       0   \n",
       "1                0              0                   0                       1   \n",
       "2                0              1                   0                       0   \n",
       "\n",
       "   ...  edu_ Prof-school  edu_ Some-college  relationship_ Husband  \\\n",
       "0  ...                 0                  0                      0   \n",
       "1  ...                 0                  0                      1   \n",
       "2  ...                 0                  0                      0   \n",
       "\n",
       "   relationship_ Not-in-family  relationship_ Other-relative  \\\n",
       "0                            1                             0   \n",
       "1                            0                             0   \n",
       "2                            1                             0   \n",
       "\n",
       "   relationship_ Own-child  relationship_ Unmarried  relationship_ Wife  \\\n",
       "0                        0                        0                   0   \n",
       "1                        0                        0                   0   \n",
       "2                        0                        0                   0   \n",
       "\n",
       "   sex_ Female  sex_ Male  \n",
       "0            0          1  \n",
       "1            0          1  \n",
       "2            0          1  \n",
       "\n",
       "[3 rows x 57 columns]"
      ]
     },
     "execution_count": 187,
     "metadata": {},
     "output_type": "execute_result"
    }
   ],
   "source": [
    "data[:3]"
   ]
  },
  {
   "cell_type": "markdown",
   "metadata": {
    "colab_type": "text",
    "id": "HwjDg1uM1pqe"
   },
   "source": [
    "### Part (e) One-Hot Encoding [2 pt]\n",
    "\n",
    "The dataframe `data` contains the cleaned and normalized data that we will use to train our denoising autoencoder.\n",
    "\n",
    "How many **columns** (features) are in the dataframe `data`?\n",
    "\n",
    "Briefly explain where that number come from."
   ]
  },
  {
   "cell_type": "code",
   "execution_count": 188,
   "metadata": {
    "colab": {},
    "colab_type": "code",
    "collapsed": true,
    "id": "yjZ5N0Tl1pqf",
    "jupyter": {
     "outputs_hidden": true
    }
   },
   "outputs": [
    {
     "data": {
      "text/plain": [
       "57"
      ]
     },
     "execution_count": 188,
     "metadata": {},
     "output_type": "execute_result"
    }
   ],
   "source": [
    "len(data.columns)"
   ]
  },
  {
   "attachments": {},
   "cell_type": "markdown",
   "metadata": {},
   "source": [
    "This number is the length property of the `data.columns` object, which is an iterable, so it has a length property, meaning we can call `len` on it. Note that `data.columns` gets all of the column names of a dataframe. "
   ]
  },
  {
   "cell_type": "markdown",
   "metadata": {
    "colab_type": "text",
    "id": "OEJ0Ci3l1pqh"
   },
   "source": [
    "### Part (f) One-Hot Conversion [3 pt]\n",
    "\n",
    "We will convert the pandas data frame `data` into numpy, so that\n",
    "it can be further converted into a PyTorch tensor.\n",
    "However, in doing so, we lose the column label information that\n",
    "a panda data frame automatically stores.\n",
    "\n",
    "Complete the function `get_categorical_value` that will return\n",
    "the named value of a feature given a one-hot embedding.\n",
    "You may find the global variables `cat_index` and `cat_values`\n",
    "useful. (Display them and figure out what they are first.)\n",
    "\n",
    "We will need this function in the next part of the lab\n",
    "to interpret our autoencoder outputs. So, the input\n",
    "to our function `get_categorical_values` might not \n",
    "actually be \"one-hot\" -- the input may instead \n",
    "contain real-valued predictions from our neural network."
   ]
  },
  {
   "cell_type": "code",
   "execution_count": 191,
   "metadata": {
    "colab": {},
    "colab_type": "code",
    "collapsed": true,
    "id": "ZmovX6gu1pqi",
    "jupyter": {
     "outputs_hidden": true
    }
   },
   "outputs": [],
   "source": [
    "datanp = data.values.astype(np.float32)"
   ]
  },
  {
   "cell_type": "code",
   "execution_count": 221,
   "metadata": {
    "colab": {},
    "colab_type": "code",
    "collapsed": true,
    "id": "YRIa5MBd1pql",
    "jupyter": {
     "outputs_hidden": true
    }
   },
   "outputs": [],
   "source": [
    "cat_index = {}  # Mapping of feature -> start index of feature in a record\n",
    "cat_values = {} # Mapping of feature -> list of categorical values the feature can take\n",
    "\n",
    "# build up the cat_index and cat_values dictionary\n",
    "for i, header in enumerate(data.keys()):\n",
    "    if \"_\" in header: # categorical header\n",
    "        feature, value = header.split()\n",
    "        feature = feature[:-1] # remove the last char; it is always an underscore\n",
    "        if feature not in cat_index:\n",
    "            cat_index[feature] = i\n",
    "            cat_values[feature] = [value]\n",
    "        else:\n",
    "            cat_values[feature].append(value)\n",
    "\n",
    "def get_onehot(record, feature):\n",
    "    \"\"\"\n",
    "    Return the portion of `record` that is the one-hot encoding\n",
    "    of `feature`. For example, since the feature \"work\" is stored\n",
    "    in the indices [5:12] in each record, calling `get_range(record, \"work\")`\n",
    "    is equivalent to accessing `record[5:12]`.\n",
    "    \n",
    "    Args:\n",
    "        - record: a numpy array representing one record, formatted\n",
    "                  the same way as a row in `data.np`\n",
    "        - feature: a string, should be an element of `catcols`\n",
    "    \"\"\"\n",
    "    start_index = cat_index[feature]\n",
    "    stop_index = cat_index[feature] + len(cat_values[feature])\n",
    "    return record[start_index:stop_index]\n",
    "\n",
    "def get_categorical_value(onehot, feature):\n",
    "    \"\"\"\n",
    "    Return the categorical value name of a feature given\n",
    "    a one-hot vector representing the feature.\n",
    "    \n",
    "    Args:\n",
    "        - onehot: a numpy array one-hot representation of the feature\n",
    "        - feature: a string, should be an element of `catcols`\n",
    "        \n",
    "    Examples:\n",
    "    \n",
    "    >>> get_categorical_value(np.array([0., 0., 0., 0., 0., 1., 0.]), \"work\")\n",
    "    'State-gov'\n",
    "    >>> get_categorical_value(np.array([0.1, 0., 1.1, 0.2, 0., 1., 0.]), \"work\")\n",
    "    'Private'\n",
    "    \"\"\"\n",
    "    # <----- TODO: WRITE YOUR CODE HERE ----->\n",
    "    # You may find the variables `cat_index` and `cat_values` \n",
    "    # (created above) useful.\n",
    "\n",
    "    # this is really asking us to retrieve the respective value from \n",
    "    # cat_values based on the argmax of the respective subarray of the onehot buffer\n",
    "\n",
    "    # the first example in the doc string since it is the only 1 in position 6\n",
    "    # which corresponds to 'State-gov' in cat_values \n",
    "\n",
    "    index = np.argmax(onehot)\n",
    "    feature_values = cat_values[feature]\n",
    "    return feature_values[index]\n"
   ]
  },
  {
   "cell_type": "code",
   "execution_count": 193,
   "metadata": {},
   "outputs": [
    {
     "name": "stdout",
     "output_type": "stream",
     "text": [
      "State-gov Private\n"
     ]
    }
   ],
   "source": [
    "# clearly works as expected \n",
    "print(get_categorical_value(np.array([0., 0., 0., 0., 0., 1., 0.]), \"work\"), get_categorical_value(np.array([0.1, 0., 1.1, 0.2, 0., 1., 0.]), \"work\"))"
   ]
  },
  {
   "cell_type": "code",
   "execution_count": 194,
   "metadata": {
    "colab": {},
    "colab_type": "code",
    "collapsed": true,
    "id": "T_XXxZdh1pqv",
    "jupyter": {
     "outputs_hidden": true
    }
   },
   "outputs": [],
   "source": [
    "# more useful code, used during training, that depends on the function\n",
    "# you write above\n",
    "\n",
    "def get_feature(record, feature):\n",
    "    \"\"\"\n",
    "    Return the categorical feature value of a record\n",
    "    \"\"\"\n",
    "    onehot = get_onehot(record, feature)\n",
    "    return get_categorical_value(onehot, feature)\n",
    "\n",
    "def get_features(record):\n",
    "    \"\"\"\n",
    "    Return a dictionary of all categorical feature values of a record\n",
    "    \"\"\"\n",
    "    return { f: get_feature(record, f) for f in catcols }"
   ]
  },
  {
   "cell_type": "markdown",
   "metadata": {
    "colab_type": "text",
    "id": "1_5ZZR_J1pqy"
   },
   "source": [
    "### Part (g) Train/Test Split [3 pt]\n",
    "\n",
    "Randomly split the data into approximately 70% training, 15% validation and 15% test.\n",
    "\n",
    "Report the number of items in your training, validation, and test set."
   ]
  },
  {
   "cell_type": "code",
   "execution_count": 195,
   "metadata": {
    "colab": {},
    "colab_type": "code",
    "collapsed": true,
    "id": "TE_fTJJf1pqz",
    "jupyter": {
     "outputs_hidden": true
    }
   },
   "outputs": [
    {
     "name": "stdout",
     "output_type": "stream",
     "text": [
      "21502 4608 4608\n"
     ]
    }
   ],
   "source": [
    "# set the numpy seed for reproducibility\n",
    "# https://docs.scipy.org/doc/numpy/reference/generated/numpy.random.seed.html\n",
    "np.random.seed(50)\n",
    "\n",
    "# todo\n",
    "\n",
    "# seems like we want to perform the splitting in numpy if we are seeting the seed using numpy \n",
    "# so first shuffle the data\n",
    "# then slice 70%, 15%, and 15% \n",
    "data_shuffled = datanp[:]\n",
    "np.random.shuffle(data_shuffled)\n",
    "train_end, val_end = int(len(data_shuffled)*0.7), int(len(data_shuffled)*0.85) # make sure to floor them\n",
    "data_train, data_val, data_test = data_shuffled[:train_end], data_shuffled[train_end: val_end], data_shuffled[val_end: ]\n",
    "print(len(data_train), len(data_val), len(data_test))"
   ]
  },
  {
   "attachments": {},
   "cell_type": "markdown",
   "metadata": {},
   "source": [
    "As we can see from the block above, the train set has 21502 samples, 4608 samples in the validation set, and finally 4608 samples in the test set. "
   ]
  },
  {
   "cell_type": "code",
   "execution_count": 196,
   "metadata": {},
   "outputs": [],
   "source": [
    "# create the Pytorch datasets and dataloaders for training \n",
    "from torch.utils.data import TensorDataset, DataLoader\n",
    "from torchinfo import summary\n",
    "\n",
    "train_set = TensorDataset(torch.from_numpy(data_train))\n",
    "val_set = TensorDataset(torch.from_numpy(data_val))\n",
    "test_set = TensorDataset(torch.from_numpy(data_test))\n",
    "\n",
    "train_loader, val_loader, test_loader = DataLoader(train_set, 128), DataLoader(val_set, len(data_val)), DataLoader(test_set, len(data_val))"
   ]
  },
  {
   "cell_type": "markdown",
   "metadata": {
    "colab_type": "text",
    "id": "h9wJAKOI1pq3"
   },
   "source": [
    "## Part 2. Model Setup [5 pt]\n",
    "\n",
    "### Part (a) [4 pt]\n",
    "\n",
    "Design a fully-connected autoencoder by modifying the `encoder` and `decoder`\n",
    "below.\n",
    "\n",
    "The input to this autoencoder will be the features of the `data`, with\n",
    "one categorical feature recorded as \"missing\". The output of the autoencoder\n",
    "should be the reconstruction of the same features, but with the missing\n",
    "value filled in.\n",
    "\n",
    "**Note**: Do not reduce the dimensionality of the input too much!\n",
    "The output of your embedding is expected to contain information \n",
    "about ~11 features."
   ]
  },
  {
   "cell_type": "code",
   "execution_count": 58,
   "metadata": {
    "colab": {},
    "colab_type": "code",
    "collapsed": true,
    "id": "f3F--tdn1pq3",
    "jupyter": {
     "outputs_hidden": true
    }
   },
   "outputs": [],
   "source": [
    "from torch import nn\n",
    "\n",
    "class AutoEncoder(nn.Module):\n",
    "    def __init__(self):\n",
    "        super(AutoEncoder, self).__init__()\n",
    "        self.encoder = nn.Sequential(\n",
    "            nn.Linear(57, 57), # TODO -- FILL OUT THE CODE HERE!\n",
    "            nn.Linear(57, 47),\n",
    "            nn.Linear(47, 37),\n",
    "            nn.Linear(37, 30),\n",
    "            nn.Linear(30, 20),\n",
    "            nn.Linear(20, 12),\n",
    "        )\n",
    "        self.decoder = nn.Sequential(\n",
    "            nn.Linear(12, 20),\n",
    "            nn.Linear(20, 28),\n",
    "            nn.Linear(28, 40),\n",
    "            nn.Linear(40, 50),\n",
    "            nn.Linear(50, 57),\n",
    "            nn.Linear(57, 57), # TODO -- FILL OUT THE CODE HERE!\n",
    "            nn.Sigmoid() # get to the range (0, 1)\n",
    "        )\n",
    "\n",
    "    def forward(self, x):\n",
    "        x = self.encoder(x)\n",
    "        x = self.decoder(x)\n",
    "        return x"
   ]
  },
  {
   "cell_type": "markdown",
   "metadata": {
    "colab_type": "text",
    "id": "kuEzTSAv1pq6"
   },
   "source": [
    "### Part (b) [1 pt]\n",
    "\n",
    "Explain why there is a sigmoid activation in the last step of the decoder.\n",
    "\n",
    "(**Note**: the values inside the data frame `data` and the training code in Part 3 might be helpful.)"
   ]
  },
  {
   "attachments": {},
   "cell_type": "markdown",
   "metadata": {},
   "source": [
    "The sigmoid function allow us to output values between 0 and 1 (on the interval $[0, ~ 1]$), and since we are creating an imputation model for categorical features that are learning the one-hot encodings that are either 0 and 1, we need the use the sigmoid function to \"clamp\" our predictions to be between 0 and 1. Note that while we cannot have exactly 0 or 1 due to the continuous nature of this model or some kind of discretization, we can have the model output on the range of $[0, ~ 1]$. "
   ]
  },
  {
   "cell_type": "markdown",
   "metadata": {
    "colab_type": "text",
    "id": "jYwqFWVl1pq8"
   },
   "source": [
    "## Part 3. Training [18] \n",
    "\n",
    "### Part (a) [6 pt]\n",
    "\n",
    "We will train our autoencoder in the following way:\n",
    "\n",
    "- In each iteration, we will hide one of the categorical features using the `zero_out_random_features` function\n",
    "- We will pass the data with one missing feature through the autoencoder, and obtain a reconstruction\n",
    "- We will check how close the reconstruction is compared to the original data -- including the value of the missing feature\n",
    "\n",
    "Complete the code to train the autoencoder, and plot the training and validation loss every few iterations.\n",
    "You may also want to plot training and validation \"accuracy\" every few iterations, as we will define in\n",
    "part (b). You may also want to checkpoint your model every few iterations or epochs.\n",
    "\n",
    "Use `nn.MSELoss()` as your loss function. (Side note: you might recognize that this loss function is not\n",
    "ideal for this problem, but we will use it anyway.)"
   ]
  },
  {
   "cell_type": "code",
   "execution_count": 60,
   "metadata": {
    "colab": {},
    "colab_type": "code",
    "collapsed": true,
    "id": "IDQA_-dS1pq9",
    "jupyter": {
     "outputs_hidden": true
    }
   },
   "outputs": [],
   "source": [
    "def zero_out_feature(records, feature):\n",
    "    \"\"\" Set the feature missing in records, by setting the appropriate\n",
    "    columns of records to 0\n",
    "    \"\"\"\n",
    "    start_index = cat_index[feature]\n",
    "    stop_index = cat_index[feature] + len(cat_values[feature])\n",
    "    records[:, start_index:stop_index] = 0\n",
    "    return records\n",
    "\n",
    "\n",
    "def zero_out_random_feature(records):\n",
    "    \"\"\" Set one random feature missing in records, by setting the \n",
    "    appropriate columns of records to 0\n",
    "    \"\"\"\n",
    "    return zero_out_feature(records, random.choice(catcols))\n",
    "\n",
    "\n",
    "def train(model, train_loader, valid_loader, num_epochs=5, learning_rate=1e-4, val_epochs=10, weight_decay=1e-4, acc_func=None, use_cuda=True, model_path_prefix=\"./models/\", plot_acc=False):\n",
    "    \"\"\" Training loop. You should update this.\"\"\"\n",
    "    torch.manual_seed(42)\n",
    "\n",
    "    # determine if CUDA is available and set Tensor core flags\n",
    "    if use_cuda and torch.cuda.is_available():\n",
    "        dev = \"cuda:0\"\n",
    "        torch.backends.cuda.matmul.allow_tf32 = True\n",
    "        torch.backends.cudnn.allow_tf32 = True\n",
    "    else:\n",
    "        print(\"CUDA unavailable, training on CPU\")\n",
    "        dev = \"CPU\"\n",
    "    device = torch.device(dev)\n",
    "    model = model.to(device)\n",
    "    val_set = None\n",
    "\n",
    "    best_val_loss = float('inf')\n",
    "\n",
    "    for _, batch in enumerate(valid_loader):\n",
    "        val_set = batch[0].to(device)\n",
    "        summary(model, input_data=val_set, verbose=2, device=device)\n",
    "\n",
    "    loss_dict = {\"config\": f\"Epochs: {num_epochs}, Lr: {learning_rate}\",\n",
    "                 \"epochs\": num_epochs,\n",
    "                 \"train_loss\": [], \"val_loss\": [],\n",
    "                 \"train_acc\": [], \"val_acc\": []}\n",
    "\n",
    "    criterion = nn.MSELoss()\n",
    "    optimizer = torch.optim.Adam(model.parameters(), lr=learning_rate, weight_decay=weight_decay)\n",
    "\n",
    "    for epoch in range(num_epochs):\n",
    "        train_loss = 0.0\n",
    "        batches = 0\n",
    "        \n",
    "        for _, data in enumerate(train_loader):\n",
    "            data = data[0].to(device)\n",
    "            # zero out one categorical feature\n",
    "            datam = zero_out_random_feature(data.clone())\n",
    "            recon = model(datam)\n",
    "            loss = criterion(recon, data)\n",
    "            train_loss += loss\n",
    "            batches += 1\n",
    "            loss.backward()\n",
    "            optimizer.step()\n",
    "            optimizer.zero_grad()\n",
    "\n",
    "        train_loss /= batches\n",
    "\n",
    "        if epoch % val_epochs == 0:\n",
    "            with torch.no_grad():\n",
    "                val_acc = 0.0\n",
    "                train_acc = 0.0\n",
    "                preds = model(val_set)\n",
    "                val_loss = criterion(preds, val_set)\n",
    "                print(\n",
    "                    f\"epoch: {epoch}, train_loss: {train_loss}, val_loss: {val_loss}\")\n",
    "                if plot_acc:\n",
    "                    val_acc = acc_func(model, valid_loader)\n",
    "                    train_acc = acc_func(model, train_loader)\n",
    "                    print(\n",
    "                        f\"epoch: {epoch}, train_acc: {train_acc}, val_acc: {val_acc}\")\n",
    "\n",
    "                loss_dict[\"train_loss\"].append(train_loss)\n",
    "                loss_dict[\"val_loss\"].append(val_loss)\n",
    "                loss_dict[\"train_acc\"].append(train_acc)\n",
    "                loss_dict[\"val_acc\"].append(val_acc)\n",
    "\n",
    "                if val_loss < best_val_loss:\n",
    "                    best_val_loss = val_loss\n",
    "                    torch.save(model.state_dict(), model_path_prefix +\n",
    "                               f\"valloss-{torch.round(best_val_loss, decimals=4)}-lr_{learning_rate}-epoch_num_{epoch}.mdlckpt\")\n",
    "\n",
    "    return model, loss_dict\n"
   ]
  },
  {
   "cell_type": "code",
   "execution_count": 61,
   "metadata": {},
   "outputs": [
    {
     "name": "stdout",
     "output_type": "stream",
     "text": [
      "==========================================================================================\n",
      "Layer (type:depth-idx)                   Output Shape              Param #\n",
      "==========================================================================================\n",
      "AutoEncoder                              [4608, 57]                --\n",
      "├─Sequential: 1-1                        [4608, 12]                --\n",
      "│    └─0.weight                                                    ├─3,249\n",
      "│    └─0.bias                                                      ├─57\n",
      "│    └─1.weight                                                    ├─2,679\n",
      "│    └─1.bias                                                      ├─47\n",
      "│    └─2.weight                                                    ├─1,739\n",
      "│    └─2.bias                                                      ├─37\n",
      "│    └─3.weight                                                    ├─1,110\n",
      "│    └─3.bias                                                      ├─30\n",
      "│    └─4.weight                                                    ├─600\n",
      "│    └─4.bias                                                      ├─20\n",
      "│    └─5.weight                                                    ├─240\n",
      "│    └─5.bias                                                      └─12\n",
      "│    └─Linear: 2-1                       [4608, 57]                3,306\n",
      "│    │    └─weight                                                 ├─3,249\n",
      "│    │    └─bias                                                   └─57\n",
      "│    └─Linear: 2-2                       [4608, 47]                2,726\n",
      "│    │    └─weight                                                 ├─2,679\n",
      "│    │    └─bias                                                   └─47\n",
      "│    └─Linear: 2-3                       [4608, 37]                1,776\n",
      "│    │    └─weight                                                 ├─1,739\n",
      "│    │    └─bias                                                   └─37\n",
      "│    └─Linear: 2-4                       [4608, 30]                1,140\n",
      "│    │    └─weight                                                 ├─1,110\n",
      "│    │    └─bias                                                   └─30\n",
      "│    └─Linear: 2-5                       [4608, 20]                620\n",
      "│    │    └─weight                                                 ├─600\n",
      "│    │    └─bias                                                   └─20\n",
      "│    └─Linear: 2-6                       [4608, 12]                252\n",
      "│    │    └─weight                                                 ├─240\n",
      "│    │    └─bias                                                   └─12\n",
      "├─Sequential: 1-2                        [4608, 57]                --\n",
      "│    └─0.weight                                                    ├─240\n",
      "│    └─0.bias                                                      ├─20\n",
      "│    └─1.weight                                                    ├─560\n",
      "│    └─1.bias                                                      ├─28\n",
      "│    └─2.weight                                                    ├─1,120\n",
      "│    └─2.bias                                                      ├─40\n",
      "│    └─3.weight                                                    ├─2,000\n",
      "│    └─3.bias                                                      ├─50\n",
      "│    └─4.weight                                                    ├─2,850\n",
      "│    └─4.bias                                                      ├─57\n",
      "│    └─5.weight                                                    ├─3,249\n",
      "│    └─5.bias                                                      └─57\n",
      "│    └─Linear: 2-7                       [4608, 20]                260\n",
      "│    │    └─weight                                                 ├─240\n",
      "│    │    └─bias                                                   └─20\n",
      "│    └─Linear: 2-8                       [4608, 28]                588\n",
      "│    │    └─weight                                                 ├─560\n",
      "│    │    └─bias                                                   └─28\n",
      "│    └─Linear: 2-9                       [4608, 40]                1,160\n",
      "│    │    └─weight                                                 ├─1,120\n",
      "│    │    └─bias                                                   └─40\n",
      "│    └─Linear: 2-10                      [4608, 50]                2,050\n",
      "│    │    └─weight                                                 ├─2,000\n",
      "│    │    └─bias                                                   └─50\n",
      "│    └─Linear: 2-11                      [4608, 57]                2,907\n",
      "│    │    └─weight                                                 ├─2,850\n",
      "│    │    └─bias                                                   └─57\n",
      "│    └─Linear: 2-12                      [4608, 57]                3,306\n",
      "│    │    └─weight                                                 ├─3,249\n",
      "│    │    └─bias                                                   └─57\n",
      "│    └─Sigmoid: 2-13                     [4608, 57]                --\n",
      "==========================================================================================\n",
      "Total params: 20,091\n",
      "Trainable params: 20,091\n",
      "Non-trainable params: 0\n",
      "Total mult-adds (M): 92.58\n",
      "==========================================================================================\n",
      "Input size (MB): 1.05\n",
      "Forward/backward pass size (MB): 16.77\n",
      "Params size (MB): 0.08\n",
      "Estimated Total Size (MB): 17.90\n",
      "==========================================================================================\n",
      "epoch: 0, train_loss: 0.27756449580192566, val_loss: 0.16905611753463745\n",
      "epoch: 0, train_acc: 0.4391917030973863, val_acc: 0.4380787037037037\n",
      "epoch: 10, train_loss: 0.1364634931087494, val_loss: 0.13517829775810242\n",
      "epoch: 10, train_acc: 0.5066815490031935, val_acc: 0.5041956018518519\n",
      "epoch: 20, train_loss: 0.1276019960641861, val_loss: 0.12661626935005188\n",
      "epoch: 20, train_acc: 0.5645831395529098, val_acc: 0.5638020833333334\n",
      "epoch: 30, train_loss: 0.1206154152750969, val_loss: 0.11883264780044556\n",
      "epoch: 30, train_acc: 0.5638777788112733, val_acc: 0.5644169560185185\n",
      "epoch: 40, train_loss: 0.11693570762872696, val_loss: 0.11505910754203796\n",
      "epoch: 40, train_acc: 0.5753263262332187, val_acc: 0.5767144097222222\n",
      "epoch: 50, train_loss: 0.11512292176485062, val_loss: 0.113580621778965\n",
      "epoch: 50, train_acc: 0.5755511115245093, val_acc: 0.5767867476851852\n",
      "epoch: 60, train_loss: 0.11442399024963379, val_loss: 0.11348515748977661\n",
      "epoch: 60, train_acc: 0.5737063218925371, val_acc: 0.5746166087962963\n",
      "epoch: 70, train_loss: 0.11439178138971329, val_loss: 0.11313560605049133\n",
      "epoch: 70, train_acc: 0.5732645025268968, val_acc: 0.5737847222222222\n",
      "epoch: 80, train_loss: 0.11422046273946762, val_loss: 0.11427033692598343\n",
      "epoch: 80, train_acc: 0.57628747713391, val_acc: 0.5770399305555556\n",
      "epoch: 90, train_loss: 0.1144983321428299, val_loss: 0.11424032598733902\n",
      "epoch: 90, train_acc: 0.579271695656218, val_acc: 0.5799334490740741\n"
     ]
    }
   ],
   "source": [
    "FCAutoEncoder = AutoEncoder()\n",
    "model, loss_dict = train(FCAutoEncoder, train_loader, val_loader, num_epochs=100, acc_func=get_accuracy, plot_acc=True)"
   ]
  },
  {
   "cell_type": "code",
   "execution_count": 62,
   "metadata": {},
   "outputs": [],
   "source": [
    "from matplotlib import pyplot as plt \n",
    "def plot_acc_curves(loss_dict):\n",
    "    plt.title(f\"{loss_dict['config']}\")\n",
    "    n = len([value for value in loss_dict[\"train_acc\"]])\n",
    "    plt.plot(range(1,n+1), [value for value in  loss_dict[\"train_acc\"]], label=\"Train Accuracy\")\n",
    "    plt.plot(range(1,n+1), [value for value in  loss_dict[\"val_acc\"]], label=\"Validation Accuracy\")\n",
    "    plt.xlabel(f\"{loss_dict['epochs']} times Epochs\")\n",
    "    plt.ylabel(\"Accuracy\")\n",
    "    plt.legend(loc='best')\n",
    "    plt.show()\n",
    "\n",
    "def plot_loss_curves(loss_dict):\n",
    "    plt.title(f\"{loss_dict['config']}\")\n",
    "    n = len([value.cpu().data.numpy() for value in loss_dict[\"train_loss\"]])\n",
    "    plt.plot(range(1,n+1), [value.cpu().data.numpy() for value in loss_dict[\"train_loss\"]], label=\"Train Loss\")\n",
    "    plt.plot(range(1,n+1), [value.cpu().data.numpy() for value in loss_dict[\"val_loss\"]], label=\"Validation Loss\")\n",
    "    plt.xlabel(f\"{loss_dict['epochs']} times Epochs\")\n",
    "    plt.ylabel(\"Loss\")\n",
    "    plt.legend(loc='best')\n",
    "    plt.show()"
   ]
  },
  {
   "cell_type": "code",
   "execution_count": 63,
   "metadata": {},
   "outputs": [
    {
     "data": {
      "image/png": "[encoded data removed]",
      "text/plain": [
       "<Figure size 640x480 with 1 Axes>"
      ]
     },
     "metadata": {},
     "output_type": "display_data"
    },
    {
     "data": {
      "image/png": "[encoded data removed]",
      "text/plain": [
       "<Figure size 640x480 with 1 Axes>"
      ]
     },
     "metadata": {},
     "output_type": "display_data"
    }
   ],
   "source": [
    "plot_acc_curves(loss_dict)\n",
    "plot_loss_curves(loss_dict)"
   ]
  },
  {
   "cell_type": "markdown",
   "metadata": {
    "colab_type": "text",
    "id": "WKk01pwx1pq_"
   },
   "source": [
    "### Part (b) [3 pt]\n",
    "\n",
    "While plotting training and validation loss is valuable, loss values are harder to compare\n",
    "than accuracy percentages. It would be nice to have a measure of \"accuracy\" in this problem.\n",
    "\n",
    "Since we will only be imputing missing categorical values, we will define an accuracy measure.\n",
    "For each record and for each categorical feature, we determine whether\n",
    "the model can predict the categorical feature given all the other features of the record.\n",
    "\n",
    "A function `get_accuracy` is written for you. It is up to you to figure out how to\n",
    "use the function. **You don't need to submit anything in this part.**\n",
    "To earn the marks, correctly plot the training and validation accuracy every few \n",
    "iterations as part of your training curve."
   ]
  },
  {
   "cell_type": "code",
   "execution_count": 135,
   "metadata": {
    "colab": {},
    "colab_type": "code",
    "collapsed": true,
    "id": "bHWLfCzM1pq_",
    "jupyter": {
     "outputs_hidden": true
    }
   },
   "outputs": [],
   "source": [
    "def get_accuracy(model, data_loader, baseline_model = False):\n",
    "    \"\"\"Return the \"accuracy\" of the autoencoder model across a data set.\n",
    "    That is, for each record and for each categorical feature, \n",
    "    we determine whether the model can successfully predict the value\n",
    "    of the categorical feature given all the other features of the \n",
    "    record. The returned \"accuracy\" measure is the percentage of times \n",
    "    that our model is successful.\n",
    "        \n",
    "    Args:\n",
    "       - model: the autoencoder model, an instance of nn.Module\n",
    "       - data_loader: an instance of torch.utils.data.DataLoader\n",
    "\n",
    "    Example (to illustrate how get_accuracy is intended to be called.\n",
    "             Depending on your variable naming this code might require\n",
    "             modification.)\n",
    "\n",
    "        >>> model = AutoEncoder()\n",
    "        >>> vdl = torch.utils.data.DataLoader(data_valid, batch_size=256, shuffle=True)\n",
    "        >>> get_accuracy(model, vdl)\n",
    "    \"\"\"\n",
    "    total = 0\n",
    "    acc = 0\n",
    "    for col in catcols:\n",
    "        for item in data_loader: # minibatches\n",
    "            item = item[0]\n",
    "            inp = item.detach().numpy()\n",
    "            if baseline_model: \n",
    "                missing_cols = set(range(cat_index[col], cat_index[col] + len(cat_values[col])))\n",
    "                out = model(zero_out_feature(item.clone(), col), missing_cols).detach().numpy()\n",
    "            else: \n",
    "                out = model(zero_out_feature(item.clone(), col).to(\"cuda:0\")).cpu().detach().numpy()\n",
    "            for i in range(out.shape[0]): # record in minibatch\n",
    "                acc += int(get_feature(out[i], col) == get_feature(inp[i], col))\n",
    "                total += 1\n",
    "    return acc / total"
   ]
  },
  {
   "cell_type": "code",
   "execution_count": 64,
   "metadata": {},
   "outputs": [
    {
     "name": "stdout",
     "output_type": "stream",
     "text": [
      "==========================================================================================\n",
      "Layer (type:depth-idx)                   Output Shape              Param #\n",
      "==========================================================================================\n",
      "AutoEncoder                              [4608, 57]                --\n",
      "├─Sequential: 1-1                        [4608, 12]                --\n",
      "│    └─0.weight                                                    ├─3,249\n",
      "│    └─0.bias                                                      ├─57\n",
      "│    └─1.weight                                                    ├─2,679\n",
      "│    └─1.bias                                                      ├─47\n",
      "│    └─2.weight                                                    ├─1,739\n",
      "│    └─2.bias                                                      ├─37\n",
      "│    └─3.weight                                                    ├─1,110\n",
      "│    └─3.bias                                                      ├─30\n",
      "│    └─4.weight                                                    ├─600\n",
      "│    └─4.bias                                                      ├─20\n",
      "│    └─5.weight                                                    ├─240\n",
      "│    └─5.bias                                                      └─12\n",
      "│    └─Linear: 2-1                       [4608, 57]                3,306\n",
      "│    │    └─weight                                                 ├─3,249\n",
      "│    │    └─bias                                                   └─57\n",
      "│    └─Linear: 2-2                       [4608, 47]                2,726\n",
      "│    │    └─weight                                                 ├─2,679\n",
      "│    │    └─bias                                                   └─47\n",
      "│    └─Linear: 2-3                       [4608, 37]                1,776\n",
      "│    │    └─weight                                                 ├─1,739\n",
      "│    │    └─bias                                                   └─37\n",
      "│    └─Linear: 2-4                       [4608, 30]                1,140\n",
      "│    │    └─weight                                                 ├─1,110\n",
      "│    │    └─bias                                                   └─30\n",
      "│    └─Linear: 2-5                       [4608, 20]                620\n",
      "│    │    └─weight                                                 ├─600\n",
      "│    │    └─bias                                                   └─20\n",
      "│    └─Linear: 2-6                       [4608, 12]                252\n",
      "│    │    └─weight                                                 ├─240\n",
      "│    │    └─bias                                                   └─12\n",
      "├─Sequential: 1-2                        [4608, 57]                --\n",
      "│    └─0.weight                                                    ├─240\n",
      "│    └─0.bias                                                      ├─20\n",
      "│    └─1.weight                                                    ├─560\n",
      "│    └─1.bias                                                      ├─28\n",
      "│    └─2.weight                                                    ├─1,120\n",
      "│    └─2.bias                                                      ├─40\n",
      "│    └─3.weight                                                    ├─2,000\n",
      "│    └─3.bias                                                      ├─50\n",
      "│    └─4.weight                                                    ├─2,850\n",
      "│    └─4.bias                                                      ├─57\n",
      "│    └─5.weight                                                    ├─3,249\n",
      "│    └─5.bias                                                      └─57\n",
      "│    └─Linear: 2-7                       [4608, 20]                260\n",
      "│    │    └─weight                                                 ├─240\n",
      "│    │    └─bias                                                   └─20\n",
      "│    └─Linear: 2-8                       [4608, 28]                588\n",
      "│    │    └─weight                                                 ├─560\n",
      "│    │    └─bias                                                   └─28\n",
      "│    └─Linear: 2-9                       [4608, 40]                1,160\n",
      "│    │    └─weight                                                 ├─1,120\n",
      "│    │    └─bias                                                   └─40\n",
      "│    └─Linear: 2-10                      [4608, 50]                2,050\n",
      "│    │    └─weight                                                 ├─2,000\n",
      "│    │    └─bias                                                   └─50\n",
      "│    └─Linear: 2-11                      [4608, 57]                2,907\n",
      "│    │    └─weight                                                 ├─2,850\n",
      "│    │    └─bias                                                   └─57\n",
      "│    └─Linear: 2-12                      [4608, 57]                3,306\n",
      "│    │    └─weight                                                 ├─3,249\n",
      "│    │    └─bias                                                   └─57\n",
      "│    └─Sigmoid: 2-13                     [4608, 57]                --\n",
      "==========================================================================================\n",
      "Total params: 20,091\n",
      "Trainable params: 20,091\n",
      "Non-trainable params: 0\n",
      "Total mult-adds (M): 92.58\n",
      "==========================================================================================\n",
      "Input size (MB): 1.05\n",
      "Forward/backward pass size (MB): 16.77\n",
      "Params size (MB): 0.08\n",
      "Estimated Total Size (MB): 17.90\n",
      "==========================================================================================\n",
      "epoch: 0, train_loss: 0.19650046527385712, val_loss: 0.15320537984371185\n",
      "epoch: 0, train_acc: 0.4579806529625151, val_acc: 0.4568142361111111\n",
      "epoch: 10, train_loss: 0.1296728402376175, val_loss: 0.12882983684539795\n",
      "epoch: 10, train_acc: 0.5482203205903327, val_acc: 0.5478877314814815\n",
      "epoch: 20, train_loss: 0.12780451774597168, val_loss: 0.12700356543064117\n",
      "epoch: 20, train_acc: 0.557614795522897, val_acc: 0.5571469907407407\n",
      "epoch: 30, train_loss: 0.11755353212356567, val_loss: 0.11606036126613617\n",
      "epoch: 30, train_acc: 0.5632111741543422, val_acc: 0.5649594907407407\n",
      "epoch: 40, train_loss: 0.11723577976226807, val_loss: 0.11865691095590591\n",
      "epoch: 40, train_acc: 0.5621957647350634, val_acc: 0.5626446759259259\n",
      "epoch: 50, train_loss: 0.11725984513759613, val_loss: 0.11577272415161133\n",
      "epoch: 50, train_acc: 0.5631491644188138, val_acc: 0.5657190393518519\n",
      "epoch: 60, train_loss: 0.11730127036571503, val_loss: 0.11664751172065735\n",
      "epoch: 60, train_acc: 0.5638545251604502, val_acc: 0.5665509259259259\n",
      "epoch: 70, train_loss: 0.11703629046678543, val_loss: 0.1161196231842041\n",
      "epoch: 70, train_acc: 0.5571807273741978, val_acc: 0.5588107638888888\n",
      "epoch: 80, train_loss: 0.11734554171562195, val_loss: 0.11593350023031235\n",
      "epoch: 80, train_acc: 0.5580721173224196, val_acc: 0.5602575231481481\n",
      "epoch: 90, train_loss: 0.11707903444766998, val_loss: 0.11565212160348892\n",
      "epoch: 90, train_acc: 0.5590797755247574, val_acc: 0.5615234375\n",
      "epoch: 100, train_loss: 0.11719189584255219, val_loss: 0.11528501659631729\n",
      "epoch: 100, train_acc: 0.5592735559482839, val_acc: 0.5626446759259259\n",
      "epoch: 110, train_loss: 0.11677169054746628, val_loss: 0.11604857444763184\n",
      "epoch: 110, train_acc: 0.5613818869562521, val_acc: 0.5624638310185185\n"
     ]
    }
   ],
   "source": [
    "FCAutoEncoder = AutoEncoder()\n",
    "model, loss_dict = train(FCAutoEncoder, train_loader, val_loader, num_epochs=120, learning_rate=4e-4, acc_func=get_accuracy, plot_acc=True)"
   ]
  },
  {
   "cell_type": "code",
   "execution_count": 66,
   "metadata": {},
   "outputs": [
    {
     "data": {
      "image/png": "[encoded data removed]",
      "text/plain": [
       "<Figure size 640x480 with 1 Axes>"
      ]
     },
     "metadata": {},
     "output_type": "display_data"
    },
    {
     "data": {
      "image/png": "[encoded data removed]",
      "text/plain": [
       "<Figure size 640x480 with 1 Axes>"
      ]
     },
     "metadata": {},
     "output_type": "display_data"
    }
   ],
   "source": [
    "plot_acc_curves(loss_dict)\n",
    "plot_loss_curves(loss_dict)"
   ]
  },
  {
   "cell_type": "markdown",
   "metadata": {
    "colab_type": "text",
    "id": "SxCTlXoV1prB"
   },
   "source": [
    "### Part (c) [4 pt]\n",
    "\n",
    "Run your updated training code, using reasonable initial hyperparameters.\n",
    "\n",
    "Include your training curve in your submission."
   ]
  },
  {
   "cell_type": "code",
   "execution_count": 69,
   "metadata": {
    "colab": {},
    "colab_type": "code",
    "collapsed": true,
    "id": "nj5b71l-1prC",
    "jupyter": {
     "outputs_hidden": true
    }
   },
   "outputs": [
    {
     "name": "stdout",
     "output_type": "stream",
     "text": [
      "==========================================================================================\n",
      "Layer (type:depth-idx)                   Output Shape              Param #\n",
      "==========================================================================================\n",
      "AutoEncoder                              [4608, 57]                --\n",
      "├─Sequential: 1-1                        [4608, 12]                --\n",
      "│    └─0.weight                                                    ├─3,249\n",
      "│    └─0.bias                                                      ├─57\n",
      "│    └─1.weight                                                    ├─2,679\n",
      "│    └─1.bias                                                      ├─47\n",
      "│    └─2.weight                                                    ├─1,739\n",
      "│    └─2.bias                                                      ├─37\n",
      "│    └─3.weight                                                    ├─1,110\n",
      "│    └─3.bias                                                      ├─30\n",
      "│    └─4.weight                                                    ├─600\n",
      "│    └─4.bias                                                      ├─20\n",
      "│    └─5.weight                                                    ├─240\n",
      "│    └─5.bias                                                      └─12\n",
      "│    └─Linear: 2-1                       [4608, 57]                3,306\n",
      "│    │    └─weight                                                 ├─3,249\n",
      "│    │    └─bias                                                   └─57\n",
      "│    └─Linear: 2-2                       [4608, 47]                2,726\n",
      "│    │    └─weight                                                 ├─2,679\n",
      "│    │    └─bias                                                   └─47\n",
      "│    └─Linear: 2-3                       [4608, 37]                1,776\n",
      "│    │    └─weight                                                 ├─1,739\n",
      "│    │    └─bias                                                   └─37\n",
      "│    └─Linear: 2-4                       [4608, 30]                1,140\n",
      "│    │    └─weight                                                 ├─1,110\n",
      "│    │    └─bias                                                   └─30\n",
      "│    └─Linear: 2-5                       [4608, 20]                620\n",
      "│    │    └─weight                                                 ├─600\n",
      "│    │    └─bias                                                   └─20\n",
      "│    └─Linear: 2-6                       [4608, 12]                252\n",
      "│    │    └─weight                                                 ├─240\n",
      "│    │    └─bias                                                   └─12\n",
      "├─Sequential: 1-2                        [4608, 57]                --\n",
      "│    └─0.weight                                                    ├─240\n",
      "│    └─0.bias                                                      ├─20\n",
      "│    └─1.weight                                                    ├─560\n",
      "│    └─1.bias                                                      ├─28\n",
      "│    └─2.weight                                                    ├─1,120\n",
      "│    └─2.bias                                                      ├─40\n",
      "│    └─3.weight                                                    ├─2,000\n",
      "│    └─3.bias                                                      ├─50\n",
      "│    └─4.weight                                                    ├─2,850\n",
      "│    └─4.bias                                                      ├─57\n",
      "│    └─5.weight                                                    ├─3,249\n",
      "│    └─5.bias                                                      └─57\n",
      "│    └─Linear: 2-7                       [4608, 20]                260\n",
      "│    │    └─weight                                                 ├─240\n",
      "│    │    └─bias                                                   └─20\n",
      "│    └─Linear: 2-8                       [4608, 28]                588\n",
      "│    │    └─weight                                                 ├─560\n",
      "│    │    └─bias                                                   └─28\n",
      "│    └─Linear: 2-9                       [4608, 40]                1,160\n",
      "│    │    └─weight                                                 ├─1,120\n",
      "│    │    └─bias                                                   └─40\n",
      "│    └─Linear: 2-10                      [4608, 50]                2,050\n",
      "│    │    └─weight                                                 ├─2,000\n",
      "│    │    └─bias                                                   └─50\n",
      "│    └─Linear: 2-11                      [4608, 57]                2,907\n",
      "│    │    └─weight                                                 ├─2,850\n",
      "│    │    └─bias                                                   └─57\n",
      "│    └─Linear: 2-12                      [4608, 57]                3,306\n",
      "│    │    └─weight                                                 ├─3,249\n",
      "│    │    └─bias                                                   └─57\n",
      "│    └─Sigmoid: 2-13                     [4608, 57]                --\n",
      "==========================================================================================\n",
      "Total params: 20,091\n",
      "Trainable params: 20,091\n",
      "Non-trainable params: 0\n",
      "Total mult-adds (M): 92.58\n",
      "==========================================================================================\n",
      "Input size (MB): 1.05\n",
      "Forward/backward pass size (MB): 16.77\n",
      "Params size (MB): 0.08\n",
      "Estimated Total Size (MB): 17.90\n",
      "==========================================================================================\n",
      "epoch: 0, train_loss: 0.16350798308849335, val_loss: 0.13589662313461304\n",
      "epoch: 0, train_acc: 0.5098750503829101, val_acc: 0.5065827546296297\n",
      "epoch: 10, train_loss: 0.10111326724290848, val_loss: 0.09753181785345078\n",
      "epoch: 10, train_acc: 0.6301971909589805, val_acc: 0.6311848958333334\n",
      "epoch: 20, train_loss: 0.09710381180047989, val_loss: 0.09447476267814636\n",
      "epoch: 20, train_acc: 0.6476141754255418, val_acc: 0.6488353587962963\n",
      "epoch: 30, train_loss: 0.09679349511861801, val_loss: 0.09402942657470703\n",
      "epoch: 30, train_acc: 0.6481412581775339, val_acc: 0.6495225694444444\n",
      "epoch: 40, train_loss: 0.09701282531023026, val_loss: 0.09486211091279984\n",
      "epoch: 40, train_acc: 0.6491799212476359, val_acc: 0.6510778356481481\n",
      "epoch: 50, train_loss: 0.09667780250310898, val_loss: 0.09393224865198135\n",
      "epoch: 50, train_acc: 0.656977645490342, val_acc: 0.6575520833333334\n",
      "epoch: 60, train_loss: 0.0964442566037178, val_loss: 0.09427308291196823\n",
      "epoch: 60, train_acc: 0.657636498930332, val_acc: 0.6573712384259259\n",
      "epoch: 70, train_loss: 0.0963512733578682, val_loss: 0.09502405673265457\n",
      "epoch: 70, train_acc: 0.6517223204043034, val_acc: 0.65234375\n",
      "epoch: 80, train_loss: 0.09671428054571152, val_loss: 0.09514930099248886\n",
      "epoch: 80, train_acc: 0.6562180262301182, val_acc: 0.6570095486111112\n",
      "epoch: 90, train_loss: 0.09635379165410995, val_loss: 0.09591325372457504\n",
      "epoch: 90, train_acc: 0.6533810808296903, val_acc: 0.6532118055555556\n",
      "epoch: 100, train_loss: 0.09602594375610352, val_loss: 0.09466587752103806\n",
      "epoch: 100, train_acc: 0.6564195578705857, val_acc: 0.6570457175925926\n",
      "epoch: 110, train_loss: 0.09618617594242096, val_loss: 0.09448018670082092\n",
      "epoch: 110, train_acc: 0.6542104610423837, val_acc: 0.6539351851851852\n",
      "epoch: 120, train_loss: 0.09603038430213928, val_loss: 0.09555862843990326\n",
      "epoch: 120, train_acc: 0.6561792701454129, val_acc: 0.6561776620370371\n",
      "epoch: 130, train_loss: 0.09586621820926666, val_loss: 0.09610024839639664\n",
      "epoch: 130, train_acc: 0.6531640467553406, val_acc: 0.6529586226851852\n",
      "epoch: 140, train_loss: 0.095892995595932, val_loss: 0.09459006786346436\n",
      "epoch: 140, train_acc: 0.6611400489876911, val_acc: 0.6617838541666666\n",
      "epoch: 150, train_loss: 0.09579801559448242, val_loss: 0.0936271995306015\n",
      "epoch: 150, train_acc: 0.6475676681238954, val_acc: 0.6467013888888888\n",
      "epoch: 160, train_loss: 0.09555616229772568, val_loss: 0.09440086036920547\n",
      "epoch: 160, train_acc: 0.6430797135150219, val_acc: 0.6418185763888888\n",
      "epoch: 170, train_loss: 0.09596523642539978, val_loss: 0.09361530095338821\n",
      "epoch: 170, train_acc: 0.6590317179797228, val_acc: 0.6594328703703703\n",
      "epoch: 180, train_loss: 0.09583473205566406, val_loss: 0.09469461441040039\n",
      "epoch: 180, train_acc: 0.6524586860137042, val_acc: 0.6522714120370371\n",
      "epoch: 190, train_loss: 0.09584932029247284, val_loss: 0.09477134048938751\n",
      "epoch: 190, train_acc: 0.6572179332155148, val_acc: 0.6573712384259259\n"
     ]
    }
   ],
   "source": [
    "FCAutoEncoder = AutoEncoder()\n",
    "model, loss_dict = train(FCAutoEncoder, train_loader, val_loader, num_epochs=200, learning_rate=2e-3, weight_decay=1e-5, acc_func=get_accuracy, plot_acc=True)"
   ]
  },
  {
   "cell_type": "code",
   "execution_count": 70,
   "metadata": {},
   "outputs": [
    {
     "data": {
      "image/png": "[encoded data removed]",
      "text/plain": [
       "<Figure size 640x480 with 1 Axes>"
      ]
     },
     "metadata": {},
     "output_type": "display_data"
    },
    {
     "data": {
      "image/png": "[encoded data removed]",
      "text/plain": [
       "<Figure size 640x480 with 1 Axes>"
      ]
     },
     "metadata": {},
     "output_type": "display_data"
    }
   ],
   "source": [
    "plot_acc_curves(loss_dict)\n",
    "plot_loss_curves(loss_dict)"
   ]
  },
  {
   "cell_type": "markdown",
   "metadata": {
    "colab_type": "text",
    "id": "h9xTwIf51prF"
   },
   "source": [
    "### Part (d) [5 pt]\n",
    "\n",
    "Tune your hyperparameters, training at least 4 different models (4 sets of hyperparameters).\n",
    "\n",
    "Do not include all your training curves. Instead, explain what hyperparameters\n",
    "you tried, what their effect was, and what your thought process was as you \n",
    "chose the next set of hyperparameters to try."
   ]
  },
  {
   "attachments": {},
   "cell_type": "markdown",
   "metadata": {},
   "source": [
    "We will try the four following sets of hyperparameters: \n",
    "1. A high learning rate with a high weight decay \n",
    "2. A high learning rate with a lower weight decay\n",
    "3. A lower learning rate with a high weight decay\n",
    "4. A lower learning rate with a lower weight decay\n",
    "5. Based on the above, we will try a larger epoch count \n",
    "\n",
    "This will essentially allow for us to perform a grid search over the available hyperparameters that I have coded. And then choose the combination, e.g., high learning rate and high weight decay, using a binary search strategy. This will be the main thinking for model 5 where we select the hyperparameters that we train over more epochs. "
   ]
  },
  {
   "cell_type": "code",
   "execution_count": 71,
   "metadata": {},
   "outputs": [
    {
     "name": "stdout",
     "output_type": "stream",
     "text": [
      "==========================================================================================\n",
      "Layer (type:depth-idx)                   Output Shape              Param #\n",
      "==========================================================================================\n",
      "AutoEncoder                              [4608, 57]                --\n",
      "├─Sequential: 1-1                        [4608, 12]                --\n",
      "│    └─0.weight                                                    ├─3,249\n",
      "│    └─0.bias                                                      ├─57\n",
      "│    └─1.weight                                                    ├─2,679\n",
      "│    └─1.bias                                                      ├─47\n",
      "│    └─2.weight                                                    ├─1,739\n",
      "│    └─2.bias                                                      ├─37\n",
      "│    └─3.weight                                                    ├─1,110\n",
      "│    └─3.bias                                                      ├─30\n",
      "│    └─4.weight                                                    ├─600\n",
      "│    └─4.bias                                                      ├─20\n",
      "│    └─5.weight                                                    ├─240\n",
      "│    └─5.bias                                                      └─12\n",
      "│    └─Linear: 2-1                       [4608, 57]                3,306\n",
      "│    │    └─weight                                                 ├─3,249\n",
      "│    │    └─bias                                                   └─57\n",
      "│    └─Linear: 2-2                       [4608, 47]                2,726\n",
      "│    │    └─weight                                                 ├─2,679\n",
      "│    │    └─bias                                                   └─47\n",
      "│    └─Linear: 2-3                       [4608, 37]                1,776\n",
      "│    │    └─weight                                                 ├─1,739\n",
      "│    │    └─bias                                                   └─37\n",
      "│    └─Linear: 2-4                       [4608, 30]                1,140\n",
      "│    │    └─weight                                                 ├─1,110\n",
      "│    │    └─bias                                                   └─30\n",
      "│    └─Linear: 2-5                       [4608, 20]                620\n",
      "│    │    └─weight                                                 ├─600\n",
      "│    │    └─bias                                                   └─20\n",
      "│    └─Linear: 2-6                       [4608, 12]                252\n",
      "│    │    └─weight                                                 ├─240\n",
      "│    │    └─bias                                                   └─12\n",
      "├─Sequential: 1-2                        [4608, 57]                --\n",
      "│    └─0.weight                                                    ├─240\n",
      "│    └─0.bias                                                      ├─20\n",
      "│    └─1.weight                                                    ├─560\n",
      "│    └─1.bias                                                      ├─28\n",
      "│    └─2.weight                                                    ├─1,120\n",
      "│    └─2.bias                                                      ├─40\n",
      "│    └─3.weight                                                    ├─2,000\n",
      "│    └─3.bias                                                      ├─50\n",
      "│    └─4.weight                                                    ├─2,850\n",
      "│    └─4.bias                                                      ├─57\n",
      "│    └─5.weight                                                    ├─3,249\n",
      "│    └─5.bias                                                      └─57\n",
      "│    └─Linear: 2-7                       [4608, 20]                260\n",
      "│    │    └─weight                                                 ├─240\n",
      "│    │    └─bias                                                   └─20\n",
      "│    └─Linear: 2-8                       [4608, 28]                588\n",
      "│    │    └─weight                                                 ├─560\n",
      "│    │    └─bias                                                   └─28\n",
      "│    └─Linear: 2-9                       [4608, 40]                1,160\n",
      "│    │    └─weight                                                 ├─1,120\n",
      "│    │    └─bias                                                   └─40\n",
      "│    └─Linear: 2-10                      [4608, 50]                2,050\n",
      "│    │    └─weight                                                 ├─2,000\n",
      "│    │    └─bias                                                   └─50\n",
      "│    └─Linear: 2-11                      [4608, 57]                2,907\n",
      "│    │    └─weight                                                 ├─2,850\n",
      "│    │    └─bias                                                   └─57\n",
      "│    └─Linear: 2-12                      [4608, 57]                3,306\n",
      "│    │    └─weight                                                 ├─3,249\n",
      "│    │    └─bias                                                   └─57\n",
      "│    └─Sigmoid: 2-13                     [4608, 57]                --\n",
      "==========================================================================================\n",
      "Total params: 20,091\n",
      "Trainable params: 20,091\n",
      "Non-trainable params: 0\n",
      "Total mult-adds (M): 92.58\n",
      "==========================================================================================\n",
      "Input size (MB): 1.05\n",
      "Forward/backward pass size (MB): 16.77\n",
      "Params size (MB): 0.08\n",
      "Estimated Total Size (MB): 17.90\n",
      "==========================================================================================\n",
      "epoch: 0, train_loss: 0.5030332207679749, val_loss: 0.5977501273155212\n",
      "epoch: 0, train_acc: 0.1250116268254116, val_acc: 0.12507233796296297\n",
      "epoch: 10, train_loss: 0.4942972958087921, val_loss: 0.7176238894462585\n",
      "epoch: 10, train_acc: 0.23252100579791027, val_acc: 0.23328993055555555\n",
      "epoch: 20, train_loss: 0.5574783682823181, val_loss: 0.5407599806785583\n",
      "epoch: 20, train_acc: 0.2727963290236567, val_acc: 0.2742332175925926\n",
      "epoch: 30, train_loss: 0.8430361151695251, val_loss: 0.8313632011413574\n",
      "epoch: 30, train_acc: 0.2104842960344774, val_acc: 0.2105034722222222\n",
      "epoch: 40, train_loss: 0.27510350942611694, val_loss: 0.23407931625843048\n",
      "epoch: 40, train_acc: 0.19185037050816978, val_acc: 0.19223813657407407\n",
      "epoch: 50, train_loss: 0.19435147941112518, val_loss: 0.18663515150547028\n",
      "epoch: 50, train_acc: 0.4062645335317645, val_acc: 0.40346498842592593\n",
      "epoch: 60, train_loss: 0.16892503201961517, val_loss: 0.15700899064540863\n",
      "epoch: 60, train_acc: 0.45718227761758595, val_acc: 0.4545355902777778\n",
      "epoch: 70, train_loss: 0.1565491259098053, val_loss: 0.15707500278949738\n",
      "epoch: 70, train_acc: 0.45907357455120457, val_acc: 0.4580078125\n",
      "epoch: 80, train_loss: 0.1565597653388977, val_loss: 0.15672360360622406\n",
      "epoch: 80, train_acc: 0.45907357455120457, val_acc: 0.4580078125\n",
      "epoch: 90, train_loss: 0.15645688772201538, val_loss: 0.15681621432304382\n",
      "epoch: 90, train_acc: 0.45907357455120457, val_acc: 0.4580078125\n"
     ]
    }
   ],
   "source": [
    "# high learning rate, high WD\n",
    "FCAutoEncoder = AutoEncoder()\n",
    "model, loss_dict = train(FCAutoEncoder, train_loader, val_loader, num_epochs=100, learning_rate=6e-2, weight_decay=1e-3, acc_func=get_accuracy, plot_acc=True)"
   ]
  },
  {
   "cell_type": "code",
   "execution_count": 75,
   "metadata": {},
   "outputs": [
    {
     "name": "stdout",
     "output_type": "stream",
     "text": [
      "==========================================================================================\n",
      "Layer (type:depth-idx)                   Output Shape              Param #\n",
      "==========================================================================================\n",
      "AutoEncoder                              [4608, 57]                --\n",
      "├─Sequential: 1-1                        [4608, 12]                --\n",
      "│    └─0.weight                                                    ├─3,249\n",
      "│    └─0.bias                                                      ├─57\n",
      "│    └─1.weight                                                    ├─2,679\n",
      "│    └─1.bias                                                      ├─47\n",
      "│    └─2.weight                                                    ├─1,739\n",
      "│    └─2.bias                                                      ├─37\n",
      "│    └─3.weight                                                    ├─1,110\n",
      "│    └─3.bias                                                      ├─30\n",
      "│    └─4.weight                                                    ├─600\n",
      "│    └─4.bias                                                      ├─20\n",
      "│    └─5.weight                                                    ├─240\n",
      "│    └─5.bias                                                      └─12\n",
      "│    └─Linear: 2-1                       [4608, 57]                3,306\n",
      "│    │    └─weight                                                 ├─3,249\n",
      "│    │    └─bias                                                   └─57\n",
      "│    └─Linear: 2-2                       [4608, 47]                2,726\n",
      "│    │    └─weight                                                 ├─2,679\n",
      "│    │    └─bias                                                   └─47\n",
      "│    └─Linear: 2-3                       [4608, 37]                1,776\n",
      "│    │    └─weight                                                 ├─1,739\n",
      "│    │    └─bias                                                   └─37\n",
      "│    └─Linear: 2-4                       [4608, 30]                1,140\n",
      "│    │    └─weight                                                 ├─1,110\n",
      "│    │    └─bias                                                   └─30\n",
      "│    └─Linear: 2-5                       [4608, 20]                620\n",
      "│    │    └─weight                                                 ├─600\n",
      "│    │    └─bias                                                   └─20\n",
      "│    └─Linear: 2-6                       [4608, 12]                252\n",
      "│    │    └─weight                                                 ├─240\n",
      "│    │    └─bias                                                   └─12\n",
      "├─Sequential: 1-2                        [4608, 57]                --\n",
      "│    └─0.weight                                                    ├─240\n",
      "│    └─0.bias                                                      ├─20\n",
      "│    └─1.weight                                                    ├─560\n",
      "│    └─1.bias                                                      ├─28\n",
      "│    └─2.weight                                                    ├─1,120\n",
      "│    └─2.bias                                                      ├─40\n",
      "│    └─3.weight                                                    ├─2,000\n",
      "│    └─3.bias                                                      ├─50\n",
      "│    └─4.weight                                                    ├─2,850\n",
      "│    └─4.bias                                                      ├─57\n",
      "│    └─5.weight                                                    ├─3,249\n",
      "│    └─5.bias                                                      └─57\n",
      "│    └─Linear: 2-7                       [4608, 20]                260\n",
      "│    │    └─weight                                                 ├─240\n",
      "│    │    └─bias                                                   └─20\n",
      "│    └─Linear: 2-8                       [4608, 28]                588\n",
      "│    │    └─weight                                                 ├─560\n",
      "│    │    └─bias                                                   └─28\n",
      "│    └─Linear: 2-9                       [4608, 40]                1,160\n",
      "│    │    └─weight                                                 ├─1,120\n",
      "│    │    └─bias                                                   └─40\n",
      "│    └─Linear: 2-10                      [4608, 50]                2,050\n",
      "│    │    └─weight                                                 ├─2,000\n",
      "│    │    └─bias                                                   └─50\n",
      "│    └─Linear: 2-11                      [4608, 57]                2,907\n",
      "│    │    └─weight                                                 ├─2,850\n",
      "│    │    └─bias                                                   └─57\n",
      "│    └─Linear: 2-12                      [4608, 57]                3,306\n",
      "│    │    └─weight                                                 ├─3,249\n",
      "│    │    └─bias                                                   └─57\n",
      "│    └─Sigmoid: 2-13                     [4608, 57]                --\n",
      "==========================================================================================\n",
      "Total params: 20,091\n",
      "Trainable params: 20,091\n",
      "Non-trainable params: 0\n",
      "Total mult-adds (M): 92.58\n",
      "==========================================================================================\n",
      "Input size (MB): 1.05\n",
      "Forward/backward pass size (MB): 16.77\n",
      "Params size (MB): 0.08\n",
      "Estimated Total Size (MB): 17.90\n",
      "==========================================================================================\n",
      "epoch: 0, train_loss: 0.2868417501449585, val_loss: 0.22494566440582275\n",
      "epoch: 0, train_acc: 0.3187455430502589, val_acc: 0.31984230324074076\n",
      "epoch: 10, train_loss: 0.9014258980751038, val_loss: 0.8849048614501953\n",
      "epoch: 10, train_acc: 0.0911388087929805, val_acc: 0.09241174768518519\n",
      "epoch: 20, train_loss: 0.559620201587677, val_loss: 0.5531684160232544\n",
      "epoch: 20, train_acc: 0.1595898055994791, val_acc: 0.16120515046296297\n",
      "epoch: 30, train_loss: 0.6714227199554443, val_loss: 0.5306887030601501\n",
      "epoch: 30, train_acc: 0.14635847828109014, val_acc: 0.14872685185185186\n",
      "epoch: 40, train_loss: 0.5203275084495544, val_loss: 0.517612874507904\n",
      "epoch: 40, train_acc: 0.1563187920503519, val_acc: 0.1576244212962963\n",
      "epoch: 50, train_loss: 0.6175085306167603, val_loss: 0.6094297170639038\n",
      "epoch: 50, train_acc: 0.1830837441478312, val_acc: 0.18395543981481483\n",
      "epoch: 60, train_loss: 0.586700439453125, val_loss: 0.5914342403411865\n",
      "epoch: 60, train_acc: 0.3002433882119493, val_acc: 0.3013599537037037\n",
      "epoch: 70, train_loss: 0.6224239468574524, val_loss: 0.6555841565132141\n",
      "epoch: 70, train_acc: 0.18219235419960933, val_acc: 0.18160445601851852\n",
      "epoch: 80, train_loss: 0.5891613364219666, val_loss: 0.5598772764205933\n",
      "epoch: 80, train_acc: 0.1650621647598673, val_acc: 0.16608796296296297\n",
      "epoch: 90, train_loss: 0.48640769720077515, val_loss: 0.4906626045703888\n",
      "epoch: 90, train_acc: 0.23662139955973088, val_acc: 0.23509837962962962\n"
     ]
    }
   ],
   "source": [
    "# high learning rate, low WD\n",
    "FCAutoEncoder = AutoEncoder()\n",
    "model, loss_dict = train(FCAutoEncoder, train_loader, val_loader, num_epochs=100, learning_rate=6e-2, weight_decay=1e-5, acc_func=get_accuracy, plot_acc=True)"
   ]
  },
  {
   "cell_type": "code",
   "execution_count": 73,
   "metadata": {},
   "outputs": [
    {
     "name": "stdout",
     "output_type": "stream",
     "text": [
      "==========================================================================================\n",
      "Layer (type:depth-idx)                   Output Shape              Param #\n",
      "==========================================================================================\n",
      "AutoEncoder                              [4608, 57]                --\n",
      "├─Sequential: 1-1                        [4608, 12]                --\n",
      "│    └─0.weight                                                    ├─3,249\n",
      "│    └─0.bias                                                      ├─57\n",
      "│    └─1.weight                                                    ├─2,679\n",
      "│    └─1.bias                                                      ├─47\n",
      "│    └─2.weight                                                    ├─1,739\n",
      "│    └─2.bias                                                      ├─37\n",
      "│    └─3.weight                                                    ├─1,110\n",
      "│    └─3.bias                                                      ├─30\n",
      "│    └─4.weight                                                    ├─600\n",
      "│    └─4.bias                                                      ├─20\n",
      "│    └─5.weight                                                    ├─240\n",
      "│    └─5.bias                                                      └─12\n",
      "│    └─Linear: 2-1                       [4608, 57]                3,306\n",
      "│    │    └─weight                                                 ├─3,249\n",
      "│    │    └─bias                                                   └─57\n",
      "│    └─Linear: 2-2                       [4608, 47]                2,726\n",
      "│    │    └─weight                                                 ├─2,679\n",
      "│    │    └─bias                                                   └─47\n",
      "│    └─Linear: 2-3                       [4608, 37]                1,776\n",
      "│    │    └─weight                                                 ├─1,739\n",
      "│    │    └─bias                                                   └─37\n",
      "│    └─Linear: 2-4                       [4608, 30]                1,140\n",
      "│    │    └─weight                                                 ├─1,110\n",
      "│    │    └─bias                                                   └─30\n",
      "│    └─Linear: 2-5                       [4608, 20]                620\n",
      "│    │    └─weight                                                 ├─600\n",
      "│    │    └─bias                                                   └─20\n",
      "│    └─Linear: 2-6                       [4608, 12]                252\n",
      "│    │    └─weight                                                 ├─240\n",
      "│    │    └─bias                                                   └─12\n",
      "├─Sequential: 1-2                        [4608, 57]                --\n",
      "│    └─0.weight                                                    ├─240\n",
      "│    └─0.bias                                                      ├─20\n",
      "│    └─1.weight                                                    ├─560\n",
      "│    └─1.bias                                                      ├─28\n",
      "│    └─2.weight                                                    ├─1,120\n",
      "│    └─2.bias                                                      ├─40\n",
      "│    └─3.weight                                                    ├─2,000\n",
      "│    └─3.bias                                                      ├─50\n",
      "│    └─4.weight                                                    ├─2,850\n",
      "│    └─4.bias                                                      ├─57\n",
      "│    └─5.weight                                                    ├─3,249\n",
      "│    └─5.bias                                                      └─57\n",
      "│    └─Linear: 2-7                       [4608, 20]                260\n",
      "│    │    └─weight                                                 ├─240\n",
      "│    │    └─bias                                                   └─20\n",
      "│    └─Linear: 2-8                       [4608, 28]                588\n",
      "│    │    └─weight                                                 ├─560\n",
      "│    │    └─bias                                                   └─28\n",
      "│    └─Linear: 2-9                       [4608, 40]                1,160\n",
      "│    │    └─weight                                                 ├─1,120\n",
      "│    │    └─bias                                                   └─40\n",
      "│    └─Linear: 2-10                      [4608, 50]                2,050\n",
      "│    │    └─weight                                                 ├─2,000\n",
      "│    │    └─bias                                                   └─50\n",
      "│    └─Linear: 2-11                      [4608, 57]                2,907\n",
      "│    │    └─weight                                                 ├─2,850\n",
      "│    │    └─bias                                                   └─57\n",
      "│    └─Linear: 2-12                      [4608, 57]                3,306\n",
      "│    │    └─weight                                                 ├─3,249\n",
      "│    │    └─bias                                                   └─57\n",
      "│    └─Sigmoid: 2-13                     [4608, 57]                --\n",
      "==========================================================================================\n",
      "Total params: 20,091\n",
      "Trainable params: 20,091\n",
      "Non-trainable params: 0\n",
      "Total mult-adds (M): 92.58\n",
      "==========================================================================================\n",
      "Input size (MB): 1.05\n",
      "Forward/backward pass size (MB): 16.77\n",
      "Params size (MB): 0.08\n",
      "Estimated Total Size (MB): 17.90\n",
      "==========================================================================================\n",
      "epoch: 0, train_loss: 0.23870640993118286, val_loss: 0.1571282148361206\n",
      "epoch: 0, train_acc: 0.4427495116733327, val_acc: 0.44169560185185186\n",
      "epoch: 10, train_loss: 0.15597547590732574, val_loss: 0.15605829656124115\n",
      "epoch: 10, train_acc: 0.45907357455120457, val_acc: 0.4580078125\n",
      "epoch: 20, train_loss: 0.15595705807209015, val_loss: 0.1560332477092743\n",
      "epoch: 20, train_acc: 0.45907357455120457, val_acc: 0.4580078125\n",
      "epoch: 30, train_loss: 0.15595701336860657, val_loss: 0.15602293610572815\n",
      "epoch: 30, train_acc: 0.45907357455120457, val_acc: 0.4580078125\n",
      "epoch: 40, train_loss: 0.15595783293247223, val_loss: 0.15601320564746857\n",
      "epoch: 40, train_acc: 0.45907357455120457, val_acc: 0.4580078125\n",
      "epoch: 50, train_loss: 0.15595784783363342, val_loss: 0.15600837767124176\n",
      "epoch: 50, train_acc: 0.45907357455120457, val_acc: 0.4580078125\n",
      "epoch: 60, train_loss: 0.15595762431621552, val_loss: 0.15600818395614624\n",
      "epoch: 60, train_acc: 0.45907357455120457, val_acc: 0.4580078125\n",
      "epoch: 70, train_loss: 0.1559571772813797, val_loss: 0.15600888431072235\n",
      "epoch: 70, train_acc: 0.45907357455120457, val_acc: 0.4580078125\n",
      "epoch: 80, train_loss: 0.1559567153453827, val_loss: 0.15600994229316711\n",
      "epoch: 80, train_acc: 0.45907357455120457, val_acc: 0.4580078125\n",
      "epoch: 90, train_loss: 0.1559562385082245, val_loss: 0.15601082146167755\n",
      "epoch: 90, train_acc: 0.45907357455120457, val_acc: 0.4580078125\n"
     ]
    }
   ],
   "source": [
    "# lower learning rate, high WD\n",
    "FCAutoEncoder = AutoEncoder()\n",
    "model, loss_dict = train(FCAutoEncoder, train_loader, val_loader, num_epochs=100, learning_rate=2e-4, weight_decay=1e-3, acc_func=get_accuracy, plot_acc=True)"
   ]
  },
  {
   "cell_type": "code",
   "execution_count": 74,
   "metadata": {},
   "outputs": [
    {
     "name": "stdout",
     "output_type": "stream",
     "text": [
      "==========================================================================================\n",
      "Layer (type:depth-idx)                   Output Shape              Param #\n",
      "==========================================================================================\n",
      "AutoEncoder                              [4608, 57]                --\n",
      "├─Sequential: 1-1                        [4608, 12]                --\n",
      "│    └─0.weight                                                    ├─3,249\n",
      "│    └─0.bias                                                      ├─57\n",
      "│    └─1.weight                                                    ├─2,679\n",
      "│    └─1.bias                                                      ├─47\n",
      "│    └─2.weight                                                    ├─1,739\n",
      "│    └─2.bias                                                      ├─37\n",
      "│    └─3.weight                                                    ├─1,110\n",
      "│    └─3.bias                                                      ├─30\n",
      "│    └─4.weight                                                    ├─600\n",
      "│    └─4.bias                                                      ├─20\n",
      "│    └─5.weight                                                    ├─240\n",
      "│    └─5.bias                                                      └─12\n",
      "│    └─Linear: 2-1                       [4608, 57]                3,306\n",
      "│    │    └─weight                                                 ├─3,249\n",
      "│    │    └─bias                                                   └─57\n",
      "│    └─Linear: 2-2                       [4608, 47]                2,726\n",
      "│    │    └─weight                                                 ├─2,679\n",
      "│    │    └─bias                                                   └─47\n",
      "│    └─Linear: 2-3                       [4608, 37]                1,776\n",
      "│    │    └─weight                                                 ├─1,739\n",
      "│    │    └─bias                                                   └─37\n",
      "│    └─Linear: 2-4                       [4608, 30]                1,140\n",
      "│    │    └─weight                                                 ├─1,110\n",
      "│    │    └─bias                                                   └─30\n",
      "│    └─Linear: 2-5                       [4608, 20]                620\n",
      "│    │    └─weight                                                 ├─600\n",
      "│    │    └─bias                                                   └─20\n",
      "│    └─Linear: 2-6                       [4608, 12]                252\n",
      "│    │    └─weight                                                 ├─240\n",
      "│    │    └─bias                                                   └─12\n",
      "├─Sequential: 1-2                        [4608, 57]                --\n",
      "│    └─0.weight                                                    ├─240\n",
      "│    └─0.bias                                                      ├─20\n",
      "│    └─1.weight                                                    ├─560\n",
      "│    └─1.bias                                                      ├─28\n",
      "│    └─2.weight                                                    ├─1,120\n",
      "│    └─2.bias                                                      ├─40\n",
      "│    └─3.weight                                                    ├─2,000\n",
      "│    └─3.bias                                                      ├─50\n",
      "│    └─4.weight                                                    ├─2,850\n",
      "│    └─4.bias                                                      ├─57\n",
      "│    └─5.weight                                                    ├─3,249\n",
      "│    └─5.bias                                                      └─57\n",
      "│    └─Linear: 2-7                       [4608, 20]                260\n",
      "│    │    └─weight                                                 ├─240\n",
      "│    │    └─bias                                                   └─20\n",
      "│    └─Linear: 2-8                       [4608, 28]                588\n",
      "│    │    └─weight                                                 ├─560\n",
      "│    │    └─bias                                                   └─28\n",
      "│    └─Linear: 2-9                       [4608, 40]                1,160\n",
      "│    │    └─weight                                                 ├─1,120\n",
      "│    │    └─bias                                                   └─40\n",
      "│    └─Linear: 2-10                      [4608, 50]                2,050\n",
      "│    │    └─weight                                                 ├─2,000\n",
      "│    │    └─bias                                                   └─50\n",
      "│    └─Linear: 2-11                      [4608, 57]                2,907\n",
      "│    │    └─weight                                                 ├─2,850\n",
      "│    │    └─bias                                                   └─57\n",
      "│    └─Linear: 2-12                      [4608, 57]                3,306\n",
      "│    │    └─weight                                                 ├─3,249\n",
      "│    │    └─bias                                                   └─57\n",
      "│    └─Sigmoid: 2-13                     [4608, 57]                --\n",
      "==========================================================================================\n",
      "Total params: 20,091\n",
      "Trainable params: 20,091\n",
      "Non-trainable params: 0\n",
      "Total mult-adds (M): 92.58\n",
      "==========================================================================================\n",
      "Input size (MB): 1.05\n",
      "Forward/backward pass size (MB): 16.77\n",
      "Params size (MB): 0.08\n",
      "Estimated Total Size (MB): 17.90\n",
      "==========================================================================================\n",
      "epoch: 0, train_loss: 0.22502842545509338, val_loss: 0.1546163260936737\n",
      "epoch: 0, train_acc: 0.45774036523734224, val_acc: 0.45652488425925924\n",
      "epoch: 10, train_loss: 0.12747928500175476, val_loss: 0.12583349645137787\n",
      "epoch: 10, train_acc: 0.5654977831519549, val_acc: 0.5650679976851852\n",
      "epoch: 20, train_loss: 0.11648808419704437, val_loss: 0.11538629978895187\n",
      "epoch: 20, train_acc: 0.5700865035810623, val_acc: 0.5715422453703703\n",
      "epoch: 30, train_loss: 0.11202333122491837, val_loss: 0.10926668345928192\n",
      "epoch: 30, train_acc: 0.5886661705887825, val_acc: 0.5870587384259259\n",
      "epoch: 40, train_loss: 0.10487788170576096, val_loss: 0.1019371747970581\n",
      "epoch: 40, train_acc: 0.5746442191424054, val_acc: 0.5764250578703703\n",
      "epoch: 50, train_loss: 0.1041886955499649, val_loss: 0.1016688197851181\n",
      "epoch: 50, train_acc: 0.5975335627693548, val_acc: 0.599609375\n",
      "epoch: 60, train_loss: 0.10358430445194244, val_loss: 0.10109434276819229\n",
      "epoch: 60, train_acc: 0.5993550987505039, val_acc: 0.5999348958333334\n",
      "epoch: 70, train_loss: 0.10308339446783066, val_loss: 0.10160449892282486\n",
      "epoch: 70, train_acc: 0.6148652838495644, val_acc: 0.6156322337962963\n",
      "epoch: 80, train_loss: 0.09992983192205429, val_loss: 0.09717097133398056\n",
      "epoch: 80, train_acc: 0.6119585774966669, val_acc: 0.6130642361111112\n",
      "epoch: 90, train_loss: 0.09885147958993912, val_loss: 0.09626201540231705\n",
      "epoch: 90, train_acc: 0.6379019005983939, val_acc: 0.6387803819444444\n"
     ]
    }
   ],
   "source": [
    "# lower learning rate, low WD\n",
    "FCAutoEncoder = AutoEncoder()\n",
    "model, loss_dict = train(FCAutoEncoder, train_loader, val_loader, num_epochs=100, learning_rate=2e-4, weight_decay=1e-5, acc_func=get_accuracy, plot_acc=True)"
   ]
  },
  {
   "attachments": {},
   "cell_type": "markdown",
   "metadata": {},
   "source": [
    "From the 4 models above (4 choices of hyperparameters), we can see that having a lower learning rate with a lower weight decay performed the best, scoring almost 64% accuracy on the validation set. The lowest performing set of hyperparameters was the one with the high learning rate and lower weight decay. So from that view, it seems that for the 5th model, we should choose a set of hyperparameters that is lower on the learning rate and lower on the weight decay. Since we are trying to train the model for longer, we could maintain a similar decay parameter in order to help regularize the model in later epochs. Training the model longer could help the model learn more, i.e., work its way through harder to optimize surfaces, which may be needed with a lower learning rate. "
   ]
  },
  {
   "cell_type": "code",
   "execution_count": 81,
   "metadata": {},
   "outputs": [
    {
     "name": "stdout",
     "output_type": "stream",
     "text": [
      "==========================================================================================\n",
      "Layer (type:depth-idx)                   Output Shape              Param #\n",
      "==========================================================================================\n",
      "AutoEncoder                              [4608, 57]                --\n",
      "├─Sequential: 1-1                        [4608, 12]                --\n",
      "│    └─0.weight                                                    ├─3,249\n",
      "│    └─0.bias                                                      ├─57\n",
      "│    └─1.weight                                                    ├─2,679\n",
      "│    └─1.bias                                                      ├─47\n",
      "│    └─2.weight                                                    ├─1,739\n",
      "│    └─2.bias                                                      ├─37\n",
      "│    └─3.weight                                                    ├─1,110\n",
      "│    └─3.bias                                                      ├─30\n",
      "│    └─4.weight                                                    ├─600\n",
      "│    └─4.bias                                                      ├─20\n",
      "│    └─5.weight                                                    ├─240\n",
      "│    └─5.bias                                                      └─12\n",
      "│    └─Linear: 2-1                       [4608, 57]                3,306\n",
      "│    │    └─weight                                                 ├─3,249\n",
      "│    │    └─bias                                                   └─57\n",
      "│    └─Linear: 2-2                       [4608, 47]                2,726\n",
      "│    │    └─weight                                                 ├─2,679\n",
      "│    │    └─bias                                                   └─47\n",
      "│    └─Linear: 2-3                       [4608, 37]                1,776\n",
      "│    │    └─weight                                                 ├─1,739\n",
      "│    │    └─bias                                                   └─37\n",
      "│    └─Linear: 2-4                       [4608, 30]                1,140\n",
      "│    │    └─weight                                                 ├─1,110\n",
      "│    │    └─bias                                                   └─30\n",
      "│    └─Linear: 2-5                       [4608, 20]                620\n",
      "│    │    └─weight                                                 ├─600\n",
      "│    │    └─bias                                                   └─20\n",
      "│    └─Linear: 2-6                       [4608, 12]                252\n",
      "│    │    └─weight                                                 ├─240\n",
      "│    │    └─bias                                                   └─12\n",
      "├─Sequential: 1-2                        [4608, 57]                --\n",
      "│    └─0.weight                                                    ├─240\n",
      "│    └─0.bias                                                      ├─20\n",
      "│    └─1.weight                                                    ├─560\n",
      "│    └─1.bias                                                      ├─28\n",
      "│    └─2.weight                                                    ├─1,120\n",
      "│    └─2.bias                                                      ├─40\n",
      "│    └─3.weight                                                    ├─2,000\n",
      "│    └─3.bias                                                      ├─50\n",
      "│    └─4.weight                                                    ├─2,850\n",
      "│    └─4.bias                                                      ├─57\n",
      "│    └─5.weight                                                    ├─3,249\n",
      "│    └─5.bias                                                      └─57\n",
      "│    └─Linear: 2-7                       [4608, 20]                260\n",
      "│    │    └─weight                                                 ├─240\n",
      "│    │    └─bias                                                   └─20\n",
      "│    └─Linear: 2-8                       [4608, 28]                588\n",
      "│    │    └─weight                                                 ├─560\n",
      "│    │    └─bias                                                   └─28\n",
      "│    └─Linear: 2-9                       [4608, 40]                1,160\n",
      "│    │    └─weight                                                 ├─1,120\n",
      "│    │    └─bias                                                   └─40\n",
      "│    └─Linear: 2-10                      [4608, 50]                2,050\n",
      "│    │    └─weight                                                 ├─2,000\n",
      "│    │    └─bias                                                   └─50\n",
      "│    └─Linear: 2-11                      [4608, 57]                2,907\n",
      "│    │    └─weight                                                 ├─2,850\n",
      "│    │    └─bias                                                   └─57\n",
      "│    └─Linear: 2-12                      [4608, 57]                3,306\n",
      "│    │    └─weight                                                 ├─3,249\n",
      "│    │    └─bias                                                   └─57\n",
      "│    └─Sigmoid: 2-13                     [4608, 57]                --\n",
      "==========================================================================================\n",
      "Total params: 20,091\n",
      "Trainable params: 20,091\n",
      "Non-trainable params: 0\n",
      "Total mult-adds (M): 92.58\n",
      "==========================================================================================\n",
      "Input size (MB): 1.05\n",
      "Forward/backward pass size (MB): 16.77\n",
      "Params size (MB): 0.08\n",
      "Estimated Total Size (MB): 17.90\n",
      "==========================================================================================\n",
      "epoch: 0, train_loss: 0.2254471629858017, val_loss: 0.15538588166236877\n",
      "epoch: 0, train_acc: 0.45905032090038134, val_acc: 0.45797164351851855\n",
      "epoch: 10, train_loss: 0.11843421310186386, val_loss: 0.11669634282588959\n",
      "epoch: 10, train_acc: 0.5842789818001426, val_acc: 0.5829716435185185\n",
      "epoch: 20, train_loss: 0.10681932419538498, val_loss: 0.10516973584890366\n",
      "epoch: 20, train_acc: 0.6202058723219546, val_acc: 0.6207320601851852\n",
      "epoch: 30, train_loss: 0.10572078078985214, val_loss: 0.10456246137619019\n",
      "epoch: 30, train_acc: 0.6416922456825722, val_acc: 0.6398654513888888\n",
      "epoch: 40, train_loss: 0.1044655442237854, val_loss: 0.10341266542673111\n",
      "epoch: 40, train_acc: 0.6429014355253775, val_acc: 0.6436993634259259\n",
      "epoch: 50, train_loss: 0.10351486504077911, val_loss: 0.10352227091789246\n",
      "epoch: 50, train_acc: 0.6424363625089139, val_acc: 0.6440610532407407\n",
      "epoch: 60, train_loss: 0.10307517647743225, val_loss: 0.10230877995491028\n",
      "epoch: 60, train_acc: 0.6425526307630298, val_acc: 0.6439525462962963\n",
      "epoch: 70, train_loss: 0.10198158770799637, val_loss: 0.10177503526210785\n",
      "epoch: 70, train_acc: 0.6461646978575636, val_acc: 0.6472077546296297\n",
      "epoch: 80, train_loss: 0.09806124866008759, val_loss: 0.09809142351150513\n",
      "epoch: 80, train_acc: 0.6549003193501379, val_acc: 0.6564308449074074\n",
      "epoch: 90, train_loss: 0.09745107591152191, val_loss: 0.09793883562088013\n",
      "epoch: 90, train_acc: 0.6619849316342665, val_acc: 0.6622178819444444\n",
      "epoch: 100, train_loss: 0.09709273278713226, val_loss: 0.09882154315710068\n",
      "epoch: 100, train_acc: 0.6553188850649552, val_acc: 0.6555989583333334\n",
      "epoch: 110, train_loss: 0.09725150465965271, val_loss: 0.09778803586959839\n",
      "epoch: 110, train_acc: 0.6623104827457911, val_acc: 0.6641348379629629\n",
      "epoch: 120, train_loss: 0.09679944068193436, val_loss: 0.09907424449920654\n",
      "epoch: 120, train_acc: 0.66230273152885, val_acc: 0.6634837962962963\n",
      "epoch: 130, train_loss: 0.09715887904167175, val_loss: 0.09824740141630173\n",
      "epoch: 130, train_acc: 0.6623414876135554, val_acc: 0.6646412037037037\n",
      "epoch: 140, train_loss: 0.096817247569561, val_loss: 0.09793438017368317\n",
      "epoch: 140, train_acc: 0.6598998542771215, val_acc: 0.6614583333333334\n",
      "epoch: 150, train_loss: 0.09696105867624283, val_loss: 0.09832189977169037\n",
      "epoch: 150, train_acc: 0.6618764145970918, val_acc: 0.6636646412037037\n",
      "epoch: 160, train_loss: 0.09696127474308014, val_loss: 0.09839270263910294\n",
      "epoch: 160, train_acc: 0.663597184758007, val_acc: 0.6636284722222222\n",
      "epoch: 170, train_loss: 0.09719936549663544, val_loss: 0.09910765290260315\n",
      "epoch: 170, train_acc: 0.660612966235699, val_acc: 0.6619285300925926\n",
      "epoch: 180, train_loss: 0.09681446105241776, val_loss: 0.09929074347019196\n",
      "epoch: 180, train_acc: 0.6544584999844976, val_acc: 0.6548032407407407\n",
      "epoch: 190, train_loss: 0.0969424918293953, val_loss: 0.09905363619327545\n",
      "epoch: 190, train_acc: 0.662039190152854, val_acc: 0.6632667824074074\n",
      "epoch: 200, train_loss: 0.09714095294475555, val_loss: 0.09907418489456177\n",
      "epoch: 200, train_acc: 0.6581170743806778, val_acc: 0.6591796875\n",
      "epoch: 210, train_loss: 0.09705800563097, val_loss: 0.10034964233636856\n",
      "epoch: 210, train_acc: 0.6596053080333613, val_acc: 0.6607711226851852\n",
      "epoch: 220, train_loss: 0.09695859253406525, val_loss: 0.09988068044185638\n",
      "epoch: 220, train_acc: 0.6587294205190215, val_acc: 0.6598668981481481\n",
      "epoch: 230, train_loss: 0.09670357406139374, val_loss: 0.09817198663949966\n",
      "epoch: 230, train_acc: 0.6615818683533314, val_acc: 0.6620732060185185\n",
      "epoch: 240, train_loss: 0.09708560258150101, val_loss: 0.09781837463378906\n",
      "epoch: 240, train_acc: 0.6612253123740427, val_acc: 0.6619285300925926\n",
      "epoch: 250, train_loss: 0.09659237414598465, val_loss: 0.1001768410205841\n",
      "epoch: 250, train_acc: 0.6616826341735652, val_acc: 0.6628327546296297\n",
      "epoch: 260, train_loss: 0.09681931138038635, val_loss: 0.09763730317354202\n",
      "epoch: 260, train_acc: 0.6662403497349084, val_acc: 0.6665219907407407\n",
      "epoch: 270, train_loss: 0.09685008227825165, val_loss: 0.09854917228221893\n",
      "epoch: 270, train_acc: 0.6614423464483924, val_acc: 0.6623263888888888\n",
      "epoch: 280, train_loss: 0.09660748392343521, val_loss: 0.09804457426071167\n",
      "epoch: 280, train_acc: 0.6637057017951818, val_acc: 0.6631221064814815\n",
      "epoch: 290, train_loss: 0.09688956290483475, val_loss: 0.09863342344760895\n",
      "epoch: 290, train_acc: 0.6618376585123864, val_acc: 0.6620370370370371\n",
      "epoch: 300, train_loss: 0.09680263698101044, val_loss: 0.0979376882314682\n",
      "epoch: 300, train_acc: 0.6594812885623043, val_acc: 0.6598307291666666\n",
      "epoch: 310, train_loss: 0.0966748297214508, val_loss: 0.09821777790784836\n",
      "epoch: 310, train_acc: 0.6618221560785044, val_acc: 0.6626519097222222\n",
      "epoch: 320, train_loss: 0.09689101576805115, val_loss: 0.09942574799060822\n",
      "epoch: 320, train_acc: 0.6625120143862586, val_acc: 0.6636646412037037\n",
      "epoch: 330, train_loss: 0.09700945764780045, val_loss: 0.10032179206609726\n",
      "epoch: 330, train_acc: 0.6631011068737792, val_acc: 0.6638093171296297\n",
      "epoch: 340, train_loss: 0.09689013659954071, val_loss: 0.09960387647151947\n",
      "epoch: 340, train_acc: 0.6637987163984745, val_acc: 0.6650390625\n",
      "epoch: 350, train_loss: 0.09699040651321411, val_loss: 0.0991879552602768\n",
      "epoch: 350, train_acc: 0.6630545995721329, val_acc: 0.6624710648148148\n",
      "epoch: 360, train_loss: 0.09686235338449478, val_loss: 0.09735877811908722\n",
      "epoch: 360, train_acc: 0.6584193718413791, val_acc: 0.6581669560185185\n",
      "epoch: 370, train_loss: 0.09722639620304108, val_loss: 0.0991189032793045\n",
      "epoch: 370, train_acc: 0.6636746969274177, val_acc: 0.6646773726851852\n",
      "epoch: 380, train_loss: 0.09724511951208115, val_loss: 0.09898320585489273\n",
      "epoch: 380, train_acc: 0.6608067466592255, val_acc: 0.6595052083333334\n",
      "epoch: 390, train_loss: 0.09686034172773361, val_loss: 0.0990271344780922\n",
      "epoch: 390, train_acc: 0.6581713328992652, val_acc: 0.6605179398148148\n",
      "epoch: 400, train_loss: 0.09682028740644455, val_loss: 0.09851497411727905\n",
      "epoch: 400, train_acc: 0.6628995752333117, val_acc: 0.6633752893518519\n",
      "epoch: 410, train_loss: 0.09679175913333893, val_loss: 0.09874965250492096\n",
      "epoch: 410, train_acc: 0.6623414876135554, val_acc: 0.6623987268518519\n",
      "epoch: 420, train_loss: 0.09686528146266937, val_loss: 0.09876633435487747\n",
      "epoch: 420, train_acc: 0.6622717266610858, val_acc: 0.6616030092592593\n",
      "epoch: 430, train_loss: 0.09716001152992249, val_loss: 0.0984620675444603\n",
      "epoch: 430, train_acc: 0.6646513502619912, val_acc: 0.6657986111111112\n",
      "epoch: 440, train_loss: 0.0969218984246254, val_loss: 0.09732034802436829\n",
      "epoch: 440, train_acc: 0.6631011068737792, val_acc: 0.6627604166666666\n",
      "epoch: 450, train_loss: 0.09692494571208954, val_loss: 0.0994810089468956\n",
      "epoch: 450, train_acc: 0.663721204229064, val_acc: 0.6645688657407407\n",
      "epoch: 460, train_loss: 0.09696398675441742, val_loss: 0.09888863563537598\n",
      "epoch: 460, train_acc: 0.6611555514215732, val_acc: 0.6624348958333334\n",
      "epoch: 470, train_loss: 0.09700309485197067, val_loss: 0.09944615513086319\n",
      "epoch: 470, train_acc: 0.6600238737481785, val_acc: 0.6612774884259259\n",
      "epoch: 480, train_loss: 0.09692465513944626, val_loss: 0.09799867868423462\n",
      "epoch: 480, train_acc: 0.6649691501565745, val_acc: 0.6630859375\n",
      "epoch: 490, train_loss: 0.09688393771648407, val_loss: 0.09835939109325409\n",
      "epoch: 490, train_acc: 0.6619461755495613, val_acc: 0.6613136574074074\n"
     ]
    }
   ],
   "source": [
    "# model 5\n",
    "FCAutoEncoder = AutoEncoder()\n",
    "model, loss_dict = train(FCAutoEncoder, train_loader, val_loader, num_epochs=500, learning_rate=1.8e-4, weight_decay=1e-5, acc_func=get_accuracy, plot_acc=True)"
   ]
  },
  {
   "cell_type": "code",
   "execution_count": 82,
   "metadata": {},
   "outputs": [
    {
     "data": {
      "image/png": "[encoded data removed]",
      "text/plain": [
       "<Figure size 640x480 with 1 Axes>"
      ]
     },
     "metadata": {},
     "output_type": "display_data"
    },
    {
     "data": {
      "image/png": "[encoded data removed]",
      "text/plain": [
       "<Figure size 640x480 with 1 Axes>"
      ]
     },
     "metadata": {},
     "output_type": "display_data"
    }
   ],
   "source": [
    "plot_acc_curves(loss_dict)\n",
    "plot_loss_curves(loss_dict)"
   ]
  },
  {
   "attachments": {},
   "cell_type": "markdown",
   "metadata": {},
   "source": [
    "As the above plots show, the final set of hyperparameters improve upon the previous ones, and while the improvement isn't large, it is still a few percent better in terms of validation accuracy which is nice. "
   ]
  },
  {
   "cell_type": "markdown",
   "metadata": {
    "colab_type": "text",
    "id": "ymCsZH291prI"
   },
   "source": [
    "## Part 4. Testing [12 pt]\n",
    "\n",
    "### Part (a) [2 pt]\n",
    "\n",
    "Compute and report the test accuracy."
   ]
  },
  {
   "cell_type": "code",
   "execution_count": 197,
   "metadata": {
    "colab": {},
    "colab_type": "code",
    "collapsed": true,
    "id": "0OkSbup91prJ",
    "jupyter": {
     "outputs_hidden": true
    }
   },
   "outputs": [
    {
     "data": {
      "text/plain": [
       "0.6646412037037037"
      ]
     },
     "execution_count": 197,
     "metadata": {},
     "output_type": "execute_result"
    }
   ],
   "source": [
    "get_accuracy(model, test_loader)"
   ]
  },
  {
   "attachments": {},
   "cell_type": "markdown",
   "metadata": {},
   "source": [
    "So the autoencoder scores a 66.5% accuracy on the test set, which is consistent with the accuracy scores for the train and validation sets. "
   ]
  },
  {
   "cell_type": "markdown",
   "metadata": {
    "colab_type": "text",
    "id": "UEe9yt6L1prM"
   },
   "source": [
    "### Part (b) [4 pt]\n",
    "\n",
    "Based on the test accuracy alone, it is difficult to assess whether our model\n",
    "is actually performing well. We don't know whether a high accuracy is due to\n",
    "the simplicity of the problem, or if a poor accuracy is a result of the inherent\n",
    "difficulty of the problem.\n",
    "\n",
    "It is therefore very important to be able to compare our model to at least one\n",
    "alternative. In particular, we consider a simple **baseline**\n",
    "model that is not very computationally expensive. Our neural network\n",
    "should at least outperform this baseline model. If our network is not much\n",
    "better than the baseline, then it is not doing well.\n",
    "\n",
    "For our data imputation problem, consider the following baseline model:\n",
    "to predict a missing feature, the baseline model will look at the **most common value** of the feature in the training set. \n",
    "\n",
    "For example, if the feature \"marriage\" is missing, then this model's prediction will be the most common value for \"marriage\" in the training set, which happens to be \"Married-civ-spouse\".\n",
    "\n",
    "What would be the test accuracy of this baseline model?\n"
   ]
  },
  {
   "cell_type": "code",
   "execution_count": 137,
   "metadata": {
    "colab": {},
    "colab_type": "code",
    "collapsed": true,
    "id": "p45VHp011prN",
    "jupyter": {
     "outputs_hidden": true
    }
   },
   "outputs": [],
   "source": [
    "# loop over columns of data_train \n",
    "# find the most common values per column \n",
    "# impute values for each features \n",
    "# this is a bit weird, but I essentially \n",
    "# wrapped the baseline model in a pytorch model \n",
    "# it has better compatibility with the get_accuracy function \n",
    "categorical_features = pd.get_dummies(df_not_missing[catcols]).values.astype(np.int64)\n",
    "# most common values of one-hot encoded categorical features\n",
    "most_common = [np.argmax(np.bincount(feature)) for feature in categorical_features.T] \n",
    "\n",
    "# need a mapping between the actual feature vector that includes contin features \n",
    "# gets the categorical feature indexes \n",
    "cat_features_indexes = [(cat_index[feature], cat_index[feature] + len(cat_values[feature])) for feature in catcols]\n",
    "# a mapping from cat_features_indexes to the most_common list\n",
    "index_mapping = {}\n",
    "curr_ptr = 0 \n",
    "for i in range(len(catcols)):\n",
    "    # has start and finish \n",
    "    feature_indexes = cat_features_indexes[i]\n",
    "    length = feature_indexes[1] - feature_indexes[0]\n",
    "    most_common_subset = most_common[curr_ptr : curr_ptr + length] \n",
    "\n",
    "    # store the respective values into the dict    \n",
    "    for j in range(length): \n",
    "        index_mapping[j+feature_indexes[0]] = most_common_subset[j]\n",
    "\n",
    "    curr_ptr += length\n",
    "\n",
    "class BaselineModel(nn.Module): \n",
    "    def __init__(self, index_mapping): \n",
    "        super(BaselineModel, self).__init__()\n",
    "        self.most_common = index_mapping\n",
    "\n",
    "    def forward(self, x, missing_indexes): \n",
    "        output = []\n",
    "        for row in x:\n",
    "            row_preds = []\n",
    "            for i in range(len(row)): \n",
    "                if i in self.most_common: \n",
    "                    pred = self.most_common[i]\n",
    "                    # if we are supposed to predict these features\n",
    "                    if i in missing_indexes:\n",
    "                        row_preds.append(pred)\n",
    "                    else: \n",
    "                        row_preds.append(row[i])\n",
    "                else: \n",
    "                    row_preds.append(row[i])\n",
    "            output.append(row_preds)\n",
    "        output = torch.from_numpy(np.array(output))\n",
    "        return output"
   ]
  },
  {
   "cell_type": "code",
   "execution_count": 136,
   "metadata": {},
   "outputs": [
    {
     "data": {
      "text/plain": [
       "0.35366030092592593"
      ]
     },
     "execution_count": 136,
     "metadata": {},
     "output_type": "execute_result"
    }
   ],
   "source": [
    "baseline_model= BaselineModel(index_mapping)\n",
    "get_accuracy(baseline_model, test_loader, True)"
   ]
  },
  {
   "cell_type": "markdown",
   "metadata": {
    "colab_type": "text",
    "id": "QlHu0wxh1prP"
   },
   "source": [
    "### Part (c) [1 pt]\n",
    "\n",
    "How does your test accuracy from part (a) compared to your basline test accuracy in part (b)?"
   ]
  },
  {
   "attachments": {},
   "cell_type": "markdown",
   "metadata": {},
   "source": [
    "The test accuracy from the autoencoder is roughly 1.9 times as good as the test accuracy from the baseline model. In particular, the baseline model achieved approximately 35.4% test set accuracy, while the autoencoder achieved a test accuracy of approximately 66.5%. "
   ]
  },
  {
   "cell_type": "markdown",
   "metadata": {
    "colab_type": "text",
    "id": "DfQPgu1Q1prS"
   },
   "source": [
    "### Part (d) [1 pt]\n",
    "\n",
    "Look at the first item in your test data. \n",
    "Do you think it is reasonable for a human\n",
    "to be able to guess this person's education level\n",
    "based on their other features? Explain."
   ]
  },
  {
   "attachments": {},
   "cell_type": "markdown",
   "metadata": {},
   "source": [
    "Putting the data back into a pandas dataframe to get the column (feature) names, we have:"
   ]
  },
  {
   "cell_type": "code",
   "execution_count": 198,
   "metadata": {
    "colab": {},
    "colab_type": "code",
    "collapsed": true,
    "id": "3qbQ1vvT1prT",
    "jupyter": {
     "outputs_hidden": true
    }
   },
   "outputs": [
    {
     "data": {
      "text/plain": [
       "age                                1.936798\n",
       "yredu                              1.134739\n",
       "capgain                            0.764416\n",
       "caploss                           -0.216660\n",
       "workhr                            -0.035429\n",
       "work_ Federal-gov                  0.000000\n",
       "work_ Local-gov                    0.000000\n",
       "work_ Private                      1.000000\n",
       "work_ Self-emp-inc                 0.000000\n",
       "work_ Self-emp-not-inc             0.000000\n",
       "work_ State-gov                    0.000000\n",
       "work_ Without-pay                  0.000000\n",
       "marriage_ Divorced                 1.000000\n",
       "marriage_ Married-AF-spouse        0.000000\n",
       "marriage_ Married-civ-spouse       0.000000\n",
       "marriage_ Married-spouse-absent    0.000000\n",
       "marriage_ Never-married            0.000000\n",
       "marriage_ Separated                0.000000\n",
       "marriage_ Widowed                  0.000000\n",
       "occupation_ Adm-clerical           0.000000\n",
       "occupation_ Armed-Forces           0.000000\n",
       "occupation_ Craft-repair           0.000000\n",
       "occupation_ Exec-managerial        0.000000\n",
       "occupation_ Farming-fishing        0.000000\n",
       "occupation_ Handlers-cleaners      0.000000\n",
       "occupation_ Machine-op-inspct      0.000000\n",
       "occupation_ Other-service          0.000000\n",
       "occupation_ Priv-house-serv        0.000000\n",
       "occupation_ Prof-specialty         1.000000\n",
       "occupation_ Protective-serv        0.000000\n",
       "occupation_ Sales                  0.000000\n",
       "occupation_ Tech-support           0.000000\n",
       "occupation_ Transport-moving       0.000000\n",
       "edu_ 10th                          0.000000\n",
       "edu_ 11th                          0.000000\n",
       "edu_ 12th                          0.000000\n",
       "edu_ 1st-4th                       0.000000\n",
       "edu_ 5th-6th                       0.000000\n",
       "edu_ 7th-8th                       0.000000\n",
       "edu_ 9th                           0.000000\n",
       "edu_ Assoc-acdm                    0.000000\n",
       "edu_ Assoc-voc                     0.000000\n",
       "edu_ Bachelors                     1.000000\n",
       "edu_ Doctorate                     0.000000\n",
       "edu_ HS-grad                       0.000000\n",
       "edu_ Masters                       0.000000\n",
       "edu_ Preschool                     0.000000\n",
       "edu_ Prof-school                   0.000000\n",
       "edu_ Some-college                  0.000000\n",
       "relationship_ Husband              0.000000\n",
       "relationship_ Not-in-family        1.000000\n",
       "relationship_ Other-relative       0.000000\n",
       "relationship_ Own-child            0.000000\n",
       "relationship_ Unmarried            0.000000\n",
       "relationship_ Wife                 0.000000\n",
       "sex_ Female                        0.000000\n",
       "sex_ Male                          1.000000\n",
       "Name: 0, dtype: float32"
      ]
     },
     "execution_count": 198,
     "metadata": {},
     "output_type": "execute_result"
    }
   ],
   "source": [
    "test_df = pd.DataFrame(data_test, columns=list(data.columns))\n",
    "test_df.iloc[0]"
   ]
  },
  {
   "attachments": {},
   "cell_type": "markdown",
   "metadata": {},
   "source": [
    "It is somewhat predictable about the level of education that this person has. In particular, the `occupation_*` features are fairly good proxies of the education level since those columns are quite descriptive of the occupation, and most occupations have certain levels of education required. Further, other features like `yredu` are also directly related to the education level, e.g., those with a PhD would have a much higher normalized value for `yredu` than anyone else. While the capital gains and losses are not directly indicative of education level, they can be informative, on some level, of education since learning math/economics could help you in an area that would net you capital gains (e.g., investments). Finally, the `work_*` features can be informative in certain cases too if the person works in certain sectors, e.g., the government since some of those positions require some level of education, e.g., certain bureaucratic positions requires at least a bachelors. "
   ]
  },
  {
   "cell_type": "markdown",
   "metadata": {
    "colab_type": "text",
    "id": "p_d5uuAY1prZ"
   },
   "source": [
    "### Part (e) [2 pt]\n",
    "\n",
    "What is your model's prediction of this person's education\n",
    "level, given their other features?\n"
   ]
  },
  {
   "cell_type": "code",
   "execution_count": 218,
   "metadata": {
    "colab": {},
    "colab_type": "code",
    "collapsed": true,
    "id": "kBY5gKXR1pra",
    "jupyter": {
     "outputs_hidden": true
    }
   },
   "outputs": [
    {
     "data": {
      "text/html": [
       "<div>\n",
       "<style scoped>\n",
       "    .dataframe tbody tr th:only-of-type {\n",
       "        vertical-align: middle;\n",
       "    }\n",
       "\n",
       "    .dataframe tbody tr th {\n",
       "        vertical-align: top;\n",
       "    }\n",
       "\n",
       "    .dataframe thead th {\n",
       "        text-align: right;\n",
       "    }\n",
       "</style>\n",
       "<table border=\"1\" class=\"dataframe\">\n",
       "  <thead>\n",
       "    <tr style=\"text-align: right;\">\n",
       "      <th></th>\n",
       "      <th>yredu</th>\n",
       "      <th>edu_ 10th</th>\n",
       "      <th>edu_ 11th</th>\n",
       "      <th>edu_ 12th</th>\n",
       "      <th>edu_ 1st-4th</th>\n",
       "      <th>edu_ 5th-6th</th>\n",
       "      <th>edu_ 7th-8th</th>\n",
       "      <th>edu_ 9th</th>\n",
       "      <th>edu_ Assoc-acdm</th>\n",
       "      <th>edu_ Assoc-voc</th>\n",
       "      <th>edu_ Bachelors</th>\n",
       "      <th>edu_ Doctorate</th>\n",
       "      <th>edu_ HS-grad</th>\n",
       "      <th>edu_ Masters</th>\n",
       "      <th>edu_ Preschool</th>\n",
       "      <th>edu_ Prof-school</th>\n",
       "      <th>edu_ Some-college</th>\n",
       "    </tr>\n",
       "  </thead>\n",
       "  <tbody>\n",
       "    <tr>\n",
       "      <th>0</th>\n",
       "      <td>0.999998</td>\n",
       "      <td>0.014633</td>\n",
       "      <td>0.014967</td>\n",
       "      <td>0.007034</td>\n",
       "      <td>0.000408</td>\n",
       "      <td>0.001515</td>\n",
       "      <td>0.019362</td>\n",
       "      <td>0.007476</td>\n",
       "      <td>0.047725</td>\n",
       "      <td>0.053316</td>\n",
       "      <td>0.999989</td>\n",
       "      <td>0.026379</td>\n",
       "      <td>3.703797e-19</td>\n",
       "      <td>0.110362</td>\n",
       "      <td>1.199807e-08</td>\n",
       "      <td>0.028891</td>\n",
       "      <td>0.194092</td>\n",
       "    </tr>\n",
       "  </tbody>\n",
       "</table>\n",
       "</div>"
      ],
      "text/plain": [
       "      yredu  edu_ 10th  edu_ 11th  edu_ 12th  edu_ 1st-4th  edu_ 5th-6th  \\\n",
       "0  0.999998   0.014633   0.014967   0.007034      0.000408      0.001515   \n",
       "\n",
       "   edu_ 7th-8th  edu_ 9th  edu_ Assoc-acdm  edu_ Assoc-voc  edu_ Bachelors  \\\n",
       "0      0.019362  0.007476         0.047725        0.053316        0.999989   \n",
       "\n",
       "   edu_ Doctorate  edu_ HS-grad  edu_ Masters  edu_ Preschool  \\\n",
       "0        0.026379  3.703797e-19      0.110362    1.199807e-08   \n",
       "\n",
       "   edu_ Prof-school  edu_ Some-college  \n",
       "0          0.028891           0.194092  "
      ]
     },
     "execution_count": 218,
     "metadata": {},
     "output_type": "execute_result"
    }
   ],
   "source": [
    "person_of_interest_edu_zerod = torch.from_numpy(zero_out_feature(data_test[:], \"edu\")[0])\n",
    "out = model(person_of_interest_edu_zerod.to(\"cuda:0\")).cpu().detach().numpy()\n",
    "data_frame_cols = list(data.columns)\n",
    "out_df = pd.DataFrame(out.reshape(1, -1), columns=data_frame_cols)\n",
    "out_df.filter(regex=\"edu_*\")"
   ]
  },
  {
   "cell_type": "code",
   "execution_count": 219,
   "metadata": {},
   "outputs": [
    {
     "data": {
      "text/plain": [
       "'Bachelors'"
      ]
     },
     "execution_count": 219,
     "metadata": {},
     "output_type": "execute_result"
    }
   ],
   "source": [
    "get_feature(out, \"edu\")"
   ]
  },
  {
   "attachments": {},
   "cell_type": "markdown",
   "metadata": {},
   "source": [
    "As we can see the autoencoder output predicts correctly that this person has a Bachelor's degree since they had the highest score of `edu_bachelors`. Further, the `get_feature` function also outputs \"Bachelors\" provided the model predictions. "
   ]
  },
  {
   "cell_type": "markdown",
   "metadata": {
    "colab_type": "text",
    "id": "fdLNA0ce1prd"
   },
   "source": [
    "### Part (f) [2 pt]\n",
    "\n",
    "What is the baseline model's prediction\n",
    "of this person's education level?"
   ]
  },
  {
   "cell_type": "code",
   "execution_count": 226,
   "metadata": {
    "colab": {},
    "colab_type": "code",
    "collapsed": true,
    "id": "TXgoM9qk1prd",
    "jupyter": {
     "outputs_hidden": true
    }
   },
   "outputs": [
    {
     "data": {
      "text/html": [
       "<div>\n",
       "<style scoped>\n",
       "    .dataframe tbody tr th:only-of-type {\n",
       "        vertical-align: middle;\n",
       "    }\n",
       "\n",
       "    .dataframe tbody tr th {\n",
       "        vertical-align: top;\n",
       "    }\n",
       "\n",
       "    .dataframe thead th {\n",
       "        text-align: right;\n",
       "    }\n",
       "</style>\n",
       "<table border=\"1\" class=\"dataframe\">\n",
       "  <thead>\n",
       "    <tr style=\"text-align: right;\">\n",
       "      <th></th>\n",
       "      <th>yredu</th>\n",
       "      <th>edu_ 10th</th>\n",
       "      <th>edu_ 11th</th>\n",
       "      <th>edu_ 12th</th>\n",
       "      <th>edu_ 1st-4th</th>\n",
       "      <th>edu_ 5th-6th</th>\n",
       "      <th>edu_ 7th-8th</th>\n",
       "      <th>edu_ 9th</th>\n",
       "      <th>edu_ Assoc-acdm</th>\n",
       "      <th>edu_ Assoc-voc</th>\n",
       "      <th>edu_ Bachelors</th>\n",
       "      <th>edu_ Doctorate</th>\n",
       "      <th>edu_ HS-grad</th>\n",
       "      <th>edu_ Masters</th>\n",
       "      <th>edu_ Preschool</th>\n",
       "      <th>edu_ Prof-school</th>\n",
       "      <th>edu_ Some-college</th>\n",
       "    </tr>\n",
       "  </thead>\n",
       "  <tbody>\n",
       "    <tr>\n",
       "      <th>0</th>\n",
       "      <td>1.134739</td>\n",
       "      <td>0.0</td>\n",
       "      <td>0.0</td>\n",
       "      <td>0.0</td>\n",
       "      <td>0.0</td>\n",
       "      <td>0.0</td>\n",
       "      <td>0.0</td>\n",
       "      <td>0.0</td>\n",
       "      <td>0.0</td>\n",
       "      <td>0.0</td>\n",
       "      <td>0.0</td>\n",
       "      <td>0.0</td>\n",
       "      <td>0.0</td>\n",
       "      <td>0.0</td>\n",
       "      <td>0.0</td>\n",
       "      <td>0.0</td>\n",
       "      <td>0.0</td>\n",
       "    </tr>\n",
       "  </tbody>\n",
       "</table>\n",
       "</div>"
      ],
      "text/plain": [
       "      yredu  edu_ 10th  edu_ 11th  edu_ 12th  edu_ 1st-4th  edu_ 5th-6th  \\\n",
       "0  1.134739        0.0        0.0        0.0           0.0           0.0   \n",
       "\n",
       "   edu_ 7th-8th  edu_ 9th  edu_ Assoc-acdm  edu_ Assoc-voc  edu_ Bachelors  \\\n",
       "0           0.0       0.0              0.0             0.0             0.0   \n",
       "\n",
       "   edu_ Doctorate  edu_ HS-grad  edu_ Masters  edu_ Preschool  \\\n",
       "0             0.0           0.0           0.0             0.0   \n",
       "\n",
       "   edu_ Prof-school  edu_ Some-college  \n",
       "0               0.0                0.0  "
      ]
     },
     "execution_count": 226,
     "metadata": {},
     "output_type": "execute_result"
    }
   ],
   "source": [
    "person_of_interest_edu_zerod = torch.from_numpy(zero_out_feature(data_test[:], \"edu\")[0]).reshape(1, -1)\n",
    "missing_cols = set(range(cat_index[\"edu\"], cat_index[\"edu\"] + len(cat_values[\"edu\"])))\n",
    "out_baseline = baseline_model(person_of_interest_edu_zerod, missing_cols).detach().numpy()\n",
    "data_frame_cols = list(data.columns)\n",
    "out_baseline_df = pd.DataFrame(out_baseline, columns=data_frame_cols)\n",
    "out_baseline_df.filter(regex=\"edu_*\")"
   ]
  },
  {
   "cell_type": "code",
   "execution_count": 227,
   "metadata": {},
   "outputs": [
    {
     "data": {
      "text/plain": [
       "'10th'"
      ]
     },
     "execution_count": 227,
     "metadata": {},
     "output_type": "execute_result"
    }
   ],
   "source": [
    "get_feature(out_baseline.reshape(-1, 1), \"edu\")"
   ]
  },
  {
   "attachments": {},
   "cell_type": "markdown",
   "metadata": {},
   "source": [
    "The baseline model predicts an education level of 10th grade as indicated by the `get_feature` call shown in the above code cell, which not correct. "
   ]
  }
 ],
 "metadata": {
  "colab": {
   "collapsed_sections": [
    "HwjDg1uM1pqe",
    "OEJ0Ci3l1pqh",
    "1_5ZZR_J1pqy",
    "WKk01pwx1pq_",
    "SxCTlXoV1prB",
    "h9xTwIf51prF",
    "UEe9yt6L1prM",
    "QlHu0wxh1prP",
    "DfQPgu1Q1prS",
    "p_d5uuAY1prZ",
    "fdLNA0ce1prd"
   ],
   "name": "Lab 4 - Data Imputation",
   "provenance": []
  },
  "kernelspec": {
   "display_name": "pytorch-latest",
   "language": "python",
   "name": "python3"
  },
  "language_info": {
   "codemirror_mode": {
    "name": "ipython",
    "version": 3
   },
   "file_extension": ".py",
   "mimetype": "text/x-python",
   "name": "python",
   "nbconvert_exporter": "python",
   "pygments_lexer": "ipython3",
   "version": "3.10.8"
  },
  "vscode": {
   "interpreter": {
    "hash": "f96540ca9740e0aaa5cb2e15a514a98bd6d11e2fac85bfc91b119a37f695d3d7"
   }
  }
 },
 "nbformat": 4,
 "nbformat_minor": 4
}
