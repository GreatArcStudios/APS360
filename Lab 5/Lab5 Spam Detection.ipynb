{
 "cells": [
  {
   "cell_type": "markdown",
   "metadata": {
    "colab_type": "text",
    "id": "_bphECiUa9zw"
   },
   "source": [
    "# Lab 5: Spam Detection\n",
    "\n",
    "In this assignment, we will build a recurrent neural network to classify a SMS text message\n",
    "as \"spam\" or \"not spam\". In the process, you will\n",
    "    \n",
    "1. Clean and process text data for machine learning.\n",
    "2. Understand and implement a character-level recurrent neural network.\n",
    "3. Use torchtext to build recurrent neural network models.\n",
    "4. Understand batching for a recurrent neural network, and use torchtext to implement RNN batching.\n",
    "\n",
    "### What to submit\n",
    "\n",
    "Submit a PDF file containing all your code, outputs, and write-up. You can produce a PDF of your Google Colab file by going to File > Print and then save as PDF. The Colab instructions have more information.\n",
    "\n",
    "Do not submit any other files produced by your code.\n",
    "\n",
    "Include a link to your colab file in your submission."
   ]
  },
  {
   "cell_type": "markdown",
   "metadata": {
    "colab_type": "text",
    "id": "rWiUqJJTa9z6"
   },
   "source": [
    "## Colab Link\n",
    "\n",
    "Include a link to your Colab file here. If you would like the TA to look at your\n",
    "Colab file in case your solutions are cut off, **please make sure that your Colab\n",
    "file is publicly accessible at the time of submission**."
   ]
  },
  {
   "attachments": {},
   "cell_type": "markdown",
   "metadata": {
    "colab_type": "text",
    "id": "rWiUqJJTa9z6"
   },
   "source": [
    "Colab Link: [https://colab.research.google.com/github/GreatArcStudios/APS360/blob/master/Lab%205/Lab5%20Spam%20Detection.ipynb](https://colab.research.google.com/github/GreatArcStudios/APS360/blob/master/Lab%205/Lab5%20Spam%20Detection.ipynb)"
   ]
  },
  {
   "cell_type": "markdown",
   "metadata": {
    "colab_type": "text",
    "id": "rWiUqJJTa9z6"
   },
   "source": [
    "As we are using the older version of the torchtext, please run the following to downgrade the torchtext version:"
   ]
  },
  {
   "cell_type": "code",
   "execution_count": 166,
   "metadata": {
    "colab_type": "text",
    "id": "rWiUqJJTa9z6"
   },
   "outputs": [
    {
     "name": "stdout",
     "output_type": "stream",
     "text": [
      "Looking in links: https://download.pytorch.org/whl/torch_stable.html\n",
      "Requirement already satisfied: torch==1.8.0+cu111 in c:\\programdata\\anaconda3\\envs\\pytorch-torchtext\\lib\\site-packages (1.8.0+cu111)\n",
      "Requirement already satisfied: torchtext==0.9.0 in c:\\programdata\\anaconda3\\envs\\pytorch-torchtext\\lib\\site-packages (0.9.0)\n",
      "Requirement already satisfied: typing-extensions in c:\\programdata\\anaconda3\\envs\\pytorch-torchtext\\lib\\site-packages (from torch==1.8.0+cu111) (4.5.0)\n",
      "Requirement already satisfied: numpy in c:\\programdata\\anaconda3\\envs\\pytorch-torchtext\\lib\\site-packages (from torch==1.8.0+cu111) (1.24.2)\n",
      "Requirement already satisfied: requests in c:\\programdata\\anaconda3\\envs\\pytorch-torchtext\\lib\\site-packages (from torchtext==0.9.0) (2.28.2)\n",
      "Requirement already satisfied: tqdm in c:\\programdata\\anaconda3\\envs\\pytorch-torchtext\\lib\\site-packages (from torchtext==0.9.0) (4.65.0)\n",
      "Requirement already satisfied: urllib3<1.27,>=1.21.1 in c:\\programdata\\anaconda3\\envs\\pytorch-torchtext\\lib\\site-packages (from requests->torchtext==0.9.0) (1.26.14)\n",
      "Requirement already satisfied: certifi>=2017.4.17 in c:\\programdata\\anaconda3\\envs\\pytorch-torchtext\\lib\\site-packages (from requests->torchtext==0.9.0) (2022.12.7)\n",
      "Requirement already satisfied: idna<4,>=2.5 in c:\\programdata\\anaconda3\\envs\\pytorch-torchtext\\lib\\site-packages (from requests->torchtext==0.9.0) (3.4)\n",
      "Requirement already satisfied: charset-normalizer<4,>=2 in c:\\programdata\\anaconda3\\envs\\pytorch-torchtext\\lib\\site-packages (from requests->torchtext==0.9.0) (3.1.0)\n",
      "Requirement already satisfied: colorama in c:\\programdata\\anaconda3\\envs\\pytorch-torchtext\\lib\\site-packages (from tqdm->torchtext==0.9.0) (0.4.6)\n"
     ]
    }
   ],
   "source": [
    "!pip install -U torch==1.8.0+cu111 torchtext==0.9.0 -f https://download.pytorch.org/whl/torch_stable.html"
   ]
  },
  {
   "cell_type": "markdown",
   "metadata": {
    "colab_type": "text",
    "id": "rWiUqJJTa9z6"
   },
   "source": [
    "If you are interested to use the most recent version if torchtext, you can look at the following document to see how to convert the legacy version to the new version:\n",
    "https://colab.research.google.com/github/pytorch/text/blob/master/examples/legacy_tutorial/migration_tutorial.ipynb"
   ]
  },
  {
   "cell_type": "code",
   "execution_count": 167,
   "metadata": {
    "colab": {},
    "colab_type": "code",
    "id": "HgfNOUaPa9z8",
    "tags": []
   },
   "outputs": [
    {
     "name": "stdout",
     "output_type": "stream",
     "text": [
      "0.9.0\n"
     ]
    }
   ],
   "source": [
    "import torch\n",
    "import torch.nn as nn\n",
    "import torch.nn.functional as F\n",
    "import torch.optim as optim\n",
    "import numpy as np\n",
    "import torchtext\n",
    "from torchinfo import summary \n",
    "print(torchtext.__version__)"
   ]
  },
  {
   "cell_type": "markdown",
   "metadata": {
    "colab_type": "text",
    "id": "M0jLI9LBa90C"
   },
   "source": [
    "## Part 1. Data Cleaning [15 pt]\n",
    "\n",
    "We will be using the \"SMS Spam Collection Data Set\" available at http://archive.ics.uci.edu/ml/datasets/SMS+Spam+Collection\n",
    "\n",
    "There is a link to download the \"Data Folder\" at the very top of the webpage. Download the zip file, unzip it, and upload the file `SMSSpamCollection` to Colab.    "
   ]
  },
  {
   "cell_type": "markdown",
   "metadata": {
    "colab_type": "text",
    "id": "sSuF7C_Ga90E"
   },
   "source": [
    "### Part (a) [2 pt]\n",
    "\n",
    "Open up the file in Python, and print out one example of a spam SMS, and one example of a non-spam SMS.\n",
    "\n",
    "What is the label value for a spam message, and what is the label value for a non-spam message?"
   ]
  },
  {
   "cell_type": "code",
   "execution_count": 168,
   "metadata": {
    "colab": {},
    "colab_type": "code",
    "collapsed": true,
    "id": "I_IfXHeTa90F",
    "jupyter": {
     "outputs_hidden": true
    }
   },
   "outputs": [
    {
     "name": "stdout",
     "output_type": "stream",
     "text": [
      "['ham', 'Go until jurong point, crazy.. Available only in bugis n great world la e buffet... Cine there got amore wat...\\n']\n",
      "['ham', 'Ok lar... Joking wif u oni...\\n']\n",
      "['spam', \"Free entry in 2 a wkly comp to win FA Cup final tkts 21st May 2005. Text FA to 87121 to receive entry question(std txt rate)T&C's apply 08452810075over18's\\n\"]\n",
      "['ham', 'U dun say so early hor... U c already then say...\\n']\n",
      "['ham', \"Nah I don't think he goes to usf, he lives around here though\\n\"]\n"
     ]
    }
   ],
   "source": [
    "i = 0\n",
    "for line in open('SMSSpamCollection'):\n",
    "    if i < 5:  \n",
    "        line = line.split(\"\\t\")\n",
    "        print(line)\n",
    "    else:\n",
    "        break\n",
    "    i+=1 \n"
   ]
  },
  {
   "attachments": {},
   "cell_type": "markdown",
   "metadata": {},
   "source": [
    "A spam message has the label `spam`, and the non-spam message has a label `ham`. "
   ]
  },
  {
   "cell_type": "markdown",
   "metadata": {
    "colab_type": "text",
    "id": "AukA6vMVa90d"
   },
   "source": [
    "### Part (b) [1 pt]\n",
    "\n",
    "How many spam messages are there in the data set?\n",
    "How many non-spam messages are there in the data set?\n"
   ]
  },
  {
   "cell_type": "code",
   "execution_count": 169,
   "metadata": {
    "colab": {},
    "colab_type": "code",
    "collapsed": true,
    "id": "LgsqyemVa90e",
    "jupyter": {
     "outputs_hidden": true
    }
   },
   "outputs": [
    {
     "name": "stdout",
     "output_type": "stream",
     "text": [
      "Spam Count: 747 | Ham Count 4827\n"
     ]
    }
   ],
   "source": [
    "spam_count, ham_count = 0, 0\n",
    "for line in open(\"SMSSpamCollection\"):\n",
    "    line = line.split(\"\\t\")\n",
    "    if line[0] == \"spam\":\n",
    "        spam_count += 1\n",
    "    else:\n",
    "        ham_count += 1\n",
    "print(f\"Spam Count: {spam_count} | Ham Count {ham_count}\")"
   ]
  },
  {
   "cell_type": "markdown",
   "metadata": {
    "colab_type": "text",
    "id": "d1WXxVt6a90h"
   },
   "source": [
    "### Part (c) [4 pt]\n",
    "\n",
    "We will be using the package `torchtext` to load, process, and batch the data.\n",
    "A tutorial to torchtext is available below. This tutorial uses the same\n",
    "Sentiment140 data set that we explored during lecture.\n",
    "\n",
    "https://medium.com/@sonicboom8/sentiment-analysis-torchtext-55fb57b1fab8\n",
    "\n",
    "Unlike what we did during lecture, we will be building a **character level RNN**.\n",
    "That is, we will treat each **character** as a token in our sequence,\n",
    "rather than each **word**.\n",
    "\n",
    "Identify two advantage and two disadvantage of modelling SMS text\n",
    "messages as a sequence of characters rather than a sequence of words."
   ]
  },
  {
   "attachments": {},
   "cell_type": "markdown",
   "metadata": {},
   "source": [
    "Advantages: \n",
    "1. If we model the character-level relationship we could potentially induce more diversity into text generation since we learn a distribution over characters. This means the model does not just have to produce outputs contained in the vocabulary, e.g., one full word in the vocabulary/corpus at a time. \n",
    "2. Since there are only 26 characters in the English alphabet (and similar amounts if we consider the Latin alphabet more broadly), the model only has to learn a much smaller dimension corpus/vocabulary than a word level-model, which would need to learn many words in order to produce sensible outputs. \n",
    "\n",
    "Disadvantages: \n",
    "1. If we predict the most likely next character, we can get non-existent words as outputs. We do not guarantee that outputs have to be valid words since we don't actually learn that. \n",
    "2. We may have to increase the sentence/output length since words are comprised of many characters, so to get a meaningfully long sentence (instead of something like \"the sky is blue\") we would need to increase the number of output tokens to account for longer words and more words. "
   ]
  },
  {
   "cell_type": "markdown",
   "metadata": {
    "colab_type": "text",
    "id": "ie_D0bv9a90k"
   },
   "source": [
    "### Part (d) [1 pt]\n",
    "\n",
    "We will be loading our data set using `torchtext.data.TabularDataset`. The\n",
    "constructor will read directly from the `SMSSpamCollection` file. \n",
    "\n",
    "For the data file to be read successfuly, we\n",
    "need to specify the **fields** (columns) in the file. \n",
    "In our case, the dataset has two fields: \n",
    "\n",
    "- a text field containing the sms messages,\n",
    "- a label field which will be converted into a binary label.\n",
    "\n",
    "Split the dataset into `train`, `valid`, and `test`. Use a 60-20-20 split.\n",
    "You may find this torchtext API page helpful:\n",
    "https://torchtext.readthedocs.io/en/latest/data.html#dataset\n",
    "\n",
    "Hint: There is a `Dataset` method that can perform the random split for you."
   ]
  },
  {
   "cell_type": "code",
   "execution_count": 228,
   "metadata": {},
   "outputs": [],
   "source": [
    "text_field = torchtext.legacy.data.Field(batch_first=True, \n",
    "                                         tokenize=list)\n",
    "label_field = torchtext.legacy.data.LabelField(batch_first=True,\n",
    "                                               preprocessing=lambda x: float(x == \"spam\"),\n",
    "                                               dtype=torch.float)\n",
    "spam_ham_dataset = torchtext.legacy.data.TabularDataset(\n",
    "    path=\"SMSSpamCollection\", format=\"tsv\", fields=[(\"label\", label_field), (\"sms\", text_field)])\n"
   ]
  },
  {
   "cell_type": "code",
   "execution_count": 268,
   "metadata": {},
   "outputs": [],
   "source": [
    "train, val, test = spam_ham_dataset.split(split_ratio=[0.6, 0.2, 0.2])"
   ]
  },
  {
   "cell_type": "code",
   "execution_count": 267,
   "metadata": {},
   "outputs": [],
   "source": [
    "#[e.label for e in val.examples]"
   ]
  },
  {
   "cell_type": "markdown",
   "metadata": {
    "colab_type": "text",
    "id": "v6nP0Ks_a90o"
   },
   "source": [
    "### Part (e) [2 pt]\n",
    "\n",
    "You saw in part (b) that there are many more non-spam messages than spam messages.\n",
    "This **imbalance** in our training data will be problematic for training.\n",
    "We can fix this disparity by duplicating spam messages in the training set,\n",
    "so that the training set is roughly **balanced**.\n",
    "\n",
    "Explain why having a balanced training set is helpful for training our neural network.\n",
    "\n",
    "Note: if you are not sure, try removing the below code and train your mode."
   ]
  },
  {
   "cell_type": "code",
   "execution_count": 269,
   "metadata": {
    "colab": {},
    "colab_type": "code",
    "collapsed": true,
    "id": "FWvx9_rka90p",
    "jupyter": {
     "outputs_hidden": true
    }
   },
   "outputs": [],
   "source": [
    "# save the original training examples\n",
    "old_train_examples = train.examples\n",
    "# get all the spam messages in `train`\n",
    "train_spam = []\n",
    "for item in train.examples:\n",
    "    if item.label == 1:\n",
    "        train_spam.append(item)\n",
    "# duplicate each spam message 6 more times\n",
    "train.examples = old_train_examples + train_spam * 6"
   ]
  },
  {
   "attachments": {},
   "cell_type": "markdown",
   "metadata": {},
   "source": [
    "In this case, having a big data imbalance means that the model can achieve high accuracy simply by predicting (classifying) everything as not spam, which is what minimizing the loss will help us achieve (minimizing loss helps maximize accuracy). So if we suppose that the model achieved high accuracy by classifying most examples as not spam then, we could expect to see a high false negative rate, which could be problematic if spam messages have harmful content like phishing links. "
   ]
  },
  {
   "cell_type": "code",
   "execution_count": 270,
   "metadata": {},
   "outputs": [
    {
     "name": "stdout",
     "output_type": "stream",
     "text": [
      "3150 2893\n"
     ]
    }
   ],
   "source": [
    "# Sanity check\n",
    "print(len([e for e in train.examples if e.label==1]), len([e for e in train.examples if e.label==0]))"
   ]
  },
  {
   "cell_type": "markdown",
   "metadata": {
    "colab_type": "text",
    "id": "j7eUmBEva90r"
   },
   "source": [
    "### Part (f) [1 pt]\n",
    "\n",
    "We need to build the vocabulary on the training data by running the below code.\n",
    "This finds all the possible character tokens in the training set.\n",
    "\n",
    "Explain what the variables `text_field.vocab.stoi` and `text_field.vocab.itos` represent."
   ]
  },
  {
   "cell_type": "code",
   "execution_count": 271,
   "metadata": {
    "colab": {},
    "colab_type": "code",
    "collapsed": true,
    "id": "8CQM8flKa90s",
    "jupyter": {
     "outputs_hidden": true
    }
   },
   "outputs": [],
   "source": [
    "text_field.build_vocab(train)\n",
    "label_field.build_vocab(train)"
   ]
  },
  {
   "cell_type": "code",
   "execution_count": null,
   "metadata": {},
   "outputs": [],
   "source": [
    "#text_field.vocab.stoi"
   ]
  },
  {
   "cell_type": "code",
   "execution_count": null,
   "metadata": {},
   "outputs": [],
   "source": [
    "#text_field.vocab.itos"
   ]
  },
  {
   "attachments": {},
   "cell_type": "markdown",
   "metadata": {},
   "source": [
    "Going off of the official `torchtext` [docs](https://torchtext.readthedocs.io/en/latest/vocab.html), `text_field.vocab.stoi` gives us \"a collections.defaultdict instance mapping token strings to numerical identifiers\", while `text_field.vocab.itos` gives us \"a list of token strings indexed by their numerical identifiers\". The `stoi` attribute then gives us an easy way retrieve the index of a work in the vocab, e.g., `<unk>` has an index of 0. On the other side, `itos` is a list of the tokens at their respective index, e.g., `<unk>` is *at* index 0 in the list, which matches with its value in the `stoi` dictionary. "
   ]
  },
  {
   "cell_type": "markdown",
   "metadata": {
    "colab_type": "text",
    "id": "TC8WVE8Ua90u"
   },
   "source": [
    "### Part (g) [2 pt]\n",
    "\n",
    "The tokens `<unk>` and `<pad>` were not in our SMS text messages.\n",
    "What do these two values represent?"
   ]
  },
  {
   "attachments": {},
   "cell_type": "markdown",
   "metadata": {},
   "source": [
    "`<unk>` and `<pad>` tokens correspond to the unknown word w.r.t the vocab (e.g., a unique and very uncommon username) and a meaningless padding token to make shorter examples the same length respectively. The latter can help with parallelization. "
   ]
  },
  {
   "cell_type": "markdown",
   "metadata": {
    "colab_type": "text",
    "id": "Ff5CNk7Qa90y"
   },
   "source": [
    "### Part (h) [2 pt]\n",
    "\n",
    "Since text sequences are of variable length, `torchtext` provides a `BucketIterator` data loader,\n",
    "which batches similar length sequences together. The iterator also provides functionalities to\n",
    "pad sequences automatically.\n",
    "\n",
    "Take a look at 10 batches in `train_iter`. What is the maximum length of the\n",
    "input sequence in each batch? How many `<pad>` tokens are used in each of the 10\n",
    "batches?"
   ]
  },
  {
   "cell_type": "code",
   "execution_count": 273,
   "metadata": {
    "colab": {},
    "colab_type": "code",
    "collapsed": true,
    "id": "V8N8qLWOa90y",
    "jupyter": {
     "outputs_hidden": true
    }
   },
   "outputs": [],
   "source": [
    "train_iter = torchtext.legacy.data.BucketIterator(train,\n",
    "                                           batch_size=32,\n",
    "                                           sort_key=lambda x: len(x.sms), # to minimize padding\n",
    "                                           sort_within_batch=True,        # sort within each batch\n",
    "                                           repeat=False)                  # repeat the iterator for many epochs"
   ]
  },
  {
   "cell_type": "code",
   "execution_count": 276,
   "metadata": {
    "colab": {},
    "colab_type": "code",
    "collapsed": true,
    "id": "Qwz-rOaha902",
    "jupyter": {
     "outputs_hidden": true
    }
   },
   "outputs": [
    {
     "name": "stdout",
     "output_type": "stream",
     "text": [
      "torch.Size([32, 97]) torch.Size([32])\n",
      "tensor([48,  3, 10, 10,  6, 22,  3,  2, 24,  8,  4, 18,  2, 16,  2, 37,  2,  6,\n",
      "        18,  2,  6,  5,  2, 27,  8, 12,  8,  4,  2, 53,  4, 10, 21,  9,  5,  6,\n",
      "        11,  2,  4,  7,  2,  3, 42,  5, 16,  2, 57,  4, 12,  2, 17,  6,  7,  2,\n",
      "        21, 13,  4,  7,  3,  2, 18,  3,  2, 13,  3,  8,  3, 16,  2,  6, 10,  2,\n",
      "        37,  2, 13,  6, 30,  3,  2,  6,  2, 21, 13,  4,  7,  3,  2, 25, 19,  2,\n",
      "        18, 19,  2, 10,  9, 15,  3])\n"
     ]
    }
   ],
   "source": [
    "batch_count = 0 \n",
    "max_lengths = []\n",
    "pad_counts = []\n",
    "dummy_example = None\n",
    "dummy_label = None\n",
    "for batch in train_iter:\n",
    "    if batch_count < 10: \n",
    "        # print(len(batch))\n",
    "        # print(batch.sms)\n",
    "        # print(batch.label)\n",
    "        max_length, pad_count = 0, 0 \n",
    "        pad_idx = text_field.vocab.stoi[\"<pad>\"]\n",
    "        for example in batch.sms:\n",
    "            max_length = max(len(example), max_length)\n",
    "            pad_count += torch.count_nonzero(example == pad_idx)\n",
    "        max_lengths.append(max_length)\n",
    "        pad_counts.append(int(pad_count))\n",
    "    else: \n",
    "        ident = torch.eye(len(text_field.vocab.itos))\n",
    "        print(batch.sms.shape, batch.label.shape)\n",
    "        dummy_example = ident[batch.sms]\n",
    "        dummy_label = batch.label\n",
    "        print(batch.sms[0])\n",
    "        break\n",
    "    batch_count += 1 "
   ]
  },
  {
   "attachments": {},
   "cell_type": "markdown",
   "metadata": {},
   "source": [
    "We can see below that the counts of the max lengths of the training examples in each batch and their respective pad counts. We can see that each batch varying maximum lengths ranging from well under 100 to well over 100. The pad counts varied from 0 to over 100 over various different batches (runs of the above for loop). "
   ]
  },
  {
   "cell_type": "code",
   "execution_count": 275,
   "metadata": {},
   "outputs": [
    {
     "name": "stdout",
     "output_type": "stream",
     "text": [
      "[48, 124, 101, 32, 53, 28, 152, 161, 35, 30] [38, 68, 77, 36, 44, 17, 22, 18, 13, 8]\n"
     ]
    }
   ],
   "source": [
    "print(max_lengths, pad_counts)"
   ]
  },
  {
   "cell_type": "code",
   "execution_count": 237,
   "metadata": {},
   "outputs": [
    {
     "data": {
      "text/plain": [
       "torch.Size([32, 158, 117])"
      ]
     },
     "execution_count": 237,
     "metadata": {},
     "output_type": "execute_result"
    }
   ],
   "source": [
    "dummy_example.shape "
   ]
  },
  {
   "cell_type": "code",
   "execution_count": 238,
   "metadata": {},
   "outputs": [
    {
     "data": {
      "text/plain": [
       "tensor([0., 0., 0., 0., 0., 0., 0., 0., 0., 0., 1., 0., 0., 0., 0., 0., 0., 0.,\n",
       "        0., 0., 0., 0., 0., 0., 0., 0., 0., 0., 0., 0., 0., 0.])"
      ]
     },
     "execution_count": 238,
     "metadata": {},
     "output_type": "execute_result"
    }
   ],
   "source": [
    "dummy_label"
   ]
  },
  {
   "cell_type": "markdown",
   "metadata": {
    "colab_type": "text",
    "id": "y7HnqP6_a904"
   },
   "source": [
    "## Part 2. Model Building [8 pt]\n",
    "\n",
    "Build a recurrent neural network model, using an architecture of your choosing. \n",
    "Use the one-hot embedding of each character as input to your recurrent network.\n",
    "Use one or more fully-connected layers to make the prediction based on your\n",
    "recurrent network output.\n",
    "\n",
    "Instead of using the RNN output value for the final token, another often used\n",
    "strategy is to max-pool over the entire output array. That is, instead of calling\n",
    "something like:\n",
    "\n",
    "```\n",
    "out, _ = self.rnn(x)\n",
    "self.fc(out[:, -1, :])\n",
    "```\n",
    "\n",
    "where `self.rnn` is an `nn.RNN`, `nn.GRU`, or `nn.LSTM` module, and `self.fc` is a \n",
    "fully-connected \n",
    "layer, we use:\n",
    "\n",
    "```\n",
    "out, _ = self.rnn(x)\n",
    "self.fc(torch.max(out, dim=1)[0])\n",
    "```\n",
    "\n",
    "This works reasonably in practice. An even better alternative is to concatenate the\n",
    "max-pooling and average-pooling of the RNN outputs:\n",
    "\n",
    "```\n",
    "out, _ = self.rnn(x)\n",
    "out = torch.cat([torch.max(out, dim=1)[0], \n",
    "                 torch.mean(out, dim=1)], dim=1)\n",
    "self.fc(out)\n",
    "```\n",
    "\n",
    "We encourage you to try out all these options. The way you pool the RNN outputs\n",
    "is one of the \"hyperparameters\" that you can choose to tune later on."
   ]
  },
  {
   "cell_type": "code",
   "execution_count": 239,
   "metadata": {
    "colab": {},
    "colab_type": "code",
    "collapsed": true,
    "id": "jHl1p_Wwa905",
    "jupyter": {
     "outputs_hidden": true
    }
   },
   "outputs": [
    {
     "name": "stdout",
     "output_type": "stream",
     "text": [
      "tensor([1., 0., 0., 0., 0., 0., 0., 0., 0., 0.])\n",
      "tensor([0., 1., 0., 0., 0., 0., 0., 0., 0., 0.])\n",
      "tensor([[[0., 1., 0., 0., 0., 0., 0., 0., 0., 0.],\n",
      "         [0., 0., 1., 0., 0., 0., 0., 0., 0., 0.]],\n",
      "\n",
      "        [[0., 0., 0., 1., 0., 0., 0., 0., 0., 0.],\n",
      "         [0., 0., 0., 0., 1., 0., 0., 0., 0., 0.]]])\n"
     ]
    }
   ],
   "source": [
    "# You might find this code helpful for obtaining\n",
    "# PyTorch one-hot vectors.\n",
    "\n",
    "ident = torch.eye(10)\n",
    "print(ident[0]) # one-hot vector\n",
    "print(ident[1]) # one-hot vector\n",
    "x = torch   .tensor([[1, 2], [3, 4]])\n",
    "print(ident[x]) # one-hot vectors"
   ]
  },
  {
   "cell_type": "code",
   "execution_count": 293,
   "metadata": {
    "colab": {},
    "colab_type": "code",
    "collapsed": true,
    "id": "4LTQ7zFka909",
    "jupyter": {
     "outputs_hidden": true
    }
   },
   "outputs": [],
   "source": [
    "class SimpleRNN(nn.Module):\n",
    "    def __init__(self, corpus_size, hidden_size, n_layers=5):\n",
    "        super().__init__()\n",
    "        self.hidden_size = hidden_size\n",
    "        self.rnn = nn.LSTM(input_size=corpus_size,\n",
    "                          hidden_size=hidden_size, \n",
    "                          num_layers=n_layers,\n",
    "                          batch_first=True)\n",
    "        self.classification_head = nn.Sequential(\n",
    "            nn.Linear(2*hidden_size, 4*hidden_size),\n",
    "            nn.GELU(),\n",
    "            nn.Linear(4*hidden_size, hidden_size),\n",
    "            nn.GELU(),\n",
    "        )\n",
    "        self.residual = nn.Sequential(\n",
    "            nn.Linear(2*hidden_size, hidden_size)\n",
    "        )\n",
    "        self.fc_out = nn.Sequential(\n",
    "            nn.Linear(hidden_size, hidden_size),\n",
    "            nn.GELU(),\n",
    "            nn.Linear(hidden_size, 1)\n",
    "        )  # either spam or not\n",
    "        self.simple_out = nn.Linear(hidden_size, 1)\n",
    "\n",
    "    def forward(self, x):\n",
    "        rnn_out, _ = self.rnn(x)\n",
    "        max_pool = torch.max(rnn_out, dim=1)[0]\n",
    "        avg_pool = torch.mean(rnn_out, dim=1)\n",
    "        rnn_out = torch.cat([max_pool, avg_pool], dim=1)\n",
    "        head_out = self.classification_head(rnn_out)\n",
    "        residual_out = self.residual(rnn_out)\n",
    "        out = head_out + residual_out\n",
    "        return self.fc_out(out)\n"
   ]
  },
  {
   "cell_type": "markdown",
   "metadata": {
    "colab_type": "text",
    "id": "vKIYPl_Ba90_"
   },
   "source": [
    "## Part 3. Training [16 pt]\n",
    "\n",
    "### Part (a) [4 pt]\n",
    "\n",
    "Complete the `get_accuracy` function, which will compute the\n",
    "accuracy (rate) of your model across a dataset (e.g. validation set).\n",
    "You may modify `torchtext.data.BucketIterator` to make your computation\n",
    "faster."
   ]
  },
  {
   "cell_type": "code",
   "execution_count": 300,
   "metadata": {
    "colab": {},
    "colab_type": "code",
    "collapsed": true,
    "id": "pvNfhGD6a91A",
    "jupyter": {
     "outputs_hidden": true
    }
   },
   "outputs": [],
   "source": [
    "def get_accuracy(model, data, corpus_size, device):\n",
    "    \"\"\" Compute the accuracy of the `model` across a dataset `data`\n",
    "    \n",
    "    Example usage:\n",
    "    \n",
    "    >>> model = MyRNN() # to be defined\n",
    "    >>> get_accuracy(model, valid, corpus_size, device) # the variable `valid` is from above\n",
    "    \"\"\"\n",
    "    with torch.no_grad():\n",
    "        num_correct, num_total = 0, 0 \n",
    "        ident = torch.eye(corpus_size).to(device)\n",
    "        for batch in data: \n",
    "            label = batch.label.to(device)\n",
    "            sms = batch.sms\n",
    "            data_processed = ident[sms]\n",
    "            pred = model(data_processed)\n",
    "            pred = nn.functional.sigmoid(pred).reshape(-1)\n",
    "            pred = (pred>=0.5).float().to(device)\n",
    "            num_correct += torch.sum(pred == label)\n",
    "            num_total += len(pred)\n",
    "    return num_correct/num_total"
   ]
  },
  {
   "cell_type": "markdown",
   "metadata": {
    "colab_type": "text",
    "id": "TlxlcAC1a91C"
   },
   "source": [
    "### Part (b) [4 pt]\n",
    "\n",
    "Train your model. Plot the training curve of your final model. \n",
    "Your training curve should have the training/validation loss and\n",
    "accuracy plotted periodically.\n",
    "\n",
    "Note: Not all of your batches will have the same batch size.\n",
    "In particular, if your training set does not divide evenly by\n",
    "your batch size, there will be a batch that is smaller than\n",
    "the rest. "
   ]
  },
  {
   "cell_type": "code",
   "execution_count": 353,
   "metadata": {},
   "outputs": [],
   "source": [
    "from matplotlib import pyplot as plt \n",
    "def plot_acc_curves(loss_dict):\n",
    "    plt.title(f\"{loss_dict['config']}\")\n",
    "    plt.plot([value for value in loss_dict[\"epochs\"]], [value.cpu().data.numpy() for value in  loss_dict[\"train_acc\"]], label=\"Train Accuracy\")\n",
    "    plt.plot([value for value in loss_dict[\"epochs\"]], [value.cpu().data.numpy() for value in  loss_dict[\"val_acc\"]], label=\"Validation Accuracy\")\n",
    "    plt.xlabel(f\"{len(loss_dict['epochs'])} Epochs\")\n",
    "    plt.ylabel(\"Accuracy\")\n",
    "    plt.legend(loc='best')\n",
    "    plt.show()\n",
    "\n",
    "def plot_loss_curves(loss_dict):\n",
    "    plt.title(f\"{loss_dict['config']}\")\n",
    "    plt.plot([value for value in loss_dict[\"epochs\"]], [value.cpu().data.numpy() for value in loss_dict[\"train_loss\"]], label=\"Train Loss\")\n",
    "    plt.plot([value for value in loss_dict[\"epochs\"]], [value.cpu().data.numpy() for value in loss_dict[\"val_loss\"]], label=\"Validation Loss\")\n",
    "    plt.xlabel(f\"{len(loss_dict['epochs'])} Epochs\")\n",
    "    plt.ylabel(\"Loss\")\n",
    "    plt.legend(loc='best')\n",
    "    plt.show()"
   ]
  },
  {
   "cell_type": "code",
   "execution_count": 307,
   "metadata": {
    "colab": {},
    "colab_type": "code",
    "collapsed": true,
    "id": "CVtf7CJCa91D",
    "jupyter": {
     "outputs_hidden": true
    }
   },
   "outputs": [],
   "source": [
    "def train_loop(model, train_loader, valid_loader, corpus_size=32, num_epochs=5, learning_rate=1e-4, val_epochs=10, weight_decay=1e-6, acc_func=None, use_cuda=True, model_path_prefix=\"./models/\", plot_acc=False):\n",
    "    torch.manual_seed(100)\n",
    "\n",
    "    # determine if CUDA is available and set Tensor core flags\n",
    "    if use_cuda and torch.cuda.is_available():\n",
    "        dev = \"cuda:0\"\n",
    "        torch.backends.cuda.matmul.allow_tf32 = True\n",
    "        torch.backends.cudnn.allow_tf32 = True\n",
    "    else:\n",
    "        print(\"CUDA unavailable, training on CPU\")\n",
    "        dev = \"CPU\"\n",
    "    device = torch.device(dev)\n",
    "    model = model.to(device)\n",
    "\n",
    "    best_val_loss = float('inf')\n",
    "\n",
    "    loss_dict = {\"config\": f\"Epochs: {num_epochs}, Lr: {learning_rate}\",\n",
    "                 \"epochs\": [],\n",
    "                 \"train_loss\": [], \"val_loss\": [],\n",
    "                 \"train_acc\": [], \"val_acc\": []}\n",
    "\n",
    "    criterion = nn.BCEWithLogitsLoss()\n",
    "    optimizer = torch.optim.Adam(\n",
    "        model.parameters(), lr=learning_rate, weight_decay=weight_decay)\n",
    "    \n",
    "    ident = torch.eye(corpus_size).to(device)\n",
    "    for epoch in range(num_epochs):\n",
    "        train_loss = 0.0\n",
    "        batches = 0\n",
    "\n",
    "        for data in train_loader:\n",
    "            sms, label = data.sms, data.label.reshape(-1, 1).to(device)\n",
    "            data_processed = ident[sms]\n",
    "            # use Nvidia AMP for tensor cores speed up.\n",
    "            with torch.cuda.amp.autocast():\n",
    "                pred = model(data_processed)\n",
    "                loss = criterion(pred, label)\n",
    "\n",
    "            loss.backward()\n",
    "            optimizer.step()\n",
    "            optimizer.zero_grad()\n",
    "\n",
    "            train_loss += loss\n",
    "            batches += 1\n",
    "\n",
    "\n",
    "        train_loss /= batches\n",
    "\n",
    "        if epoch % val_epochs == 0:\n",
    "            with torch.no_grad():\n",
    "                val_acc = 0.0\n",
    "                train_acc = 0.0\n",
    "                val_loss = 0.0\n",
    "                for data in valid_loader:\n",
    "                    sms, label = data.sms, data.label.reshape(-1, 1).to(device)\n",
    "\n",
    "                    data_processed = ident[sms]\n",
    "                    preds = model(data_processed)\n",
    "                    val_loss += criterion(preds, label)\n",
    "                print(\n",
    "                    f\"epoch: {epoch}, train_loss: {train_loss}, val_loss: {val_loss}\")\n",
    "                if plot_acc:\n",
    "                    val_acc = acc_func(model, valid_loader,\n",
    "                                       corpus_size, device)\n",
    "                    train_acc = acc_func(\n",
    "                        model, train_loader, corpus_size, device)\n",
    "                    print(\n",
    "                        f\"epoch: {epoch}, train_acc: {train_acc}, val_acc: {val_acc}\")\n",
    "\n",
    "                loss_dict[\"train_loss\"].append(train_loss)\n",
    "                loss_dict[\"val_loss\"].append(val_loss)\n",
    "                loss_dict[\"train_acc\"].append(train_acc)\n",
    "                loss_dict[\"val_acc\"].append(val_acc)\n",
    "                loss_dict[\"epochs\"].append(epoch)\n",
    "                \n",
    "                if val_loss < best_val_loss:\n",
    "                    best_val_loss = val_loss\n",
    "                    torch.save(model.state_dict(), model_path_prefix +\n",
    "                               f\"valloss-{np.round(best_val_loss.cpu().numpy(), decimals=4)}-lr_{learning_rate}-epoch_num_{epoch}.mdlckpt\")\n",
    "\n",
    "    return model, loss_dict\n"
   ]
  },
  {
   "cell_type": "code",
   "execution_count": 325,
   "metadata": {},
   "outputs": [],
   "source": [
    "train_iter = torchtext.legacy.data.BucketIterator(train,\n",
    "                                           batch_size=32,\n",
    "                                           sort_key=lambda x: len(x.sms), # to minimize padding\n",
    "                                           sort_within_batch=True,        # sort within each batch\n",
    "                                           repeat=False)                  # repeat the iterator for many epochs\n",
    "\n",
    "val_iter = torchtext.legacy.data.BucketIterator(val,\n",
    "                                           batch_size=32,\n",
    "                                           sort_key=lambda x: len(x.sms), # to minimize padding\n",
    "                                           sort_within_batch=True,        # sort within each batch\n",
    "                                           repeat=False)                  # repeat the iterator for many epochs\n",
    "\n",
    "test_iter = torchtext.legacy.data.BucketIterator(test,\n",
    "                                           batch_size=32,\n",
    "                                           sort_key=lambda x: len(x.sms), # to minimize padding\n",
    "                                           sort_within_batch=True,        # sort within each batch\n",
    "                                           repeat=False)                  # repeat the iterator for many epochs\n"
   ]
  },
  {
   "cell_type": "code",
   "execution_count": 308,
   "metadata": {},
   "outputs": [
    {
     "name": "stdout",
     "output_type": "stream",
     "text": [
      "epoch: 0, train_loss: 0.6935163140296936, val_loss: 24.860689163208008\n",
      "epoch: 0, train_acc: 0.5212643146514893, val_acc: 0.13273541629314423\n",
      "epoch: 10, train_loss: 0.11180739849805832, val_loss: 4.6100568771362305\n",
      "epoch: 10, train_acc: 0.9624359011650085, val_acc: 0.9452914595603943\n",
      "epoch: 20, train_loss: 0.06319965422153473, val_loss: 3.1552038192749023\n",
      "epoch: 20, train_acc: 0.9766672253608704, val_acc: 0.9677129983901978\n",
      "epoch: 30, train_loss: 0.041549183428287506, val_loss: 3.7731552124023438\n",
      "epoch: 30, train_acc: 0.979314923286438, val_acc: 0.963228702545166\n",
      "epoch: 40, train_loss: 0.030243732035160065, val_loss: 3.4513604640960693\n",
      "epoch: 40, train_acc: 0.9963594675064087, val_acc: 0.9829596281051636\n"
     ]
    }
   ],
   "source": [
    "SpamClassifier = SimpleRNN(corpus_size = len(text_field.vocab.itos), hidden_size=200)\n",
    "model, loss_dict = train_loop(SpamClassifier, train_iter, val_iter, len(text_field.vocab.itos), num_epochs=50, acc_func=get_accuracy, plot_acc=True)"
   ]
  },
  {
   "cell_type": "code",
   "execution_count": 354,
   "metadata": {},
   "outputs": [
    {
     "data": {
      "image/png": "[encoded data removed]",
      "text/plain": [
       "<Figure size 640x480 with 1 Axes>"
      ]
     },
     "metadata": {},
     "output_type": "display_data"
    },
    {
     "data": {
      "image/png": "[encoded data removed]",
      "text/plain": [
       "<Figure size 640x480 with 1 Axes>"
      ]
     },
     "metadata": {},
     "output_type": "display_data"
    }
   ],
   "source": [
    "plot_acc_curves(loss_dict)\n",
    "plot_loss_curves(loss_dict)"
   ]
  },
  {
   "cell_type": "code",
   "execution_count": 306,
   "metadata": {},
   "outputs": [
    {
     "name": "stderr",
     "output_type": "stream",
     "text": [
      "c:\\ProgramData\\Anaconda3\\envs\\pytorch-torchtext\\lib\\site-packages\\torch\\nn\\functional.py:1709: UserWarning: nn.functional.sigmoid is deprecated. Use torch.sigmoid instead.\n",
      "  warnings.warn(\"nn.functional.sigmoid is deprecated. Use torch.sigmoid instead.\")\n"
     ]
    },
    {
     "data": {
      "text/plain": [
       "tensor(0.9830, device='cuda:0')"
      ]
     },
     "execution_count": 306,
     "metadata": {},
     "output_type": "execute_result"
    }
   ],
   "source": [
    "val_acc = get_accuracy(model, val_iter, len(text_field.vocab.itos), \"cuda:0\")\n",
    "val_acc"
   ]
  },
  {
   "cell_type": "markdown",
   "metadata": {
    "colab_type": "text",
    "id": "fE3eRkDAa91F"
   },
   "source": [
    "### Part (c) [4 pt]\n",
    "\n",
    "Choose at least 4 hyperparameters to tune. Explain how you tuned the hyperparameters.\n",
    "You don't need to include your training curve for every model you trained.\n",
    "Instead, explain what hyperparemters you tuned, what the best validation accuracy was,\n",
    "and the reasoning behind the hyperparameter decisions you made.\n",
    "\n",
    "For this assignment, you should tune more than just your learning rate and epoch. \n",
    "Choose at least 2 hyperparameters that are unrelated to the optimizer."
   ]
  },
  {
   "attachments": {},
   "cell_type": "markdown",
   "metadata": {},
   "source": [
    "In this section, we will consider the `num_layer`, `hidden_size`, `learning_rate`, and `weight_decay` parameters. We will also run the better hyperparameter through some further tuned hyperparameters using the better hyperparameter set as a starting line. Overall, we will approach hyperparameter tuning from a grid search like approach. First, we consider a low amount of layers with a small hidden size to examine a smaller network with a higher learning rate and low weight decay to examine the effects of a smaller network that is \"easier\" to train (consider that we do not need a larger weight decay if the network is less complex because less penalization for the network is required). So for this first set, we consider `num_layer = 2`, `hidden_size = 50`, `learning_rate = 5e-4`, and `weight_decay=1e-6`. Second, we will consider a high amount of layers with a large hidden size and a lower learning rate and higher weight decay. So we can consider the following for the second set: `num_layer = 10`, `hidden_size = 300`, `learning_rate = 8e-5`, and `weight_decay=1e-4`. Then for the 3rd set, we approach it through the grid search approach, so we will consider a low amount of layers with a small hidden size with a lower learning rate and higher weight decay, so we can consider: `num_layer = 2`, `hidden_size = 50`, `learning_rate = 8e-5`, and `weight_decay=1e-4`. Finally, we can also consider a high amount of layers with a large hidden size and a higher learning rate and lower weight decay: `num_layer = 10`, `hidden_size = 300`, `learning_rate = 5e-4`, and `weight_decay=1e-6`."
   ]
  },
  {
   "cell_type": "code",
   "execution_count": 338,
   "metadata": {},
   "outputs": [],
   "source": [
    "low_lr = 4e-4 \n",
    "high_lr = 6e-4\n",
    "\n",
    "low_wd = 1e-6\n",
    "high_wd = 3e-6\n",
    "\n",
    "low_hid = 50\n",
    "high_hid = 100\n",
    "\n",
    "low_num_layers = 2\n",
    "high_num_layers = 4"
   ]
  },
  {
   "cell_type": "code",
   "execution_count": 329,
   "metadata": {},
   "outputs": [
    {
     "name": "stdout",
     "output_type": "stream",
     "text": [
      "epoch: 0, train_loss: 0.5594639182090759, val_loss: 6.098099231719971\n",
      "epoch: 0, train_acc: 0.9344696402549744, val_acc: 0.9515694975852966\n",
      "epoch: 10, train_loss: 0.10263323783874512, val_loss: 4.252440929412842\n",
      "epoch: 10, train_acc: 0.9687241911888123, val_acc: 0.9542600512504578\n",
      "epoch: 20, train_loss: 0.03237751126289368, val_loss: 3.32724666595459\n",
      "epoch: 20, train_acc: 0.98891282081604, val_acc: 0.9686098098754883\n",
      "epoch: 30, train_loss: 0.015133311040699482, val_loss: 3.521516799926758\n",
      "epoch: 30, train_acc: 0.9983452558517456, val_acc: 0.9856501817703247\n",
      "epoch: 40, train_loss: 0.004557956475764513, val_loss: 3.567976236343384\n",
      "epoch: 40, train_acc: 0.9995036125183105, val_acc: 0.9856501817703247\n"
     ]
    }
   ],
   "source": [
    "# Test 1, low_num_layers, low_hid, high_lr, low_wd\n",
    "Test1_SpamClassifier = SimpleRNN(\n",
    "    corpus_size = len(text_field.vocab.itos), n_layers=low_num_layers, hidden_size=low_hid)\n",
    "Test1_model, Test1_loss_dict = train_loop(Test1_SpamClassifier, train_iter, val_iter, len(text_field.vocab.itos),\n",
    "                         num_epochs=50, val_epochs=10, learning_rate=high_lr, weight_decay=low_wd, acc_func=get_accuracy, plot_acc=True)\n"
   ]
  },
  {
   "cell_type": "code",
   "execution_count": 339,
   "metadata": {},
   "outputs": [
    {
     "name": "stdout",
     "output_type": "stream",
     "text": [
      "epoch: 0, train_loss: 0.5935415029525757, val_loss: 7.160689353942871\n"
     ]
    },
    {
     "name": "stderr",
     "output_type": "stream",
     "text": [
      "c:\\ProgramData\\Anaconda3\\envs\\pytorch-torchtext\\lib\\site-packages\\torch\\nn\\functional.py:1709: UserWarning: nn.functional.sigmoid is deprecated. Use torch.sigmoid instead.\n",
      "  warnings.warn(\"nn.functional.sigmoid is deprecated. Use torch.sigmoid instead.\")\n"
     ]
    },
    {
     "name": "stdout",
     "output_type": "stream",
     "text": [
      "epoch: 0, train_acc: 0.9200728535652161, val_acc: 0.9766815900802612\n",
      "epoch: 2, train_loss: 0.14948925375938416, val_loss: 4.513606071472168\n",
      "epoch: 2, train_acc: 0.9578024744987488, val_acc: 0.9668161273002625\n",
      "epoch: 4, train_loss: 0.11511154472827911, val_loss: 4.0667524337768555\n",
      "epoch: 4, train_acc: 0.968558669090271, val_acc: 0.9686098098754883\n",
      "epoch: 6, train_loss: 0.0934830978512764, val_loss: 2.547231674194336\n",
      "epoch: 6, train_acc: 0.9559821486473083, val_acc: 0.9757847189903259\n",
      "epoch: 8, train_loss: 0.06722303479909897, val_loss: 3.0853378772735596\n",
      "epoch: 8, train_acc: 0.9824590682983398, val_acc: 0.9686098098754883\n",
      "epoch: 10, train_loss: 0.0543290413916111, val_loss: 3.437964677810669\n",
      "epoch: 10, train_acc: 0.9882509112358093, val_acc: 0.9677129983901978\n",
      "epoch: 12, train_loss: 0.044877324253320694, val_loss: 3.539114236831665\n",
      "epoch: 12, train_acc: 0.9885818362236023, val_acc: 0.9704035520553589\n",
      "epoch: 14, train_loss: 0.04462344944477081, val_loss: 3.8613054752349854\n",
      "epoch: 14, train_acc: 0.989740252494812, val_acc: 0.9650223851203918\n",
      "epoch: 16, train_loss: 0.03788577392697334, val_loss: 3.7760229110717773\n",
      "epoch: 16, train_acc: 0.9907330870628357, val_acc: 0.9641255140304565\n",
      "epoch: 18, train_loss: 0.026874009519815445, val_loss: 3.1408746242523193\n",
      "epoch: 18, train_acc: 0.9958630204200745, val_acc: 0.9766815900802612\n",
      "epoch: 20, train_loss: 0.03877861425280571, val_loss: 3.4172306060791016\n",
      "epoch: 20, train_acc: 0.9952011108398438, val_acc: 0.9766815900802612\n",
      "epoch: 22, train_loss: 0.018624810501933098, val_loss: 3.59389591217041\n",
      "epoch: 22, train_acc: 0.9874234795570374, val_acc: 0.9766815900802612\n",
      "epoch: 24, train_loss: 0.015050291083753109, val_loss: 4.083364486694336\n",
      "epoch: 24, train_acc: 0.9958630204200745, val_acc: 0.9775784611701965\n",
      "epoch: 26, train_loss: 0.013508303090929985, val_loss: 5.872461318969727\n",
      "epoch: 26, train_acc: 0.9895747303962708, val_acc: 0.9614349603652954\n",
      "epoch: 28, train_loss: 0.016990721225738525, val_loss: 4.011845111846924\n",
      "epoch: 28, train_acc: 0.9955320358276367, val_acc: 0.9829596281051636\n",
      "epoch: 30, train_loss: 0.01082478929311037, val_loss: 3.545778512954712\n",
      "epoch: 30, train_acc: 0.9988416433334351, val_acc: 0.9847533106803894\n",
      "epoch: 32, train_loss: 0.013141762465238571, val_loss: 4.424249649047852\n",
      "epoch: 32, train_acc: 0.9968559145927429, val_acc: 0.9739909768104553\n",
      "epoch: 34, train_loss: 0.017972813919186592, val_loss: 4.889667510986328\n",
      "epoch: 34, train_acc: 0.9993380904197693, val_acc: 0.9784753322601318\n",
      "epoch: 36, train_loss: 0.008784778416156769, val_loss: 4.830638408660889\n",
      "epoch: 36, train_acc: 0.999669075012207, val_acc: 0.981165885925293\n",
      "epoch: 38, train_loss: 0.01091624516993761, val_loss: 4.263648986816406\n",
      "epoch: 38, train_acc: 0.9998345375061035, val_acc: 0.9820627570152283\n",
      "epoch: 40, train_loss: 0.0035037891939282417, val_loss: 5.847288131713867\n",
      "epoch: 40, train_acc: 0.9995036125183105, val_acc: 0.9829596281051636\n",
      "epoch: 42, train_loss: 0.06468901038169861, val_loss: 3.3801310062408447\n",
      "epoch: 42, train_acc: 0.9966903924942017, val_acc: 0.9748878479003906\n",
      "epoch: 44, train_loss: 0.009517863392829895, val_loss: 4.1363205909729\n",
      "epoch: 44, train_acc: 0.996028482913971, val_acc: 0.9802690148353577\n",
      "epoch: 46, train_loss: 0.007062247022986412, val_loss: 4.5332159996032715\n",
      "epoch: 46, train_acc: 0.9995036125183105, val_acc: 0.9802690148353577\n",
      "epoch: 48, train_loss: 0.0032734954729676247, val_loss: 5.210238456726074\n",
      "epoch: 48, train_acc: 0.9998345375061035, val_acc: 0.9793721437454224\n"
     ]
    }
   ],
   "source": [
    "# Test 2, high_num_layers, high_hid, low_lr, high_wd\n",
    "Test2_SpamClassifier = SimpleRNN(\n",
    "    corpus_size = len(text_field.vocab.itos), n_layers=high_num_layers, hidden_size=high_hid)\n",
    "Test2_model, Test2_loss_dict = train_loop(Test2_SpamClassifier, train_iter, val_iter, len(text_field.vocab.itos),\n",
    "                         num_epochs=50, val_epochs=2, learning_rate=low_lr, weight_decay=high_wd, acc_func=get_accuracy, plot_acc=True)\n"
   ]
  },
  {
   "cell_type": "code",
   "execution_count": 340,
   "metadata": {},
   "outputs": [
    {
     "name": "stdout",
     "output_type": "stream",
     "text": [
      "epoch: 0, train_loss: 0.6457530856132507, val_loss: 17.74270248413086\n",
      "epoch: 0, train_acc: 0.9238789081573486, val_acc: 0.9569506645202637\n",
      "epoch: 2, train_loss: 0.1297154724597931, val_loss: 3.3653273582458496\n",
      "epoch: 2, train_acc: 0.9573060274124146, val_acc: 0.9650223851203918\n",
      "epoch: 4, train_loss: 0.10723095387220383, val_loss: 1.9876598119735718\n",
      "epoch: 4, train_acc: 0.9515141844749451, val_acc: 0.9784753322601318\n",
      "epoch: 6, train_loss: 0.09836742281913757, val_loss: 3.4608869552612305\n",
      "epoch: 6, train_acc: 0.978156566619873, val_acc: 0.9641255140304565\n",
      "epoch: 8, train_loss: 0.07461708039045334, val_loss: 2.1940877437591553\n",
      "epoch: 8, train_acc: 0.9836174249649048, val_acc: 0.9784753322601318\n",
      "epoch: 10, train_loss: 0.05971953645348549, val_loss: 1.9406442642211914\n",
      "epoch: 10, train_acc: 0.9874234795570374, val_acc: 0.9829596281051636\n",
      "epoch: 12, train_loss: 0.04308571293950081, val_loss: 3.4393162727355957\n",
      "epoch: 12, train_acc: 0.9822936058044434, val_acc: 0.9668161273002625\n",
      "epoch: 14, train_loss: 0.033712130039930344, val_loss: 2.4500532150268555\n",
      "epoch: 14, train_acc: 0.9928843379020691, val_acc: 0.9829596281051636\n",
      "epoch: 16, train_loss: 0.030183332040905952, val_loss: 4.104140758514404\n",
      "epoch: 16, train_acc: 0.9829555153846741, val_acc: 0.9677129983901978\n",
      "epoch: 18, train_loss: 0.040506597608327866, val_loss: 2.5388152599334717\n",
      "epoch: 18, train_acc: 0.995697557926178, val_acc: 0.981165885925293\n",
      "epoch: 20, train_loss: 0.017602263018488884, val_loss: 2.6519107818603516\n",
      "epoch: 20, train_acc: 0.9970213770866394, val_acc: 0.98654705286026\n",
      "epoch: 22, train_loss: 0.024681344628334045, val_loss: 6.302526950836182\n",
      "epoch: 22, train_acc: 0.9688896536827087, val_acc: 0.9372196793556213\n",
      "epoch: 24, train_loss: 0.025134457275271416, val_loss: 2.480010986328125\n",
      "epoch: 24, train_acc: 0.9978488087654114, val_acc: 0.9856501817703247\n",
      "epoch: 26, train_loss: 0.01249693427234888, val_loss: 2.779083013534546\n",
      "epoch: 26, train_acc: 0.9980142712593079, val_acc: 0.9856501817703247\n",
      "epoch: 28, train_loss: 0.011676260270178318, val_loss: 4.078176498413086\n",
      "epoch: 28, train_acc: 0.9981797337532043, val_acc: 0.98654705286026\n",
      "epoch: 30, train_loss: 0.022215673699975014, val_loss: 2.804915428161621\n",
      "epoch: 30, train_acc: 0.994539201259613, val_acc: 0.98654705286026\n",
      "epoch: 32, train_loss: 0.016417300328612328, val_loss: 3.180436134338379\n",
      "epoch: 32, train_acc: 0.9894092679023743, val_acc: 0.9766815900802612\n",
      "epoch: 34, train_loss: 0.011255878023803234, val_loss: 3.2579877376556396\n",
      "epoch: 34, train_acc: 0.9978488087654114, val_acc: 0.9847533106803894\n",
      "epoch: 36, train_loss: 0.009851786307990551, val_loss: 3.7130017280578613\n",
      "epoch: 36, train_acc: 0.9981797337532043, val_acc: 0.9847533106803894\n",
      "epoch: 38, train_loss: 0.00988844782114029, val_loss: 4.449872970581055\n",
      "epoch: 38, train_acc: 0.9983452558517456, val_acc: 0.9847533106803894\n",
      "epoch: 40, train_loss: 0.030726661905646324, val_loss: 2.566408157348633\n",
      "epoch: 40, train_acc: 0.9981797337532043, val_acc: 0.981165885925293\n",
      "epoch: 42, train_loss: 0.007905294187366962, val_loss: 3.304788112640381\n",
      "epoch: 42, train_acc: 0.9983452558517456, val_acc: 0.9847533106803894\n",
      "epoch: 44, train_loss: 0.16717244684696198, val_loss: 2.600999116897583\n",
      "epoch: 44, train_acc: 0.9930498600006104, val_acc: 0.9793721437454224\n",
      "epoch: 46, train_loss: 0.01374652236700058, val_loss: 3.205137252807617\n",
      "epoch: 46, train_acc: 0.9978488087654114, val_acc: 0.981165885925293\n",
      "epoch: 48, train_loss: 0.009638057090342045, val_loss: 3.4247283935546875\n",
      "epoch: 48, train_acc: 0.9980142712593079, val_acc: 0.9820627570152283\n"
     ]
    }
   ],
   "source": [
    "# Test 3, low_num_layers, low_hid, low_lr, high_wd\n",
    "Test3_SpamClassifier = SimpleRNN(\n",
    "    corpus_size = len(text_field.vocab.itos), n_layers=low_num_layers, hidden_size=low_hid)\n",
    "Test3_model, Test3_loss_dict = train_loop(Test3_SpamClassifier, train_iter, val_iter, len(text_field.vocab.itos),\n",
    "                         num_epochs=50, val_epochs=2, learning_rate=low_lr, weight_decay=high_wd, acc_func=get_accuracy, plot_acc=True)"
   ]
  },
  {
   "cell_type": "code",
   "execution_count": 342,
   "metadata": {},
   "outputs": [
    {
     "name": "stdout",
     "output_type": "stream",
     "text": [
      "epoch: 0, train_loss: 0.5417205691337585, val_loss: 7.275435447692871\n",
      "epoch: 0, train_acc: 0.9144464731216431, val_acc: 0.9686098098754883\n",
      "epoch: 2, train_loss: 0.143855482339859, val_loss: 3.471240282058716\n",
      "epoch: 2, train_acc: 0.9531689882278442, val_acc: 0.9668161273002625\n",
      "epoch: 4, train_loss: 0.104254350066185, val_loss: 2.3393943309783936\n",
      "epoch: 4, train_acc: 0.9713718891143799, val_acc: 0.9757847189903259\n",
      "epoch: 6, train_loss: 0.08013563603162766, val_loss: 1.9657011032104492\n",
      "epoch: 6, train_acc: 0.9826245307922363, val_acc: 0.981165885925293\n",
      "epoch: 8, train_loss: 0.0517394132912159, val_loss: 2.141011953353882\n",
      "epoch: 8, train_acc: 0.989740252494812, val_acc: 0.9757847189903259\n",
      "epoch: 10, train_loss: 0.04356437548995018, val_loss: 2.475397825241089\n",
      "epoch: 10, train_acc: 0.9910640716552734, val_acc: 0.9730941653251648\n",
      "epoch: 12, train_loss: 0.02569805644452572, val_loss: 3.3836121559143066\n",
      "epoch: 12, train_acc: 0.9869270324707031, val_acc: 0.9695066809654236\n",
      "epoch: 14, train_loss: 0.015195001848042011, val_loss: 2.2134995460510254\n",
      "epoch: 14, train_acc: 0.9983452558517456, val_acc: 0.9901344776153564\n",
      "epoch: 16, train_loss: 0.024441758170723915, val_loss: 2.606642723083496\n",
      "epoch: 16, train_acc: 0.9961940050125122, val_acc: 0.981165885925293\n",
      "epoch: 18, train_loss: 0.008967653848230839, val_loss: 2.7535791397094727\n",
      "epoch: 18, train_acc: 0.9991726279258728, val_acc: 0.9892376661300659\n",
      "epoch: 20, train_loss: 0.008076583966612816, val_loss: 2.5184690952301025\n",
      "epoch: 20, train_acc: 0.9991726279258728, val_acc: 0.9892376661300659\n",
      "epoch: 22, train_loss: 0.02753860130906105, val_loss: 2.6894893646240234\n",
      "epoch: 22, train_acc: 0.9991726279258728, val_acc: 0.9901344776153564\n",
      "epoch: 24, train_loss: 0.0047302404418587685, val_loss: 3.02071213722229\n",
      "epoch: 24, train_acc: 0.9993380904197693, val_acc: 0.9910313487052917\n",
      "epoch: 26, train_loss: 0.002648554975166917, val_loss: 2.940589189529419\n",
      "epoch: 26, train_acc: 0.9995036125183105, val_acc: 0.98654705286026\n",
      "epoch: 28, train_loss: 0.002425492275506258, val_loss: 4.074878692626953\n",
      "epoch: 28, train_acc: 0.9998345375061035, val_acc: 0.9874439239501953\n",
      "epoch: 30, train_loss: 0.03659381717443466, val_loss: 2.247919797897339\n",
      "epoch: 30, train_acc: 0.996028482913971, val_acc: 0.9829596281051636\n",
      "epoch: 32, train_loss: 0.0024258079938590527, val_loss: 3.277750015258789\n",
      "epoch: 32, train_acc: 0.9998345375061035, val_acc: 0.9883407950401306\n",
      "epoch: 34, train_loss: 0.00036938078119419515, val_loss: 3.114154577255249\n",
      "epoch: 34, train_acc: 1.0, val_acc: 0.9874439239501953\n",
      "epoch: 36, train_loss: 6.68576467433013e-05, val_loss: 3.273498296737671\n",
      "epoch: 36, train_acc: 1.0, val_acc: 0.9883407950401306\n",
      "epoch: 38, train_loss: 3.469281000434421e-05, val_loss: 3.732635498046875\n",
      "epoch: 38, train_acc: 1.0, val_acc: 0.9883407950401306\n",
      "epoch: 40, train_loss: 0.00259116617962718, val_loss: 9.81916332244873\n",
      "epoch: 40, train_acc: 0.9453914165496826, val_acc: 0.9748878479003906\n",
      "epoch: 42, train_loss: 0.0005310507258400321, val_loss: 2.9149715900421143\n",
      "epoch: 42, train_acc: 1.0, val_acc: 0.9874439239501953\n",
      "epoch: 44, train_loss: 6.757055234629661e-05, val_loss: 2.9385101795196533\n",
      "epoch: 44, train_acc: 1.0, val_acc: 0.98654705286026\n",
      "epoch: 46, train_loss: 3.0812909244559705e-05, val_loss: 3.390098810195923\n",
      "epoch: 46, train_acc: 1.0, val_acc: 0.9874439239501953\n",
      "epoch: 48, train_loss: 1.873482506198343e-05, val_loss: 3.532932996749878\n",
      "epoch: 48, train_acc: 1.0, val_acc: 0.98654705286026\n"
     ]
    }
   ],
   "source": [
    "# Test4, high_num_layers, high_hid, high_lr, low_wd\n",
    "Test4_SpamClassifier = SimpleRNN(\n",
    "    corpus_size = len(text_field.vocab.itos), n_layers=low_num_layers, hidden_size=low_hid)\n",
    "Test4_model, Test4_loss_dict = train_loop(Test4_SpamClassifier, train_iter, val_iter, len(text_field.vocab.itos),\n",
    "                         num_epochs=50, val_epochs=2, learning_rate=high_lr, weight_decay=low_wd, acc_func=get_accuracy, plot_acc=True)\n"
   ]
  },
  {
   "attachments": {},
   "cell_type": "markdown",
   "metadata": {},
   "source": [
    "The hyperparameter sets all performed quite similarly $\\approx 98\\%$ on the validation set. The test 4 model performed marginally better since it was able to hit almost $99\\%$ accuracy on the validation set. So we will run test 5 using test 4 hyperparameters with slight changes to the hyperparameters. We will increase the weight decay slightly since we may be able to get slightly better validation set performance through better regularization (model memorizes train set perfectly). Then, we could slightly increase the learning rate since there isn't really any \"bouncing\", i.e., loss curve seems stable. "
   ]
  },
  {
   "cell_type": "code",
   "execution_count": 346,
   "metadata": {},
   "outputs": [
    {
     "name": "stdout",
     "output_type": "stream",
     "text": [
      "epoch: 0, train_loss: 0.4897180199623108, val_loss: 2.9879965782165527\n",
      "epoch: 0, train_acc: 0.9333112835884094, val_acc: 0.9784753322601318\n",
      "epoch: 1, train_loss: 0.15906496345996857, val_loss: 3.002351760864258\n",
      "epoch: 1, train_acc: 0.9543273448944092, val_acc: 0.9721972942352295\n",
      "epoch: 2, train_loss: 0.12375590205192566, val_loss: 2.976738214492798\n",
      "epoch: 2, train_acc: 0.9609465599060059, val_acc: 0.9730941653251648\n",
      "epoch: 3, train_loss: 0.09626881778240204, val_loss: 8.057890892028809\n",
      "epoch: 3, train_acc: 0.9442330598831177, val_acc: 0.915695071220398\n",
      "epoch: 4, train_loss: 0.07461473345756531, val_loss: 2.8430826663970947\n",
      "epoch: 4, train_acc: 0.9819626212120056, val_acc: 0.9686098098754883\n",
      "epoch: 5, train_loss: 0.0549466609954834, val_loss: 2.444581985473633\n",
      "epoch: 5, train_acc: 0.9869270324707031, val_acc: 0.9784753322601318\n",
      "epoch: 6, train_loss: 0.04566168412566185, val_loss: 5.6167707443237305\n",
      "epoch: 6, train_acc: 0.9252027273178101, val_acc: 0.9829596281051636\n",
      "epoch: 7, train_loss: 0.07806945592164993, val_loss: 2.7464118003845215\n",
      "epoch: 7, train_acc: 0.9884163737297058, val_acc: 0.9829596281051636\n",
      "epoch: 8, train_loss: 0.03703707456588745, val_loss: 3.533384323120117\n",
      "epoch: 8, train_acc: 0.9918915033340454, val_acc: 0.9820627570152283\n",
      "epoch: 9, train_loss: 0.02604917250573635, val_loss: 3.8792707920074463\n",
      "epoch: 9, train_acc: 0.983782947063446, val_acc: 0.9596412181854248\n",
      "epoch: 10, train_loss: 0.019529711455106735, val_loss: 3.119821786880493\n",
      "epoch: 10, train_acc: 0.9966903924942017, val_acc: 0.9820627570152283\n",
      "epoch: 11, train_loss: 0.03276343643665314, val_loss: 2.50331711769104\n",
      "epoch: 11, train_acc: 0.996028482913971, val_acc: 0.981165885925293\n",
      "epoch: 12, train_loss: 0.016711382195353508, val_loss: 2.828434705734253\n",
      "epoch: 12, train_acc: 0.9978488087654114, val_acc: 0.9856501817703247\n",
      "epoch: 13, train_loss: 0.013447137549519539, val_loss: 2.8361895084381104\n",
      "epoch: 13, train_acc: 0.9970213770866394, val_acc: 0.9856501817703247\n",
      "epoch: 14, train_loss: 0.0208586398512125, val_loss: 3.238297700881958\n",
      "epoch: 14, train_acc: 0.995697557926178, val_acc: 0.9784753322601318\n",
      "epoch: 15, train_loss: 0.011156103573739529, val_loss: 3.2999966144561768\n",
      "epoch: 15, train_acc: 0.9958630204200745, val_acc: 0.9802690148353577\n",
      "epoch: 16, train_loss: 0.010975008830428123, val_loss: 5.0777130126953125\n",
      "epoch: 16, train_acc: 0.9991726279258728, val_acc: 0.9847533106803894\n",
      "epoch: 17, train_loss: 0.00337865948677063, val_loss: 5.4922685623168945\n",
      "epoch: 17, train_acc: 0.9995036125183105, val_acc: 0.9847533106803894\n",
      "epoch: 18, train_loss: 0.004550111945718527, val_loss: 3.8595130443573\n",
      "epoch: 18, train_acc: 0.9963594675064087, val_acc: 0.9856501817703247\n",
      "epoch: 19, train_loss: 0.02170737460255623, val_loss: 2.8183751106262207\n",
      "epoch: 19, train_acc: 0.9980142712593079, val_acc: 0.98654705286026\n",
      "epoch: 20, train_loss: 0.0019146797712892294, val_loss: 5.556771278381348\n",
      "epoch: 20, train_acc: 0.9958630204200745, val_acc: 0.9838564991950989\n",
      "epoch: 21, train_loss: 0.0010500014759600163, val_loss: 4.393078327178955\n",
      "epoch: 21, train_acc: 1.0, val_acc: 0.9874439239501953\n",
      "epoch: 22, train_loss: 0.024387910962104797, val_loss: 1.780351996421814\n",
      "epoch: 22, train_acc: 0.9955320358276367, val_acc: 0.9874439239501953\n",
      "epoch: 23, train_loss: 0.009387603029608727, val_loss: 2.611306667327881\n",
      "epoch: 23, train_acc: 0.9998345375061035, val_acc: 0.9883407950401306\n",
      "epoch: 24, train_loss: 0.00171154853887856, val_loss: 3.2421274185180664\n",
      "epoch: 24, train_acc: 0.9998345375061035, val_acc: 0.9874439239501953\n",
      "epoch: 25, train_loss: 0.0004784887714777142, val_loss: 3.5806703567504883\n",
      "epoch: 25, train_acc: 1.0, val_acc: 0.9883407950401306\n",
      "epoch: 26, train_loss: 0.0001248793414561078, val_loss: 3.373203992843628\n",
      "epoch: 26, train_acc: 1.0, val_acc: 0.9883407950401306\n",
      "epoch: 27, train_loss: 0.00010052655125036836, val_loss: 3.660898208618164\n",
      "epoch: 27, train_acc: 1.0, val_acc: 0.98654705286026\n",
      "epoch: 28, train_loss: 5.065924415248446e-05, val_loss: 4.086893558502197\n",
      "epoch: 28, train_acc: 1.0, val_acc: 0.9883407950401306\n",
      "epoch: 29, train_loss: 0.00019577440980356187, val_loss: 7.241224765777588\n",
      "epoch: 29, train_acc: 0.9760053157806396, val_acc: 0.9820627570152283\n",
      "epoch: 30, train_loss: 0.03766186907887459, val_loss: 2.9910659790039062\n",
      "epoch: 30, train_acc: 0.9923879504203796, val_acc: 0.9775784611701965\n",
      "epoch: 31, train_loss: 0.02467629685997963, val_loss: 2.2889604568481445\n",
      "epoch: 31, train_acc: 0.9978488087654114, val_acc: 0.9838564991950989\n",
      "epoch: 32, train_loss: 0.002383209066465497, val_loss: 2.8696088790893555\n",
      "epoch: 32, train_acc: 1.0, val_acc: 0.9874439239501953\n",
      "epoch: 33, train_loss: 0.0005118990084156394, val_loss: 3.687548875808716\n",
      "epoch: 33, train_acc: 1.0, val_acc: 0.9874439239501953\n",
      "epoch: 34, train_loss: 0.00017695226415526122, val_loss: 4.01516580581665\n",
      "epoch: 34, train_acc: 1.0, val_acc: 0.98654705286026\n",
      "epoch: 35, train_loss: 0.0020041740499436855, val_loss: 2.8103647232055664\n",
      "epoch: 35, train_acc: 1.0, val_acc: 0.9892376661300659\n",
      "epoch: 36, train_loss: 0.00016364711336791515, val_loss: 3.983201026916504\n",
      "epoch: 36, train_acc: 1.0, val_acc: 0.9883407950401306\n",
      "epoch: 37, train_loss: 8.48655981826596e-05, val_loss: 3.480271577835083\n",
      "epoch: 37, train_acc: 1.0, val_acc: 0.9901344776153564\n",
      "epoch: 38, train_loss: 5.47554373042658e-05, val_loss: 3.8125391006469727\n",
      "epoch: 38, train_acc: 1.0, val_acc: 0.9901344776153564\n",
      "epoch: 39, train_loss: 4.241341957822442e-05, val_loss: 3.470660924911499\n",
      "epoch: 39, train_acc: 1.0, val_acc: 0.9901344776153564\n",
      "epoch: 40, train_loss: 3.5408993426244706e-05, val_loss: 4.220162391662598\n",
      "epoch: 40, train_acc: 1.0, val_acc: 0.9901344776153564\n",
      "epoch: 41, train_loss: 3.085673233726993e-05, val_loss: 3.53061842918396\n",
      "epoch: 41, train_acc: 1.0, val_acc: 0.9892376661300659\n",
      "epoch: 42, train_loss: 3.938671943615191e-05, val_loss: 3.582397699356079\n",
      "epoch: 42, train_acc: 1.0, val_acc: 0.9910313487052917\n",
      "epoch: 43, train_loss: 2.812556704157032e-05, val_loss: 3.706843137741089\n",
      "epoch: 43, train_acc: 1.0, val_acc: 0.9892376661300659\n",
      "epoch: 44, train_loss: 2.9004690077272244e-05, val_loss: 3.7998886108398438\n",
      "epoch: 44, train_acc: 1.0, val_acc: 0.9892376661300659\n",
      "epoch: 45, train_loss: 1.852951754699461e-05, val_loss: 4.137790203094482\n",
      "epoch: 45, train_acc: 1.0, val_acc: 0.9883407950401306\n",
      "epoch: 46, train_loss: 2.1907431801082566e-05, val_loss: 4.233451843261719\n",
      "epoch: 46, train_acc: 1.0, val_acc: 0.9883407950401306\n",
      "epoch: 47, train_loss: 1.9606321075116284e-05, val_loss: 3.731112003326416\n",
      "epoch: 47, train_acc: 1.0, val_acc: 0.9883407950401306\n",
      "epoch: 48, train_loss: 1.825635445129592e-05, val_loss: 4.102089881896973\n",
      "epoch: 48, train_acc: 1.0, val_acc: 0.9892376661300659\n",
      "epoch: 49, train_loss: 1.7575504898559302e-05, val_loss: 4.069412708282471\n",
      "epoch: 49, train_acc: 1.0, val_acc: 0.9883407950401306\n"
     ]
    }
   ],
   "source": [
    "# Test 5, high_num_layers, high_hid, high_lr, low_wd\n",
    "Test5_SpamClassifier = SimpleRNN(\n",
    "    corpus_size = len(text_field.vocab.itos), n_layers=low_num_layers, hidden_size=low_hid)\n",
    "Test5_model, Test5_loss_dict = train_loop(Test5_SpamClassifier, train_iter, val_iter, len(text_field.vocab.itos),\n",
    "                         num_epochs=50, val_epochs=1, learning_rate=high_lr+3e-4, weight_decay=low_wd+4e-6, acc_func=get_accuracy, plot_acc=True)\n"
   ]
  },
  {
   "cell_type": "code",
   "execution_count": 355,
   "metadata": {},
   "outputs": [
    {
     "data": {
      "image/png": "[encoded data removed]",
      "text/plain": [
       "<Figure size 640x480 with 1 Axes>"
      ]
     },
     "metadata": {},
     "output_type": "display_data"
    },
    {
     "data": {
      "image/png": "[encoded data removed]",
      "text/plain": [
       "<Figure size 640x480 with 1 Axes>"
      ]
     },
     "metadata": {},
     "output_type": "display_data"
    }
   ],
   "source": [
    "plot_acc_curves(Test5_loss_dict)\n",
    "plot_loss_curves(Test5_loss_dict)"
   ]
  },
  {
   "attachments": {},
   "cell_type": "markdown",
   "metadata": {},
   "source": [
    "**So with this set of hyperparameters, we were able to get a very stable $98.8\\%$ to $99.0\\%$ accuracy on the validation set.**"
   ]
  },
  {
   "cell_type": "code",
   "execution_count": 399,
   "metadata": {},
   "outputs": [
    {
     "name": "stderr",
     "output_type": "stream",
     "text": [
      "c:\\ProgramData\\Anaconda3\\envs\\pytorch-torchtext\\lib\\site-packages\\torch\\nn\\functional.py:1709: UserWarning: nn.functional.sigmoid is deprecated. Use torch.sigmoid instead.\n",
      "  warnings.warn(\"nn.functional.sigmoid is deprecated. Use torch.sigmoid instead.\")\n",
      "c:\\ProgramData\\Anaconda3\\envs\\pytorch-torchtext\\lib\\site-packages\\torch\\nn\\functional.py:1709: UserWarning: nn.functional.sigmoid is deprecated. Use torch.sigmoid instead.\n",
      "  warnings.warn(\"nn.functional.sigmoid is deprecated. Use torch.sigmoid instead.\")\n"
     ]
    }
   ],
   "source": [
    "# Sanity check for next part\n",
    "# Create a Dataset of only spam validation examples\n",
    "train_spam = torchtext.legacy.data.Dataset(\n",
    "    [e for e in train.examples if e.label == 1],\n",
    "    test.fields)\n",
    "\n",
    "train_spam_iter = torchtext.legacy.data.BucketIterator(train_spam,\n",
    "                                                       batch_size=32,\n",
    "                                                       # to minimize padding\n",
    "                                                       sort_key=lambda x: len(\n",
    "                                                           x.sms),\n",
    "                                                       sort_within_batch=True,        # sort within each batch\n",
    "                                                       repeat=False)                  # repeat the iterator for many epochs\n",
    "\n",
    "# Create a Dataset of only non-spam validation examples\n",
    "train_nospam = torchtext.legacy.data.Dataset(\n",
    "    [e for e in train.examples if e.label == 0],\n",
    "    test.fields)\n",
    "\n",
    "train_nospam_iter = torchtext.legacy.data.BucketIterator(train_nospam,\n",
    "                                                         batch_size=32,\n",
    "                                                         # to minimize padding\n",
    "                                                         sort_key=lambda x: len(\n",
    "                                                             x.sms),\n",
    "                                                         sort_within_batch=True,        # sort within each batch\n",
    "                                                         repeat=False)                  # repeat the iterator for many epochs\n",
    "train_spam_acc = get_accuracy(\n",
    "    Test5_model, train_spam_iter, len(text_field.vocab.itos), \"cuda:0\")\n",
    "train_nospam_acc = get_accuracy(\n",
    "    Test5_model, train_nospam_iter, len(text_field.vocab.itos), \"cuda:0\")\n",
    "train_acc = get_accuracy(Test5_model, train_iter,\n",
    "                         len(text_field.vocab.itos), \"cuda:0\")\n"
   ]
  },
  {
   "cell_type": "code",
   "execution_count": 393,
   "metadata": {},
   "outputs": [
    {
     "name": "stdout",
     "output_type": "stream",
     "text": [
      "3150 2893 0.99999994 1.0 1.0\n"
     ]
    }
   ],
   "source": [
    "print(len(train_spam), len(train_nospam), train_spam_acc.cpu().numpy(),\n",
    "      train_nospam_acc.cpu().numpy(), train_acc.cpu().numpy())\n"
   ]
  },
  {
   "cell_type": "code",
   "execution_count": 398,
   "metadata": {},
   "outputs": [
    {
     "name": "stdout",
     "output_type": "stream",
     "text": [
      "1.4188478170140684e-09 0\n"
     ]
    },
    {
     "name": "stderr",
     "output_type": "stream",
     "text": [
      "c:\\ProgramData\\Anaconda3\\envs\\pytorch-torchtext\\lib\\site-packages\\torch\\nn\\functional.py:1709: UserWarning: nn.functional.sigmoid is deprecated. Use torch.sigmoid instead.\n",
      "  warnings.warn(\"nn.functional.sigmoid is deprecated. Use torch.sigmoid instead.\")\n"
     ]
    }
   ],
   "source": [
    "train_spam_sanity_example = train_spam[10]\n",
    "train_spam_sanity = \"\".join([x for x in train_spam_sanity_example.sms])\n",
    "\n",
    "with torch.no_grad():\n",
    "    sms = torch.tensor([text_field.vocab.stoi[x] for x in train_spam_sanity]).unsqueeze(0)\n",
    "    data_processed = ident[sms].to(\"cuda:0\")\n",
    "    pred = Test5_model(data_processed)\n",
    "    pred = nn.functional.sigmoid(pred).reshape(-1)\n",
    "    pred_class = (pred>=0.5).float()\n",
    "    print(float(pred.cpu().numpy()), int(pred_class))"
   ]
  },
  {
   "cell_type": "markdown",
   "metadata": {
    "colab_type": "text",
    "id": "v7DY56rKa91I"
   },
   "source": [
    "### Part (d) [2 pt]\n",
    "\n",
    "Before we deploy a machine learning model, we usually want to have a better understanding\n",
    "of how our model performs beyond its validation accuracy. An important metric to track is\n",
    "*how well our model performs in certain subsets of the data*.\n",
    "\n",
    "In particular, what is the model's error rate amongst data with negative labels?\n",
    "This is called the **false positive rate**.\n",
    "\n",
    "What about the model's error rate amongst data with positive labels?\n",
    "This is called the **false negative rate**.\n",
    "\n",
    "Report your final model's false positive and false negative rate across the\n",
    "validation set."
   ]
  },
  {
   "cell_type": "code",
   "execution_count": 359,
   "metadata": {
    "colab": {},
    "colab_type": "code",
    "collapsed": true,
    "id": "7ggbQSdba91J",
    "jupyter": {
     "outputs_hidden": true
    }
   },
   "outputs": [
    {
     "name": "stderr",
     "output_type": "stream",
     "text": [
      "c:\\ProgramData\\Anaconda3\\envs\\pytorch-torchtext\\lib\\site-packages\\torch\\nn\\functional.py:1709: UserWarning: nn.functional.sigmoid is deprecated. Use torch.sigmoid instead.\n",
      "  warnings.warn(\"nn.functional.sigmoid is deprecated. Use torch.sigmoid instead.\")\n"
     ]
    }
   ],
   "source": [
    "# Create a Dataset of only spam validation examples\n",
    "valid_spam = torchtext.legacy.data.Dataset(\n",
    "    [e for e in val.examples if e.label == 1],\n",
    "    val.fields)\n",
    "\n",
    "val_spam_iter = torchtext.legacy.data.BucketIterator(valid_spam,\n",
    "                                                     batch_size=32,\n",
    "                                                     # to minimize padding\n",
    "                                                     sort_key=lambda x: len(\n",
    "                                                         x.sms),\n",
    "                                                     sort_within_batch=True,        # sort within each batch\n",
    "                                                     repeat=False)                  # repeat the iterator for many epochs\n",
    "\n",
    "# Create a Dataset of only non-spam validation examples\n",
    "valid_nospam = torchtext.legacy.data.Dataset(\n",
    "    [e for e in val.examples if e.label == 0],\n",
    "    val.fields)\n",
    "\n",
    "val_nospam_iter = torchtext.legacy.data.BucketIterator(valid_nospam,\n",
    "                                                     batch_size=32,\n",
    "                                                     # to minimize padding\n",
    "                                                     sort_key=lambda x: len(\n",
    "                                                         x.sms),\n",
    "                                                     sort_within_batch=True,        # sort within each batch\n",
    "                                                     repeat=False)                  # repeat the iterator for many epochs\n",
    "\n",
    "val_spam_acc = get_accuracy(model, val_spam_iter, len(text_field.vocab.itos), \"cuda:0\")\n",
    "val_nospam_acc = get_accuracy(model, val_nospam_iter, len(text_field.vocab.itos), \"cuda:0\")\n",
    "val_acc = get_accuracy(model, val_iter, len(text_field.vocab.itos), \"cuda:0\")"
   ]
  },
  {
   "cell_type": "code",
   "execution_count": 360,
   "metadata": {},
   "outputs": [
    {
     "name": "stdout",
     "output_type": "stream",
     "text": [
      "0.91891897 0.99069285 0.9856502\n"
     ]
    }
   ],
   "source": [
    "print(val_spam_acc.cpu().numpy(), val_nospam_acc.cpu().numpy(), val_acc.cpu().numpy())"
   ]
  },
  {
   "attachments": {},
   "cell_type": "markdown",
   "metadata": {},
   "source": [
    "The false positive rate was the complement of the accuracy on the no-spam validation data subset, $1-0.99069285=0.0093071500<1\\%$, since these were the wrongly classified as spam examples (predicted as spam but aren't). The false negative rate was the complement of the accuracy on the spam validation data subset, $1-0.91891897=0.08108103 \\approx 8\\%$, since these were the wrongly classified as not spam examples (predicted as not spam but are). "
   ]
  },
  {
   "cell_type": "markdown",
   "metadata": {
    "colab_type": "text",
    "id": "N1iRteb3a91O"
   },
   "source": [
    "### Part (e) [2 pt]\n",
    "\n",
    "The impact of a false positive vs a false negative can be drastically different.\n",
    "If our spam detection algorithm was deployed on your phone, what is the impact\n",
    "of a false positive on the phone's user? What is the impact of a false negative?"
   ]
  },
  {
   "attachments": {},
   "cell_type": "markdown",
   "metadata": {},
   "source": [
    "False positive means that we mistakenly classify a non-spam example as a spam text, while false negative means that we mistakenly classify a spam example as not spam. So the impact of a false positive may be that the user misses some text, which is possibly important, while the impact of a false negative is that a spam text is classified as safe, where the spam text could have dangerous content like phishing links. While the exact impact of a false positive versus false negative is not immediately and precisely clear without examining the \"average\" (or even distribution if possible) false positive versus false negative, generally extreme cases like phishing links could be more dangerous as being marked \"safe\" (not spam) than just having the user check their spam folder perodically. "
   ]
  },
  {
   "cell_type": "markdown",
   "metadata": {
    "colab_type": "text",
    "id": "Gznefulsa91V"
   },
   "source": [
    "## Part 4. Evaluation [11 pt]\n",
    "\n",
    "### Part (a) [1 pt]\n",
    "\n",
    "Report the final test accuracy of your model."
   ]
  },
  {
   "cell_type": "code",
   "execution_count": 361,
   "metadata": {
    "colab": {},
    "colab_type": "code",
    "collapsed": true,
    "id": "D5L5D-A1a91W",
    "jupyter": {
     "outputs_hidden": true
    }
   },
   "outputs": [],
   "source": [
    "test_acc = get_accuracy(Test5_model, test_iter, len(text_field.vocab.itos), \"cuda:0\")"
   ]
  },
  {
   "cell_type": "code",
   "execution_count": 362,
   "metadata": {},
   "outputs": [
    {
     "name": "stdout",
     "output_type": "stream",
     "text": [
      "Test Accuracy: 0.9865350127220154\n"
     ]
    }
   ],
   "source": [
    "print(f\"Test Accuracy: {test_acc.cpu().numpy()}\")"
   ]
  },
  {
   "cell_type": "markdown",
   "metadata": {
    "colab_type": "text",
    "id": "6Hjmd8rca91Y"
   },
   "source": [
    "### Part (b) [3 pt]\n",
    "\n",
    "Report the false positive rate and false negative rate of your model across the test set."
   ]
  },
  {
   "cell_type": "code",
   "execution_count": 364,
   "metadata": {
    "colab": {},
    "colab_type": "code",
    "collapsed": true,
    "id": "GFiAKztJa91Z",
    "jupyter": {
     "outputs_hidden": true
    }
   },
   "outputs": [],
   "source": [
    "# Create a Dataset of only spam validation examples\n",
    "test_spam = torchtext.legacy.data.Dataset(\n",
    "    [e for e in test.examples if e.label == 1],\n",
    "    test.fields)\n",
    "\n",
    "test_spam_iter = torchtext.legacy.data.BucketIterator(test_spam,\n",
    "                                                     batch_size=32,\n",
    "                                                     # to minimize padding\n",
    "                                                     sort_key=lambda x: len(\n",
    "                                                         x.sms),\n",
    "                                                     sort_within_batch=True,        # sort within each batch\n",
    "                                                     repeat=False)                  # repeat the iterator for many epochs\n",
    "\n",
    "# Create a Dataset of only non-spam validation examples\n",
    "test_nospam = torchtext.legacy.data.Dataset(\n",
    "    [e for e in test.examples if e.label == 0],\n",
    "    test.fields)\n",
    "\n",
    "test_nospam_iter = torchtext.legacy.data.BucketIterator(test_nospam,\n",
    "                                                     batch_size=32,\n",
    "                                                     # to minimize padding\n",
    "                                                     sort_key=lambda x: len(\n",
    "                                                         x.sms),\n",
    "                                                     sort_within_batch=True,        # sort within each batch\n",
    "                                                     repeat=False)                  # repeat the iterator for many epochs\n",
    "\n",
    "test_spam_acc = get_accuracy(Test5_model, test_spam_iter, len(text_field.vocab.itos), \"cuda:0\")\n",
    "test_nospam_acc = get_accuracy(Test5_model, test_nospam_iter, len(text_field.vocab.itos), \"cuda:0\")"
   ]
  },
  {
   "cell_type": "code",
   "execution_count": 365,
   "metadata": {},
   "outputs": [
    {
     "name": "stdout",
     "output_type": "stream",
     "text": [
      "0.90604025 0.995855 0.986535\n"
     ]
    }
   ],
   "source": [
    "print(test_spam_acc.cpu().numpy(), test_nospam_acc.cpu().numpy(), test_acc.cpu().numpy())"
   ]
  },
  {
   "attachments": {},
   "cell_type": "markdown",
   "metadata": {},
   "source": [
    "The false positive rate was the complement of the accuracy on the no-spam validation data subset, $1-0.995855=0.0041450000<1\\%$, since these were the wrongly classified as spam examples (predicted as spam but aren't). The false negative rate was the complement of the accuracy on the spam validation data subset, $1-0.90604025=0.09395975 \\approx 9\\%$, since these were the wrongly classified as not spam examples (predicted as not spam but are). "
   ]
  },
  {
   "cell_type": "markdown",
   "metadata": {
    "colab_type": "text",
    "id": "0jGHtQFpa91b"
   },
   "source": [
    "### Part (c) [3 pt]\n",
    "\n",
    "What is your model's prediction of the **probability** that\n",
    "the SMS message \"machine learning is sooo cool!\" is spam?\n",
    "\n",
    "Hint: To begin, use `text_field.vocab.stoi` to look up the index\n",
    "of each character in the vocabulary."
   ]
  },
  {
   "cell_type": "code",
   "execution_count": 400,
   "metadata": {
    "colab": {},
    "colab_type": "code",
    "collapsed": true,
    "id": "h_2nSJq8a91b",
    "jupyter": {
     "outputs_hidden": true
    }
   },
   "outputs": [
    {
     "data": {
      "text/plain": [
       "30"
      ]
     },
     "execution_count": 400,
     "metadata": {},
     "output_type": "execute_result"
    }
   ],
   "source": [
    "msg = \"machine learning is sooo cool!\"\n",
    "len(list(msg))"
   ]
  },
  {
   "cell_type": "code",
   "execution_count": 401,
   "metadata": {},
   "outputs": [
    {
     "name": "stdout",
     "output_type": "stream",
     "text": [
      "0.9999862909317017\n"
     ]
    }
   ],
   "source": [
    "with torch.no_grad():\n",
    "    sms = torch.tensor([text_field.vocab.stoi[x] for x in msg]).unsqueeze(0)\n",
    "    data_processed = ident[sms].to(\"cuda:0\")\n",
    "    pred = Test5_model(data_processed)\n",
    "    pred = nn.functional.sigmoid(pred).reshape(-1)\n",
    "    print(float(pred.cpu().numpy()))\n"
   ]
  },
  {
   "attachments": {},
   "cell_type": "markdown",
   "metadata": {},
   "source": [
    "The model predicts a greater than 99.99% probability that `msg` is not-spam (note that the `LabelField` maps the `spam` label to 0 because I left the vocabulary flag on). So the probability here is the conditional probability that the sms `msg` is not spam. **Thus on the contrary, there is a $1-0.9999862909317017 = 0.0000137091\\%$ probability that the message is spam as predicted by the model.**"
   ]
  },
  {
   "cell_type": "markdown",
   "metadata": {
    "colab_type": "text",
    "id": "QD1zgYJpa91f"
   },
   "source": [
    "### Part (d) [4 pt]\n",
    "\n",
    "Do you think detecting spam is an easy or difficult task?\n",
    "\n",
    "Since machine learning models are expensive to train and deploy, it is very\n",
    "important to compare our models against baseline models: a simple\n",
    "model that is easy to build and inexpensive to run that we can compare our\n",
    "recurrent neural network model against.\n",
    "\n",
    "Explain how you might build a simple baseline model. This baseline model\n",
    "can be a simple neural network (with very few weights), a hand-written algorithm,\n",
    "or any other strategy that is easy to build and test.\n",
    "\n",
    "**Do not actually build a baseline model. Instead, provide instructions on\n",
    "how to build it.**"
   ]
  },
  {
   "attachments": {},
   "cell_type": "markdown",
   "metadata": {},
   "source": [
    "As we can see from the model results, using modern architectures, spam classification with a high accuracy and low false positive/negative rate is very achievable. This is probably because spam messages almost always have some tells about them since they are trying to get you to often do something monetary. Consider the two spam sms messages: \n",
    "\n",
    "`Get the official ENGLAND poly ringtone or colour flag on yer mobile for tonights game! Text TONE or FLAG to 84199. Optout txt ENG STOP Box39822 W111WX £1.50`\n",
    "\n",
    "`8007 25p 4 Alfie Moon's Children in Need song on ur mob. Tell ur m8s. Txt TONE CHARITY to 8007 for nokias or POLY CHARITY for polys :zed 08701417012 profit 2 charity`\n",
    "\n",
    "In both cases, words like \"profit\" and \"£1.50\" are fairly obvious clues that these are spam messages. In other words, there are semantic clues to spam messages. So on a more theoretical level, if we were to perform maximum likelihood estimation (e.g., use a `BCEWithLogitsLoss` for training), then it follows that our model weights should capture the semantical meanings. This would be in contrast to tasks like generative modelling, where the goal is to learn an entire distribution, an often intractable task.\n",
    "\n",
    "So as a baseline model, since there are easy \"tells\" for when a text is spam, we could even go with relatively (in comparison to RNNs) parsimonious ensemble tree models, e.g., XGBoost or Adaboost. This would be trained similarly to a neural network and the hyperparameter tuning process could be the same. The training objective would be to find the best possible splits across characters or words that best minimize some criterion like Gini impurity or entropy. In the case of a tree-based baseline model, we may opt for the word as features since that would help keep dimensionality low and result in needing a lower tree depth (less splits needed to get a good classification of sms). Ensemble models (e.g., those that implement majority voting via boosting and bootstrap aggregation) are usually quite powerful and actually win a lot of Kaggle competitions, also they have the benefit of being quick to train and infer on usually. Thus, we could have a fairly \"strong\" baseline model that is advantageous over a \"weak\" baseline model (some neural network with a single hidden layer), which could give us a false sense of ability for the RNN model. "
   ]
  }
 ],
 "metadata": {
  "colab": {
   "collapsed_sections": [],
   "name": "Lab 5 - Spam Detection.ipynb",
   "provenance": []
  },
  "kernelspec": {
   "display_name": "pytorch-torchtext",
   "language": "python",
   "name": "python3"
  },
  "language_info": {
   "codemirror_mode": {
    "name": "ipython",
    "version": 3
   },
   "file_extension": ".py",
   "mimetype": "text/x-python",
   "name": "python",
   "nbconvert_exporter": "python",
   "pygments_lexer": "ipython3",
   "version": "3.8.16"
  },
  "vscode": {
   "interpreter": {
    "hash": "692ca01591f6d72c9413ff29d78850b8341418a7a425961861dd2ab8acbf8329"
   }
  }
 },
 "nbformat": 4,
 "nbformat_minor": 4
}
